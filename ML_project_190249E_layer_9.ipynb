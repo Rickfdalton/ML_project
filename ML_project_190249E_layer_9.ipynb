{
  "nbformat": 4,
  "nbformat_minor": 0,
  "metadata": {
    "colab": {
      "provenance": []
    },
    "kernelspec": {
      "name": "python3",
      "display_name": "Python 3"
    },
    "language_info": {
      "name": "python"
    }
  },
  "cells": [
    {
      "cell_type": "code",
      "source": [
        "import pandas as pd\n",
        "import numpy as np\n",
        "from scipy import stats\n"
      ],
      "metadata": {
        "id": "UoJOjC_NYebP"
      },
      "execution_count": 41,
      "outputs": []
    },
    {
      "cell_type": "code",
      "execution_count": 42,
      "metadata": {
        "colab": {
          "base_uri": "https://localhost:8080/"
        },
        "id": "Lo67IGByUZIe",
        "outputId": "3b90d1b4-8256-4c33-8e98-44d1fd2f3543"
      },
      "outputs": [
        {
          "output_type": "stream",
          "name": "stdout",
          "text": [
            "Drive already mounted at /content/drive; to attempt to forcibly remount, call drive.mount(\"/content/drive\", force_remount=True).\n"
          ]
        }
      ],
      "source": [
        "from google.colab import drive\n",
        "drive.mount('/content/drive')"
      ]
    },
    {
      "cell_type": "code",
      "source": [
        "df = pd.read_csv('/content/drive/MyDrive/layer-9/train.csv')\n",
        "valid = pd.read_csv('/content/drive/MyDrive/layer-9/valid.csv')\n",
        "test = pd.read_csv('/content/drive/MyDrive/layer-9/test.csv')\n"
      ],
      "metadata": {
        "id": "gxZNovtUY5Nu"
      },
      "execution_count": 43,
      "outputs": []
    },
    {
      "cell_type": "code",
      "source": [
        "df"
      ],
      "metadata": {
        "colab": {
          "base_uri": "https://localhost:8080/",
          "height": 444
        },
        "id": "bx3dncxLZpHx",
        "outputId": "5e492df5-14cb-4ccb-d3ad-422bfc69d10e"
      },
      "execution_count": 44,
      "outputs": [
        {
          "output_type": "execute_result",
          "data": {
            "text/plain": [
              "       feature_1  feature_2  feature_3  feature_4  feature_5  feature_6  \\\n",
              "0       0.019301   0.059756   0.081375   0.057481  -0.068440  -0.165913   \n",
              "1       0.049741   0.090030   0.035118  -0.013676  -0.194317  -0.101763   \n",
              "2       0.019212   0.087779   0.093907  -0.033738  -0.141409  -0.062881   \n",
              "3       0.070283   0.049040   0.042126   0.122637  -0.056964  -0.113700   \n",
              "4       0.028864   0.165634   0.016302   0.036117  -0.028871  -0.147748   \n",
              "...          ...        ...        ...        ...        ...        ...   \n",
              "28515  -0.041520   0.302638   0.004811   0.211441  -0.249326  -0.113395   \n",
              "28516  -0.056359   0.061850   0.051865   0.032107  -0.005930  -0.040313   \n",
              "28517   0.019361   0.148111   0.093434   0.011795  -0.074029  -0.077628   \n",
              "28518  -0.043644   0.084073   0.074749   0.091776  -0.090782  -0.163187   \n",
              "28519  -0.039625   0.159638   0.042608   0.046212  -0.025058  -0.143171   \n",
              "\n",
              "       feature_7  feature_8  feature_9  feature_10  ...  feature_763  \\\n",
              "0       0.035643  -0.091138   0.021688    0.057158  ...    -0.035576   \n",
              "1       0.085875  -0.081317   0.112418    0.120523  ...     0.020538   \n",
              "2      -0.071402  -0.006599   0.020372   -0.027777  ...     0.119645   \n",
              "3       0.108454   0.051336   0.086610    0.141578  ...    -0.124494   \n",
              "4       0.053180   0.025071  -0.004200   -0.022183  ...    -0.124862   \n",
              "...          ...        ...        ...         ...  ...          ...   \n",
              "28515  -0.146776  -0.146222  -0.040344   -0.124016  ...     0.290069   \n",
              "28516   0.117453  -0.067553   0.045004    0.035735  ...     0.004518   \n",
              "28517   0.049933  -0.096354   0.138556    0.130414  ...     0.014918   \n",
              "28518  -0.012568  -0.051021   0.038726    0.011009  ...    -0.098420   \n",
              "28519   0.111391  -0.109869   0.020852    0.152014  ...    -0.000068   \n",
              "\n",
              "       feature_764  feature_765  feature_766  feature_767  feature_768  \\\n",
              "0         0.127319     0.098128    -0.058787     0.100971    -0.047754   \n",
              "1         0.058968     0.029803     0.111324     0.036727     0.031927   \n",
              "2        -0.040861     0.000548    -0.061003    -0.042450     0.063340   \n",
              "3        -0.169225    -0.046391     0.148787     0.014616    -0.140644   \n",
              "4         0.044907     0.084005    -0.038450     0.084371    -0.072146   \n",
              "...            ...          ...          ...          ...          ...   \n",
              "28515    -0.223051    -0.053575    -0.230222    -0.451943     0.117817   \n",
              "28516     0.035248    -0.047345    -0.006539    -0.025633     0.002474   \n",
              "28517     0.015676    -0.033608     0.068212     0.049871    -0.027607   \n",
              "28518     0.113067     0.028218     0.036682     0.030056    -0.084346   \n",
              "28519     0.111601    -0.065572     0.155703    -0.016872    -0.020940   \n",
              "\n",
              "       label_1  label_2  label_3  label_4  \n",
              "0           45      NaN        1        6  \n",
              "1           45      NaN        1        6  \n",
              "2           45      NaN        1        6  \n",
              "3           45      NaN        1        6  \n",
              "4           45      NaN        1        6  \n",
              "...        ...      ...      ...      ...  \n",
              "28515       39     29.0        1        6  \n",
              "28516       39     29.0        1        6  \n",
              "28517       39     29.0        1        6  \n",
              "28518       39     29.0        1        6  \n",
              "28519       39     29.0        1        6  \n",
              "\n",
              "[28520 rows x 772 columns]"
            ],
            "text/html": [
              "\n",
              "  <div id=\"df-6c231c5b-6ef0-4b00-a1ef-cc022c0be9ce\" class=\"colab-df-container\">\n",
              "    <div>\n",
              "<style scoped>\n",
              "    .dataframe tbody tr th:only-of-type {\n",
              "        vertical-align: middle;\n",
              "    }\n",
              "\n",
              "    .dataframe tbody tr th {\n",
              "        vertical-align: top;\n",
              "    }\n",
              "\n",
              "    .dataframe thead th {\n",
              "        text-align: right;\n",
              "    }\n",
              "</style>\n",
              "<table border=\"1\" class=\"dataframe\">\n",
              "  <thead>\n",
              "    <tr style=\"text-align: right;\">\n",
              "      <th></th>\n",
              "      <th>feature_1</th>\n",
              "      <th>feature_2</th>\n",
              "      <th>feature_3</th>\n",
              "      <th>feature_4</th>\n",
              "      <th>feature_5</th>\n",
              "      <th>feature_6</th>\n",
              "      <th>feature_7</th>\n",
              "      <th>feature_8</th>\n",
              "      <th>feature_9</th>\n",
              "      <th>feature_10</th>\n",
              "      <th>...</th>\n",
              "      <th>feature_763</th>\n",
              "      <th>feature_764</th>\n",
              "      <th>feature_765</th>\n",
              "      <th>feature_766</th>\n",
              "      <th>feature_767</th>\n",
              "      <th>feature_768</th>\n",
              "      <th>label_1</th>\n",
              "      <th>label_2</th>\n",
              "      <th>label_3</th>\n",
              "      <th>label_4</th>\n",
              "    </tr>\n",
              "  </thead>\n",
              "  <tbody>\n",
              "    <tr>\n",
              "      <th>0</th>\n",
              "      <td>0.019301</td>\n",
              "      <td>0.059756</td>\n",
              "      <td>0.081375</td>\n",
              "      <td>0.057481</td>\n",
              "      <td>-0.068440</td>\n",
              "      <td>-0.165913</td>\n",
              "      <td>0.035643</td>\n",
              "      <td>-0.091138</td>\n",
              "      <td>0.021688</td>\n",
              "      <td>0.057158</td>\n",
              "      <td>...</td>\n",
              "      <td>-0.035576</td>\n",
              "      <td>0.127319</td>\n",
              "      <td>0.098128</td>\n",
              "      <td>-0.058787</td>\n",
              "      <td>0.100971</td>\n",
              "      <td>-0.047754</td>\n",
              "      <td>45</td>\n",
              "      <td>NaN</td>\n",
              "      <td>1</td>\n",
              "      <td>6</td>\n",
              "    </tr>\n",
              "    <tr>\n",
              "      <th>1</th>\n",
              "      <td>0.049741</td>\n",
              "      <td>0.090030</td>\n",
              "      <td>0.035118</td>\n",
              "      <td>-0.013676</td>\n",
              "      <td>-0.194317</td>\n",
              "      <td>-0.101763</td>\n",
              "      <td>0.085875</td>\n",
              "      <td>-0.081317</td>\n",
              "      <td>0.112418</td>\n",
              "      <td>0.120523</td>\n",
              "      <td>...</td>\n",
              "      <td>0.020538</td>\n",
              "      <td>0.058968</td>\n",
              "      <td>0.029803</td>\n",
              "      <td>0.111324</td>\n",
              "      <td>0.036727</td>\n",
              "      <td>0.031927</td>\n",
              "      <td>45</td>\n",
              "      <td>NaN</td>\n",
              "      <td>1</td>\n",
              "      <td>6</td>\n",
              "    </tr>\n",
              "    <tr>\n",
              "      <th>2</th>\n",
              "      <td>0.019212</td>\n",
              "      <td>0.087779</td>\n",
              "      <td>0.093907</td>\n",
              "      <td>-0.033738</td>\n",
              "      <td>-0.141409</td>\n",
              "      <td>-0.062881</td>\n",
              "      <td>-0.071402</td>\n",
              "      <td>-0.006599</td>\n",
              "      <td>0.020372</td>\n",
              "      <td>-0.027777</td>\n",
              "      <td>...</td>\n",
              "      <td>0.119645</td>\n",
              "      <td>-0.040861</td>\n",
              "      <td>0.000548</td>\n",
              "      <td>-0.061003</td>\n",
              "      <td>-0.042450</td>\n",
              "      <td>0.063340</td>\n",
              "      <td>45</td>\n",
              "      <td>NaN</td>\n",
              "      <td>1</td>\n",
              "      <td>6</td>\n",
              "    </tr>\n",
              "    <tr>\n",
              "      <th>3</th>\n",
              "      <td>0.070283</td>\n",
              "      <td>0.049040</td>\n",
              "      <td>0.042126</td>\n",
              "      <td>0.122637</td>\n",
              "      <td>-0.056964</td>\n",
              "      <td>-0.113700</td>\n",
              "      <td>0.108454</td>\n",
              "      <td>0.051336</td>\n",
              "      <td>0.086610</td>\n",
              "      <td>0.141578</td>\n",
              "      <td>...</td>\n",
              "      <td>-0.124494</td>\n",
              "      <td>-0.169225</td>\n",
              "      <td>-0.046391</td>\n",
              "      <td>0.148787</td>\n",
              "      <td>0.014616</td>\n",
              "      <td>-0.140644</td>\n",
              "      <td>45</td>\n",
              "      <td>NaN</td>\n",
              "      <td>1</td>\n",
              "      <td>6</td>\n",
              "    </tr>\n",
              "    <tr>\n",
              "      <th>4</th>\n",
              "      <td>0.028864</td>\n",
              "      <td>0.165634</td>\n",
              "      <td>0.016302</td>\n",
              "      <td>0.036117</td>\n",
              "      <td>-0.028871</td>\n",
              "      <td>-0.147748</td>\n",
              "      <td>0.053180</td>\n",
              "      <td>0.025071</td>\n",
              "      <td>-0.004200</td>\n",
              "      <td>-0.022183</td>\n",
              "      <td>...</td>\n",
              "      <td>-0.124862</td>\n",
              "      <td>0.044907</td>\n",
              "      <td>0.084005</td>\n",
              "      <td>-0.038450</td>\n",
              "      <td>0.084371</td>\n",
              "      <td>-0.072146</td>\n",
              "      <td>45</td>\n",
              "      <td>NaN</td>\n",
              "      <td>1</td>\n",
              "      <td>6</td>\n",
              "    </tr>\n",
              "    <tr>\n",
              "      <th>...</th>\n",
              "      <td>...</td>\n",
              "      <td>...</td>\n",
              "      <td>...</td>\n",
              "      <td>...</td>\n",
              "      <td>...</td>\n",
              "      <td>...</td>\n",
              "      <td>...</td>\n",
              "      <td>...</td>\n",
              "      <td>...</td>\n",
              "      <td>...</td>\n",
              "      <td>...</td>\n",
              "      <td>...</td>\n",
              "      <td>...</td>\n",
              "      <td>...</td>\n",
              "      <td>...</td>\n",
              "      <td>...</td>\n",
              "      <td>...</td>\n",
              "      <td>...</td>\n",
              "      <td>...</td>\n",
              "      <td>...</td>\n",
              "      <td>...</td>\n",
              "    </tr>\n",
              "    <tr>\n",
              "      <th>28515</th>\n",
              "      <td>-0.041520</td>\n",
              "      <td>0.302638</td>\n",
              "      <td>0.004811</td>\n",
              "      <td>0.211441</td>\n",
              "      <td>-0.249326</td>\n",
              "      <td>-0.113395</td>\n",
              "      <td>-0.146776</td>\n",
              "      <td>-0.146222</td>\n",
              "      <td>-0.040344</td>\n",
              "      <td>-0.124016</td>\n",
              "      <td>...</td>\n",
              "      <td>0.290069</td>\n",
              "      <td>-0.223051</td>\n",
              "      <td>-0.053575</td>\n",
              "      <td>-0.230222</td>\n",
              "      <td>-0.451943</td>\n",
              "      <td>0.117817</td>\n",
              "      <td>39</td>\n",
              "      <td>29.0</td>\n",
              "      <td>1</td>\n",
              "      <td>6</td>\n",
              "    </tr>\n",
              "    <tr>\n",
              "      <th>28516</th>\n",
              "      <td>-0.056359</td>\n",
              "      <td>0.061850</td>\n",
              "      <td>0.051865</td>\n",
              "      <td>0.032107</td>\n",
              "      <td>-0.005930</td>\n",
              "      <td>-0.040313</td>\n",
              "      <td>0.117453</td>\n",
              "      <td>-0.067553</td>\n",
              "      <td>0.045004</td>\n",
              "      <td>0.035735</td>\n",
              "      <td>...</td>\n",
              "      <td>0.004518</td>\n",
              "      <td>0.035248</td>\n",
              "      <td>-0.047345</td>\n",
              "      <td>-0.006539</td>\n",
              "      <td>-0.025633</td>\n",
              "      <td>0.002474</td>\n",
              "      <td>39</td>\n",
              "      <td>29.0</td>\n",
              "      <td>1</td>\n",
              "      <td>6</td>\n",
              "    </tr>\n",
              "    <tr>\n",
              "      <th>28517</th>\n",
              "      <td>0.019361</td>\n",
              "      <td>0.148111</td>\n",
              "      <td>0.093434</td>\n",
              "      <td>0.011795</td>\n",
              "      <td>-0.074029</td>\n",
              "      <td>-0.077628</td>\n",
              "      <td>0.049933</td>\n",
              "      <td>-0.096354</td>\n",
              "      <td>0.138556</td>\n",
              "      <td>0.130414</td>\n",
              "      <td>...</td>\n",
              "      <td>0.014918</td>\n",
              "      <td>0.015676</td>\n",
              "      <td>-0.033608</td>\n",
              "      <td>0.068212</td>\n",
              "      <td>0.049871</td>\n",
              "      <td>-0.027607</td>\n",
              "      <td>39</td>\n",
              "      <td>29.0</td>\n",
              "      <td>1</td>\n",
              "      <td>6</td>\n",
              "    </tr>\n",
              "    <tr>\n",
              "      <th>28518</th>\n",
              "      <td>-0.043644</td>\n",
              "      <td>0.084073</td>\n",
              "      <td>0.074749</td>\n",
              "      <td>0.091776</td>\n",
              "      <td>-0.090782</td>\n",
              "      <td>-0.163187</td>\n",
              "      <td>-0.012568</td>\n",
              "      <td>-0.051021</td>\n",
              "      <td>0.038726</td>\n",
              "      <td>0.011009</td>\n",
              "      <td>...</td>\n",
              "      <td>-0.098420</td>\n",
              "      <td>0.113067</td>\n",
              "      <td>0.028218</td>\n",
              "      <td>0.036682</td>\n",
              "      <td>0.030056</td>\n",
              "      <td>-0.084346</td>\n",
              "      <td>39</td>\n",
              "      <td>29.0</td>\n",
              "      <td>1</td>\n",
              "      <td>6</td>\n",
              "    </tr>\n",
              "    <tr>\n",
              "      <th>28519</th>\n",
              "      <td>-0.039625</td>\n",
              "      <td>0.159638</td>\n",
              "      <td>0.042608</td>\n",
              "      <td>0.046212</td>\n",
              "      <td>-0.025058</td>\n",
              "      <td>-0.143171</td>\n",
              "      <td>0.111391</td>\n",
              "      <td>-0.109869</td>\n",
              "      <td>0.020852</td>\n",
              "      <td>0.152014</td>\n",
              "      <td>...</td>\n",
              "      <td>-0.000068</td>\n",
              "      <td>0.111601</td>\n",
              "      <td>-0.065572</td>\n",
              "      <td>0.155703</td>\n",
              "      <td>-0.016872</td>\n",
              "      <td>-0.020940</td>\n",
              "      <td>39</td>\n",
              "      <td>29.0</td>\n",
              "      <td>1</td>\n",
              "      <td>6</td>\n",
              "    </tr>\n",
              "  </tbody>\n",
              "</table>\n",
              "<p>28520 rows × 772 columns</p>\n",
              "</div>\n",
              "    <div class=\"colab-df-buttons\">\n",
              "\n",
              "  <div class=\"colab-df-container\">\n",
              "    <button class=\"colab-df-convert\" onclick=\"convertToInteractive('df-6c231c5b-6ef0-4b00-a1ef-cc022c0be9ce')\"\n",
              "            title=\"Convert this dataframe to an interactive table.\"\n",
              "            style=\"display:none;\">\n",
              "\n",
              "  <svg xmlns=\"http://www.w3.org/2000/svg\" height=\"24px\" viewBox=\"0 -960 960 960\">\n",
              "    <path d=\"M120-120v-720h720v720H120Zm60-500h600v-160H180v160Zm220 220h160v-160H400v160Zm0 220h160v-160H400v160ZM180-400h160v-160H180v160Zm440 0h160v-160H620v160ZM180-180h160v-160H180v160Zm440 0h160v-160H620v160Z\"/>\n",
              "  </svg>\n",
              "    </button>\n",
              "\n",
              "  <style>\n",
              "    .colab-df-container {\n",
              "      display:flex;\n",
              "      gap: 12px;\n",
              "    }\n",
              "\n",
              "    .colab-df-convert {\n",
              "      background-color: #E8F0FE;\n",
              "      border: none;\n",
              "      border-radius: 50%;\n",
              "      cursor: pointer;\n",
              "      display: none;\n",
              "      fill: #1967D2;\n",
              "      height: 32px;\n",
              "      padding: 0 0 0 0;\n",
              "      width: 32px;\n",
              "    }\n",
              "\n",
              "    .colab-df-convert:hover {\n",
              "      background-color: #E2EBFA;\n",
              "      box-shadow: 0px 1px 2px rgba(60, 64, 67, 0.3), 0px 1px 3px 1px rgba(60, 64, 67, 0.15);\n",
              "      fill: #174EA6;\n",
              "    }\n",
              "\n",
              "    .colab-df-buttons div {\n",
              "      margin-bottom: 4px;\n",
              "    }\n",
              "\n",
              "    [theme=dark] .colab-df-convert {\n",
              "      background-color: #3B4455;\n",
              "      fill: #D2E3FC;\n",
              "    }\n",
              "\n",
              "    [theme=dark] .colab-df-convert:hover {\n",
              "      background-color: #434B5C;\n",
              "      box-shadow: 0px 1px 3px 1px rgba(0, 0, 0, 0.15);\n",
              "      filter: drop-shadow(0px 1px 2px rgba(0, 0, 0, 0.3));\n",
              "      fill: #FFFFFF;\n",
              "    }\n",
              "  </style>\n",
              "\n",
              "    <script>\n",
              "      const buttonEl =\n",
              "        document.querySelector('#df-6c231c5b-6ef0-4b00-a1ef-cc022c0be9ce button.colab-df-convert');\n",
              "      buttonEl.style.display =\n",
              "        google.colab.kernel.accessAllowed ? 'block' : 'none';\n",
              "\n",
              "      async function convertToInteractive(key) {\n",
              "        const element = document.querySelector('#df-6c231c5b-6ef0-4b00-a1ef-cc022c0be9ce');\n",
              "        const dataTable =\n",
              "          await google.colab.kernel.invokeFunction('convertToInteractive',\n",
              "                                                    [key], {});\n",
              "        if (!dataTable) return;\n",
              "\n",
              "        const docLinkHtml = 'Like what you see? Visit the ' +\n",
              "          '<a target=\"_blank\" href=https://colab.research.google.com/notebooks/data_table.ipynb>data table notebook</a>'\n",
              "          + ' to learn more about interactive tables.';\n",
              "        element.innerHTML = '';\n",
              "        dataTable['output_type'] = 'display_data';\n",
              "        await google.colab.output.renderOutput(dataTable, element);\n",
              "        const docLink = document.createElement('div');\n",
              "        docLink.innerHTML = docLinkHtml;\n",
              "        element.appendChild(docLink);\n",
              "      }\n",
              "    </script>\n",
              "  </div>\n",
              "\n",
              "\n",
              "<div id=\"df-2c06b90b-e2f9-467d-89cb-1d08ce76b8f6\">\n",
              "  <button class=\"colab-df-quickchart\" onclick=\"quickchart('df-2c06b90b-e2f9-467d-89cb-1d08ce76b8f6')\"\n",
              "            title=\"Suggest charts.\"\n",
              "            style=\"display:none;\">\n",
              "\n",
              "<svg xmlns=\"http://www.w3.org/2000/svg\" height=\"24px\"viewBox=\"0 0 24 24\"\n",
              "     width=\"24px\">\n",
              "    <g>\n",
              "        <path d=\"M19 3H5c-1.1 0-2 .9-2 2v14c0 1.1.9 2 2 2h14c1.1 0 2-.9 2-2V5c0-1.1-.9-2-2-2zM9 17H7v-7h2v7zm4 0h-2V7h2v10zm4 0h-2v-4h2v4z\"/>\n",
              "    </g>\n",
              "</svg>\n",
              "  </button>\n",
              "\n",
              "<style>\n",
              "  .colab-df-quickchart {\n",
              "      --bg-color: #E8F0FE;\n",
              "      --fill-color: #1967D2;\n",
              "      --hover-bg-color: #E2EBFA;\n",
              "      --hover-fill-color: #174EA6;\n",
              "      --disabled-fill-color: #AAA;\n",
              "      --disabled-bg-color: #DDD;\n",
              "  }\n",
              "\n",
              "  [theme=dark] .colab-df-quickchart {\n",
              "      --bg-color: #3B4455;\n",
              "      --fill-color: #D2E3FC;\n",
              "      --hover-bg-color: #434B5C;\n",
              "      --hover-fill-color: #FFFFFF;\n",
              "      --disabled-bg-color: #3B4455;\n",
              "      --disabled-fill-color: #666;\n",
              "  }\n",
              "\n",
              "  .colab-df-quickchart {\n",
              "    background-color: var(--bg-color);\n",
              "    border: none;\n",
              "    border-radius: 50%;\n",
              "    cursor: pointer;\n",
              "    display: none;\n",
              "    fill: var(--fill-color);\n",
              "    height: 32px;\n",
              "    padding: 0;\n",
              "    width: 32px;\n",
              "  }\n",
              "\n",
              "  .colab-df-quickchart:hover {\n",
              "    background-color: var(--hover-bg-color);\n",
              "    box-shadow: 0 1px 2px rgba(60, 64, 67, 0.3), 0 1px 3px 1px rgba(60, 64, 67, 0.15);\n",
              "    fill: var(--button-hover-fill-color);\n",
              "  }\n",
              "\n",
              "  .colab-df-quickchart-complete:disabled,\n",
              "  .colab-df-quickchart-complete:disabled:hover {\n",
              "    background-color: var(--disabled-bg-color);\n",
              "    fill: var(--disabled-fill-color);\n",
              "    box-shadow: none;\n",
              "  }\n",
              "\n",
              "  .colab-df-spinner {\n",
              "    border: 2px solid var(--fill-color);\n",
              "    border-color: transparent;\n",
              "    border-bottom-color: var(--fill-color);\n",
              "    animation:\n",
              "      spin 1s steps(1) infinite;\n",
              "  }\n",
              "\n",
              "  @keyframes spin {\n",
              "    0% {\n",
              "      border-color: transparent;\n",
              "      border-bottom-color: var(--fill-color);\n",
              "      border-left-color: var(--fill-color);\n",
              "    }\n",
              "    20% {\n",
              "      border-color: transparent;\n",
              "      border-left-color: var(--fill-color);\n",
              "      border-top-color: var(--fill-color);\n",
              "    }\n",
              "    30% {\n",
              "      border-color: transparent;\n",
              "      border-left-color: var(--fill-color);\n",
              "      border-top-color: var(--fill-color);\n",
              "      border-right-color: var(--fill-color);\n",
              "    }\n",
              "    40% {\n",
              "      border-color: transparent;\n",
              "      border-right-color: var(--fill-color);\n",
              "      border-top-color: var(--fill-color);\n",
              "    }\n",
              "    60% {\n",
              "      border-color: transparent;\n",
              "      border-right-color: var(--fill-color);\n",
              "    }\n",
              "    80% {\n",
              "      border-color: transparent;\n",
              "      border-right-color: var(--fill-color);\n",
              "      border-bottom-color: var(--fill-color);\n",
              "    }\n",
              "    90% {\n",
              "      border-color: transparent;\n",
              "      border-bottom-color: var(--fill-color);\n",
              "    }\n",
              "  }\n",
              "</style>\n",
              "\n",
              "  <script>\n",
              "    async function quickchart(key) {\n",
              "      const quickchartButtonEl =\n",
              "        document.querySelector('#' + key + ' button');\n",
              "      quickchartButtonEl.disabled = true;  // To prevent multiple clicks.\n",
              "      quickchartButtonEl.classList.add('colab-df-spinner');\n",
              "      try {\n",
              "        const charts = await google.colab.kernel.invokeFunction(\n",
              "            'suggestCharts', [key], {});\n",
              "      } catch (error) {\n",
              "        console.error('Error during call to suggestCharts:', error);\n",
              "      }\n",
              "      quickchartButtonEl.classList.remove('colab-df-spinner');\n",
              "      quickchartButtonEl.classList.add('colab-df-quickchart-complete');\n",
              "    }\n",
              "    (() => {\n",
              "      let quickchartButtonEl =\n",
              "        document.querySelector('#df-2c06b90b-e2f9-467d-89cb-1d08ce76b8f6 button');\n",
              "      quickchartButtonEl.style.display =\n",
              "        google.colab.kernel.accessAllowed ? 'block' : 'none';\n",
              "    })();\n",
              "  </script>\n",
              "</div>\n",
              "    </div>\n",
              "  </div>\n"
            ]
          },
          "metadata": {},
          "execution_count": 44
        }
      ]
    },
    {
      "cell_type": "markdown",
      "source": [
        "## **Pre-processing**"
      ],
      "metadata": {
        "id": "I8IwkUlNdcaj"
      }
    },
    {
      "cell_type": "code",
      "source": [
        "# Count missing values in the selected label column\n",
        "missing_values_label_1 = df[\"label_1\"].isnull().sum()\n",
        "missing_values_label_2 = df[\"label_2\"].isnull().sum()\n",
        "missing_values_label_3 = df[\"label_3\"].isnull().sum()\n",
        "missing_values_label_4 = df[\"label_4\"].isnull().sum()\n",
        "\n",
        "print(missing_values_label_1)\n",
        "print(missing_values_label_2)\n",
        "print(missing_values_label_3)\n",
        "print(missing_values_label_4)\n"
      ],
      "metadata": {
        "colab": {
          "base_uri": "https://localhost:8080/"
        },
        "id": "NJs4ZO9rZwaB",
        "outputId": "cf03cdd6-def1-462a-db9b-e70854c3ed87"
      },
      "execution_count": 45,
      "outputs": [
        {
          "output_type": "stream",
          "name": "stdout",
          "text": [
            "0\n",
            "480\n",
            "0\n",
            "0\n"
          ]
        }
      ]
    },
    {
      "cell_type": "code",
      "source": [
        "#filling missing values with mode\n",
        "print(df.label_2.value_counts())\n",
        "print(df.label_3.value_counts())\n",
        "print(df.label_4.value_counts())\n",
        "\n",
        "\n"
      ],
      "metadata": {
        "colab": {
          "base_uri": "https://localhost:8080/"
        },
        "id": "vRVM2uZpd_tU",
        "outputId": "e696b266-165b-41eb-e519-3c8920089e40"
      },
      "execution_count": 46,
      "outputs": [
        {
          "output_type": "stream",
          "name": "stdout",
          "text": [
            "26.0    4762\n",
            "25.0    2849\n",
            "27.0    2846\n",
            "23.0    2842\n",
            "31.0    2385\n",
            "24.0    1906\n",
            "28.0    1899\n",
            "30.0    1894\n",
            "22.0    1432\n",
            "29.0    1424\n",
            "33.0     945\n",
            "36.0     481\n",
            "35.0     480\n",
            "34.0     478\n",
            "32.0     476\n",
            "41.0     474\n",
            "61.0     467\n",
            "Name: label_2, dtype: int64\n",
            "1    22796\n",
            "0     5724\n",
            "Name: label_3, dtype: int64\n",
            "6     19938\n",
            "2      1449\n",
            "0       955\n",
            "12      954\n",
            "7       938\n",
            "13      482\n",
            "1       481\n",
            "11      480\n",
            "10      480\n",
            "3       479\n",
            "5       478\n",
            "9       472\n",
            "4       469\n",
            "8       465\n",
            "Name: label_4, dtype: int64\n"
          ]
        }
      ]
    },
    {
      "cell_type": "code",
      "source": [
        "# Calculate the mean of the column\n",
        "mean_value = df.label_2.mean()\n",
        "\n",
        "# Fill missing values in the specified column with the rounded mean\n",
        "# df.label_2.fillna(round(mean_value), inplace=True)\n"
      ],
      "metadata": {
        "id": "oCWAGvageBwa"
      },
      "execution_count": 47,
      "outputs": []
    },
    {
      "cell_type": "code",
      "source": [
        "df_copy =df.copy()\n",
        "X=df_copy.drop(columns=['label_1','label_2','label_3','label_4'])\n",
        "\n",
        "#remove outliers\n",
        "# df=df[(np.abs(stats.zscore(X)) < 3).all(axis=1)]\n"
      ],
      "metadata": {
        "id": "lKlh20-a8ozW"
      },
      "execution_count": 48,
      "outputs": []
    },
    {
      "cell_type": "code",
      "source": [],
      "metadata": {
        "id": "vJvnvPFfKhrS"
      },
      "execution_count": 48,
      "outputs": []
    },
    {
      "cell_type": "markdown",
      "source": [
        "## **Feature Engineering**"
      ],
      "metadata": {
        "id": "NhIQadQyP0Mp"
      }
    },
    {
      "cell_type": "code",
      "source": [
        "from sklearn.feature_selection import mutual_info_regression\n",
        "\n",
        "def make_mi_scores(X, y, discrete_features):\n",
        "    mi_scores = mutual_info_regression(X, y, discrete_features=discrete_features)\n",
        "    mi_scores = pd.Series(mi_scores, name=\"MI Scores\", index=X.columns)\n",
        "    mi_scores = mi_scores.sort_values(ascending=False)\n",
        "    return mi_scores\n"
      ],
      "metadata": {
        "id": "reJNq94PP4M1"
      },
      "execution_count": 49,
      "outputs": []
    },
    {
      "cell_type": "code",
      "source": [],
      "metadata": {
        "id": "VaWRiVC7XHyC"
      },
      "execution_count": 49,
      "outputs": []
    },
    {
      "cell_type": "markdown",
      "source": [
        "## Label-1 calculation"
      ],
      "metadata": {
        "id": "QL3l9NziMgjx"
      }
    },
    {
      "cell_type": "code",
      "source": [
        "from sklearn.neighbors import KNeighborsClassifier\n",
        "from sklearn.model_selection import cross_val_score\n",
        "from sklearn.metrics import f1_score\n",
        "from sklearn.metrics import classification_report, confusion_matrix\n",
        "from sklearn.svm import SVC\n",
        "\n",
        "df_1=df.copy()\n",
        "valid_1=valid.copy()\n",
        "X_train_1=df_1.drop(columns=['label_1','label_2','label_3','label_4'])\n",
        "y_train_1=df_1.label_1\n",
        "X_valid_1=valid_1.drop(columns=['label_1','label_2','label_3','label_4'])\n",
        "y_valid_1=valid_1.label_1\n",
        "X_test_1 = test.copy().drop(columns=['ID'])\n",
        "\n",
        "# knn_1=KNeighborsClassifier()\n",
        "# cross_val_score(knn_1, X_1, y_1, cv=5, scoring='f1_macro').mean()\n",
        "\n",
        "\n"
      ],
      "metadata": {
        "id": "A1R3dBoCMk81"
      },
      "execution_count": 50,
      "outputs": []
    },
    {
      "cell_type": "code",
      "source": [
        "discrete_features = X_train_1.dtypes == int\n",
        "\n",
        "mi_scores = make_mi_scores(X_train_1, y_train_1, discrete_features)\n",
        "mi_scores.sort_values(ascending=False)"
      ],
      "metadata": {
        "id": "ENGwAaS7Pnwm"
      },
      "execution_count": 51,
      "outputs": []
    },
    {
      "cell_type": "code",
      "source": [
        "# Get the last 100 feature names\n",
        "last_100_features = mi_scores.index[-100:]\n",
        "\n",
        "# Print the last 100 feature names\n",
        "print(last_100_features)"
      ],
      "metadata": {
        "id": "Za4glWG1Qsfn"
      },
      "execution_count": 52,
      "outputs": []
    },
    {
      "cell_type": "code",
      "source": [
        "X_train_1 = X_train_1.drop(columns=last_100_features)\n",
        "X_valid_1 = X_valid_1.drop(columns=last_100_features)\n",
        "X_test_1 = X_test_1.drop(columns=last_100_features)\n",
        "\n",
        "\n"
      ],
      "metadata": {
        "id": "HVWAaYO5QwDY"
      },
      "execution_count": 53,
      "outputs": []
    },
    {
      "cell_type": "code",
      "source": [
        "model_1=SVC()\n",
        "model_1.fit(X_train_1, y_train_1)"
      ],
      "metadata": {
        "colab": {
          "base_uri": "https://localhost:8080/",
          "height": 75
        },
        "id": "XAtxN7e-Opzl",
        "outputId": "c79febdf-c156-4ae8-b67d-76185d98ea41"
      },
      "execution_count": 54,
      "outputs": [
        {
          "output_type": "execute_result",
          "data": {
            "text/plain": [
              "SVC()"
            ],
            "text/html": [
              "<style>#sk-container-id-5 {color: black;background-color: white;}#sk-container-id-5 pre{padding: 0;}#sk-container-id-5 div.sk-toggleable {background-color: white;}#sk-container-id-5 label.sk-toggleable__label {cursor: pointer;display: block;width: 100%;margin-bottom: 0;padding: 0.3em;box-sizing: border-box;text-align: center;}#sk-container-id-5 label.sk-toggleable__label-arrow:before {content: \"▸\";float: left;margin-right: 0.25em;color: #696969;}#sk-container-id-5 label.sk-toggleable__label-arrow:hover:before {color: black;}#sk-container-id-5 div.sk-estimator:hover label.sk-toggleable__label-arrow:before {color: black;}#sk-container-id-5 div.sk-toggleable__content {max-height: 0;max-width: 0;overflow: hidden;text-align: left;background-color: #f0f8ff;}#sk-container-id-5 div.sk-toggleable__content pre {margin: 0.2em;color: black;border-radius: 0.25em;background-color: #f0f8ff;}#sk-container-id-5 input.sk-toggleable__control:checked~div.sk-toggleable__content {max-height: 200px;max-width: 100%;overflow: auto;}#sk-container-id-5 input.sk-toggleable__control:checked~label.sk-toggleable__label-arrow:before {content: \"▾\";}#sk-container-id-5 div.sk-estimator input.sk-toggleable__control:checked~label.sk-toggleable__label {background-color: #d4ebff;}#sk-container-id-5 div.sk-label input.sk-toggleable__control:checked~label.sk-toggleable__label {background-color: #d4ebff;}#sk-container-id-5 input.sk-hidden--visually {border: 0;clip: rect(1px 1px 1px 1px);clip: rect(1px, 1px, 1px, 1px);height: 1px;margin: -1px;overflow: hidden;padding: 0;position: absolute;width: 1px;}#sk-container-id-5 div.sk-estimator {font-family: monospace;background-color: #f0f8ff;border: 1px dotted black;border-radius: 0.25em;box-sizing: border-box;margin-bottom: 0.5em;}#sk-container-id-5 div.sk-estimator:hover {background-color: #d4ebff;}#sk-container-id-5 div.sk-parallel-item::after {content: \"\";width: 100%;border-bottom: 1px solid gray;flex-grow: 1;}#sk-container-id-5 div.sk-label:hover label.sk-toggleable__label {background-color: #d4ebff;}#sk-container-id-5 div.sk-serial::before {content: \"\";position: absolute;border-left: 1px solid gray;box-sizing: border-box;top: 0;bottom: 0;left: 50%;z-index: 0;}#sk-container-id-5 div.sk-serial {display: flex;flex-direction: column;align-items: center;background-color: white;padding-right: 0.2em;padding-left: 0.2em;position: relative;}#sk-container-id-5 div.sk-item {position: relative;z-index: 1;}#sk-container-id-5 div.sk-parallel {display: flex;align-items: stretch;justify-content: center;background-color: white;position: relative;}#sk-container-id-5 div.sk-item::before, #sk-container-id-5 div.sk-parallel-item::before {content: \"\";position: absolute;border-left: 1px solid gray;box-sizing: border-box;top: 0;bottom: 0;left: 50%;z-index: -1;}#sk-container-id-5 div.sk-parallel-item {display: flex;flex-direction: column;z-index: 1;position: relative;background-color: white;}#sk-container-id-5 div.sk-parallel-item:first-child::after {align-self: flex-end;width: 50%;}#sk-container-id-5 div.sk-parallel-item:last-child::after {align-self: flex-start;width: 50%;}#sk-container-id-5 div.sk-parallel-item:only-child::after {width: 0;}#sk-container-id-5 div.sk-dashed-wrapped {border: 1px dashed gray;margin: 0 0.4em 0.5em 0.4em;box-sizing: border-box;padding-bottom: 0.4em;background-color: white;}#sk-container-id-5 div.sk-label label {font-family: monospace;font-weight: bold;display: inline-block;line-height: 1.2em;}#sk-container-id-5 div.sk-label-container {text-align: center;}#sk-container-id-5 div.sk-container {/* jupyter's `normalize.less` sets `[hidden] { display: none; }` but bootstrap.min.css set `[hidden] { display: none !important; }` so we also need the `!important` here to be able to override the default hidden behavior on the sphinx rendered scikit-learn.org. See: https://github.com/scikit-learn/scikit-learn/issues/21755 */display: inline-block !important;position: relative;}#sk-container-id-5 div.sk-text-repr-fallback {display: none;}</style><div id=\"sk-container-id-5\" class=\"sk-top-container\"><div class=\"sk-text-repr-fallback\"><pre>SVC()</pre><b>In a Jupyter environment, please rerun this cell to show the HTML representation or trust the notebook. <br />On GitHub, the HTML representation is unable to render, please try loading this page with nbviewer.org.</b></div><div class=\"sk-container\" hidden><div class=\"sk-item\"><div class=\"sk-estimator sk-toggleable\"><input class=\"sk-toggleable__control sk-hidden--visually\" id=\"sk-estimator-id-5\" type=\"checkbox\" checked><label for=\"sk-estimator-id-5\" class=\"sk-toggleable__label sk-toggleable__label-arrow\">SVC</label><div class=\"sk-toggleable__content\"><pre>SVC()</pre></div></div></div></div></div>"
            ]
          },
          "metadata": {},
          "execution_count": 54
        }
      ]
    },
    {
      "cell_type": "code",
      "source": [
        "y_pred_1 = model_1.predict(X_valid_1)\n",
        "y_test_1= model_1.predict(X_test_1)"
      ],
      "metadata": {
        "id": "AbxM9wQiSQzA"
      },
      "execution_count": 55,
      "outputs": []
    },
    {
      "cell_type": "code",
      "source": [
        "print(classification_report(y_valid_1, y_pred_1))"
      ],
      "metadata": {
        "id": "nfqV07nkSqyl",
        "colab": {
          "base_uri": "https://localhost:8080/"
        },
        "outputId": "b0446ef6-a551-485a-c2fb-4c1b19c31f01"
      },
      "execution_count": 56,
      "outputs": [
        {
          "output_type": "stream",
          "name": "stdout",
          "text": [
            "              precision    recall  f1-score   support\n",
            "\n",
            "           1       1.00      0.92      0.96        13\n",
            "           2       1.00      1.00      1.00         9\n",
            "           3       0.85      0.92      0.88        12\n",
            "           4       0.67      1.00      0.80        16\n",
            "           5       1.00      0.83      0.91        18\n",
            "           6       1.00      1.00      1.00         9\n",
            "           7       0.84      0.94      0.89        17\n",
            "           8       1.00      0.71      0.83        14\n",
            "           9       1.00      0.91      0.95        11\n",
            "          10       1.00      1.00      1.00         8\n",
            "          11       0.79      1.00      0.88        19\n",
            "          12       1.00      1.00      1.00         7\n",
            "          13       1.00      0.73      0.84        11\n",
            "          14       1.00      0.93      0.97        15\n",
            "          15       1.00      0.88      0.94        17\n",
            "          16       1.00      0.93      0.96        14\n",
            "          17       1.00      0.93      0.96        14\n",
            "          18       1.00      0.95      0.97        19\n",
            "          19       0.75      0.80      0.77        15\n",
            "          20       1.00      0.91      0.95        11\n",
            "          21       1.00      0.93      0.96        14\n",
            "          22       0.92      1.00      0.96        11\n",
            "          23       0.83      1.00      0.91        10\n",
            "          24       0.92      0.92      0.92        12\n",
            "          25       1.00      1.00      1.00        11\n",
            "          26       1.00      0.86      0.92         7\n",
            "          27       0.94      1.00      0.97        16\n",
            "          28       1.00      1.00      1.00        11\n",
            "          29       1.00      0.93      0.97        15\n",
            "          30       1.00      0.88      0.93         8\n",
            "          31       1.00      0.92      0.96        12\n",
            "          32       1.00      1.00      1.00         9\n",
            "          33       0.50      1.00      0.67         6\n",
            "          34       1.00      0.77      0.87        13\n",
            "          35       0.80      1.00      0.89         8\n",
            "          36       1.00      1.00      1.00        18\n",
            "          37       1.00      0.94      0.97        16\n",
            "          38       1.00      0.91      0.95        11\n",
            "          39       1.00      1.00      1.00        13\n",
            "          40       0.73      0.92      0.81        12\n",
            "          41       1.00      1.00      1.00        10\n",
            "          42       1.00      1.00      1.00        12\n",
            "          43       1.00      1.00      1.00        12\n",
            "          44       1.00      0.95      0.97        19\n",
            "          45       0.79      0.79      0.79        14\n",
            "          46       1.00      1.00      1.00        11\n",
            "          47       0.89      1.00      0.94         8\n",
            "          48       0.89      0.94      0.91        17\n",
            "          49       0.92      0.92      0.92        13\n",
            "          50       1.00      1.00      1.00        13\n",
            "          51       0.88      0.88      0.88         8\n",
            "          52       0.85      1.00      0.92        11\n",
            "          53       1.00      1.00      1.00        15\n",
            "          54       1.00      0.89      0.94         9\n",
            "          55       1.00      1.00      1.00         8\n",
            "          56       1.00      0.80      0.89        10\n",
            "          57       1.00      0.94      0.97        18\n",
            "          58       1.00      0.95      0.97        20\n",
            "          59       0.91      1.00      0.95        10\n",
            "          60       1.00      0.80      0.89        10\n",
            "\n",
            "    accuracy                           0.93       750\n",
            "   macro avg       0.94      0.94      0.93       750\n",
            "weighted avg       0.95      0.93      0.94       750\n",
            "\n"
          ]
        }
      ]
    },
    {
      "cell_type": "markdown",
      "source": [
        "## Label-4 calculation"
      ],
      "metadata": {
        "id": "L5S8RJuVYXzw"
      }
    },
    {
      "cell_type": "code",
      "source": [
        "from sklearn.model_selection import cross_val_score\n",
        "from sklearn.metrics import f1_score\n",
        "from sklearn.utils import resample\n",
        "from sklearn.metrics import classification_report, confusion_matrix\n",
        "from sklearn.svm import SVC\n",
        "\n",
        "df_4=df.copy()\n",
        "valid_4=valid.copy()\n",
        "X_train_4=df_4.drop(columns=['label_1','label_2','label_3','label_4'])\n",
        "y_train_4=df_4.label_4\n",
        "X_valid_4=valid_4.drop(columns=['label_1','label_2','label_3','label_4'])\n",
        "y_valid_4=valid_4.label_4\n",
        "X_test_4 = test.copy().drop(columns=['ID'])\n",
        "\n",
        "\n",
        "# Separate the majority class (class 6) from other classes\n",
        "majority_class = 6\n",
        "minority_classes = [0, 1, 2, 3, 4, 5, 7, 8, 9, 10, 11, 12, 13]\n",
        "\n",
        "# Create DataFrames for majority and minority classes\n",
        "df_majority = df_4[df_4['label_4'] == majority_class]\n",
        "df_minority = df_4[df_4['label_4'].isin(minority_classes)]\n",
        "\n",
        "# Down-sample the majority class to match the size of minority classes\n",
        "num_samples_minority = len(df_minority)\n",
        "df_majority_downsampled = resample(df_majority, replace=False, n_samples=num_samples_minority, random_state=42)\n",
        "\n",
        "# Combine minority and down-sampled majority classes\n",
        "df_balanced = pd.concat([df_minority, df_majority_downsampled])\n",
        "\n",
        "# Shuffle the balanced dataset\n",
        "df_4 = df_balanced.sample(frac=1, random_state=42)\n",
        "\n",
        "# Now df_balanced contains a balanced dataset\n",
        "df_4.label_4.value_counts()\n",
        "\n",
        "# knn_4=KNeighborsClassifier()\n",
        "# cross_val_score(knn_4, X_4, y_4, cv=5, scoring='f1_macro').mean()\n"
      ],
      "metadata": {
        "colab": {
          "base_uri": "https://localhost:8080/"
        },
        "outputId": "c7a9c877-d1ee-4940-9494-4e821b42ae4b",
        "id": "mXmXvzMAYXz7"
      },
      "execution_count": 57,
      "outputs": [
        {
          "output_type": "execute_result",
          "data": {
            "text/plain": [
              "6     8582\n",
              "2     1449\n",
              "0      955\n",
              "12     954\n",
              "7      938\n",
              "13     482\n",
              "1      481\n",
              "10     480\n",
              "11     480\n",
              "3      479\n",
              "5      478\n",
              "9      472\n",
              "4      469\n",
              "8      465\n",
              "Name: label_4, dtype: int64"
            ]
          },
          "metadata": {},
          "execution_count": 57
        }
      ]
    },
    {
      "cell_type": "code",
      "source": [
        "discrete_features = X_train_4.dtypes == int\n",
        "\n",
        "mi_scores = make_mi_scores(X_train_4, y_train_4, discrete_features)\n",
        "mi_scores.sort_values(ascending=False)"
      ],
      "metadata": {
        "id": "HGE8_kSlYXz8"
      },
      "execution_count": 58,
      "outputs": []
    },
    {
      "cell_type": "code",
      "source": [
        "# Get the last 100 feature names\n",
        "last_100_features = mi_scores.index[-100:]\n",
        "\n",
        "# Print the last 100 feature names\n",
        "print(last_100_features)"
      ],
      "metadata": {
        "id": "A8vXC9XQYXz9"
      },
      "execution_count": 59,
      "outputs": []
    },
    {
      "cell_type": "code",
      "source": [
        "X_train_4 = X_train_4.drop(columns=last_100_features)\n",
        "X_valid_4 = X_valid_4.drop(columns=last_100_features)\n",
        "X_test_4 = X_test_4.drop(columns=last_100_features)\n",
        "\n"
      ],
      "metadata": {
        "id": "6wGLCDNHYXz9"
      },
      "execution_count": 60,
      "outputs": []
    },
    {
      "cell_type": "code",
      "source": [
        "model_4=SVC()\n",
        "model_4.fit(X_train_4, y_train_4)"
      ],
      "metadata": {
        "colab": {
          "base_uri": "https://localhost:8080/",
          "height": 75
        },
        "id": "SFyi-xUCYXz-",
        "outputId": "429174a2-d3ff-4b50-a788-a1381ea4980b"
      },
      "execution_count": 61,
      "outputs": [
        {
          "output_type": "execute_result",
          "data": {
            "text/plain": [
              "SVC()"
            ],
            "text/html": [
              "<style>#sk-container-id-6 {color: black;background-color: white;}#sk-container-id-6 pre{padding: 0;}#sk-container-id-6 div.sk-toggleable {background-color: white;}#sk-container-id-6 label.sk-toggleable__label {cursor: pointer;display: block;width: 100%;margin-bottom: 0;padding: 0.3em;box-sizing: border-box;text-align: center;}#sk-container-id-6 label.sk-toggleable__label-arrow:before {content: \"▸\";float: left;margin-right: 0.25em;color: #696969;}#sk-container-id-6 label.sk-toggleable__label-arrow:hover:before {color: black;}#sk-container-id-6 div.sk-estimator:hover label.sk-toggleable__label-arrow:before {color: black;}#sk-container-id-6 div.sk-toggleable__content {max-height: 0;max-width: 0;overflow: hidden;text-align: left;background-color: #f0f8ff;}#sk-container-id-6 div.sk-toggleable__content pre {margin: 0.2em;color: black;border-radius: 0.25em;background-color: #f0f8ff;}#sk-container-id-6 input.sk-toggleable__control:checked~div.sk-toggleable__content {max-height: 200px;max-width: 100%;overflow: auto;}#sk-container-id-6 input.sk-toggleable__control:checked~label.sk-toggleable__label-arrow:before {content: \"▾\";}#sk-container-id-6 div.sk-estimator input.sk-toggleable__control:checked~label.sk-toggleable__label {background-color: #d4ebff;}#sk-container-id-6 div.sk-label input.sk-toggleable__control:checked~label.sk-toggleable__label {background-color: #d4ebff;}#sk-container-id-6 input.sk-hidden--visually {border: 0;clip: rect(1px 1px 1px 1px);clip: rect(1px, 1px, 1px, 1px);height: 1px;margin: -1px;overflow: hidden;padding: 0;position: absolute;width: 1px;}#sk-container-id-6 div.sk-estimator {font-family: monospace;background-color: #f0f8ff;border: 1px dotted black;border-radius: 0.25em;box-sizing: border-box;margin-bottom: 0.5em;}#sk-container-id-6 div.sk-estimator:hover {background-color: #d4ebff;}#sk-container-id-6 div.sk-parallel-item::after {content: \"\";width: 100%;border-bottom: 1px solid gray;flex-grow: 1;}#sk-container-id-6 div.sk-label:hover label.sk-toggleable__label {background-color: #d4ebff;}#sk-container-id-6 div.sk-serial::before {content: \"\";position: absolute;border-left: 1px solid gray;box-sizing: border-box;top: 0;bottom: 0;left: 50%;z-index: 0;}#sk-container-id-6 div.sk-serial {display: flex;flex-direction: column;align-items: center;background-color: white;padding-right: 0.2em;padding-left: 0.2em;position: relative;}#sk-container-id-6 div.sk-item {position: relative;z-index: 1;}#sk-container-id-6 div.sk-parallel {display: flex;align-items: stretch;justify-content: center;background-color: white;position: relative;}#sk-container-id-6 div.sk-item::before, #sk-container-id-6 div.sk-parallel-item::before {content: \"\";position: absolute;border-left: 1px solid gray;box-sizing: border-box;top: 0;bottom: 0;left: 50%;z-index: -1;}#sk-container-id-6 div.sk-parallel-item {display: flex;flex-direction: column;z-index: 1;position: relative;background-color: white;}#sk-container-id-6 div.sk-parallel-item:first-child::after {align-self: flex-end;width: 50%;}#sk-container-id-6 div.sk-parallel-item:last-child::after {align-self: flex-start;width: 50%;}#sk-container-id-6 div.sk-parallel-item:only-child::after {width: 0;}#sk-container-id-6 div.sk-dashed-wrapped {border: 1px dashed gray;margin: 0 0.4em 0.5em 0.4em;box-sizing: border-box;padding-bottom: 0.4em;background-color: white;}#sk-container-id-6 div.sk-label label {font-family: monospace;font-weight: bold;display: inline-block;line-height: 1.2em;}#sk-container-id-6 div.sk-label-container {text-align: center;}#sk-container-id-6 div.sk-container {/* jupyter's `normalize.less` sets `[hidden] { display: none; }` but bootstrap.min.css set `[hidden] { display: none !important; }` so we also need the `!important` here to be able to override the default hidden behavior on the sphinx rendered scikit-learn.org. See: https://github.com/scikit-learn/scikit-learn/issues/21755 */display: inline-block !important;position: relative;}#sk-container-id-6 div.sk-text-repr-fallback {display: none;}</style><div id=\"sk-container-id-6\" class=\"sk-top-container\"><div class=\"sk-text-repr-fallback\"><pre>SVC()</pre><b>In a Jupyter environment, please rerun this cell to show the HTML representation or trust the notebook. <br />On GitHub, the HTML representation is unable to render, please try loading this page with nbviewer.org.</b></div><div class=\"sk-container\" hidden><div class=\"sk-item\"><div class=\"sk-estimator sk-toggleable\"><input class=\"sk-toggleable__control sk-hidden--visually\" id=\"sk-estimator-id-6\" type=\"checkbox\" checked><label for=\"sk-estimator-id-6\" class=\"sk-toggleable__label sk-toggleable__label-arrow\">SVC</label><div class=\"sk-toggleable__content\"><pre>SVC()</pre></div></div></div></div></div>"
            ]
          },
          "metadata": {},
          "execution_count": 61
        }
      ]
    },
    {
      "cell_type": "code",
      "source": [
        "y_pred_4 = model_4.predict(X_valid_4)\n",
        "y_test_4= model_4.predict(X_test_4)"
      ],
      "metadata": {
        "id": "IKoHkr7JYXz-"
      },
      "execution_count": 62,
      "outputs": []
    },
    {
      "cell_type": "code",
      "source": [
        "print(classification_report(y_valid_4, y_pred_4))"
      ],
      "metadata": {
        "colab": {
          "base_uri": "https://localhost:8080/"
        },
        "id": "_4y1usupYXz-",
        "outputId": "6ce2a8dd-7ae6-455b-ab50-2c39b7e80e04"
      },
      "execution_count": 63,
      "outputs": [
        {
          "output_type": "stream",
          "name": "stdout",
          "text": [
            "              precision    recall  f1-score   support\n",
            "\n",
            "           0       1.00      0.95      0.98        21\n",
            "           1       1.00      0.82      0.90        11\n",
            "           2       1.00      0.85      0.92        27\n",
            "           3       1.00      0.88      0.93         8\n",
            "           4       1.00      0.60      0.75        15\n",
            "           5       0.91      0.91      0.91        11\n",
            "           6       0.93      1.00      0.96       532\n",
            "           7       0.96      0.78      0.86        32\n",
            "           8       1.00      0.79      0.88        19\n",
            "           9       1.00      0.82      0.90        17\n",
            "          10       1.00      0.90      0.95        10\n",
            "          11       1.00      0.82      0.90        11\n",
            "          12       1.00      0.62      0.76        26\n",
            "          13       1.00      0.80      0.89        10\n",
            "\n",
            "    accuracy                           0.94       750\n",
            "   macro avg       0.99      0.82      0.89       750\n",
            "weighted avg       0.94      0.94      0.94       750\n",
            "\n"
          ]
        }
      ]
    },
    {
      "cell_type": "markdown",
      "source": [
        "## Label-2 calculation"
      ],
      "metadata": {
        "id": "s2UB8OEDd0br"
      }
    },
    {
      "cell_type": "code",
      "source": [
        "from sklearn.neighbors import KNeighborsClassifier\n",
        "from sklearn.model_selection import cross_val_score\n",
        "from sklearn.metrics import f1_score\n",
        "from sklearn.metrics import classification_report, confusion_matrix\n",
        "from sklearn.svm import SVC\n",
        "\n",
        "df_2=df.copy()\n",
        "df_2=df_2.dropna()\n",
        "valid_2=valid.copy()\n",
        "valid_2=valid_2.dropna()\n",
        "X_train_2=df_2.drop(columns=['label_1','label_2','label_3','label_4'])\n",
        "y_train_2=df_2.label_2\n",
        "X_valid_2=valid_2.drop(columns=['label_1','label_2','label_3','label_4'])\n",
        "y_valid_2=valid_2.label_2\n",
        "X_test_2 = test.copy().drop(columns=['ID'])\n",
        "\n",
        "\n",
        "\n",
        "X_2=df_2.drop(columns=['label_1','label_2','label_3','label_4'])\n",
        "y_2=df_2.label_2\n",
        "\n",
        "\n",
        "# knn_2=KNeighborsClassifier()\n",
        "# cross_val_score(knn_2, X_2, y_2, cv=5, scoring='f1_macro').mean()\n"
      ],
      "metadata": {
        "id": "c-tGOnrOd0b1"
      },
      "execution_count": 64,
      "outputs": []
    },
    {
      "cell_type": "code",
      "source": [
        "discrete_features = X_train_2.dtypes == int\n",
        "\n",
        "mi_scores = make_mi_scores(X_train_2, y_train_2, discrete_features)\n",
        "mi_scores.sort_values(ascending=False)"
      ],
      "metadata": {
        "id": "HBQRsXAad0b1"
      },
      "execution_count": 65,
      "outputs": []
    },
    {
      "cell_type": "code",
      "source": [
        "# Get the last 100 feature names\n",
        "last_100_features = mi_scores.index[-100:]\n",
        "\n",
        "# Print the last 100 feature names\n",
        "print(last_100_features)"
      ],
      "metadata": {
        "id": "_0FP0IuAd0b3"
      },
      "execution_count": 66,
      "outputs": []
    },
    {
      "cell_type": "code",
      "source": [
        "X_train_2 = X_train_2.drop(columns=last_100_features)\n",
        "X_valid_2 = X_valid_2.drop(columns=last_100_features)\n",
        "X_test_2 = X_test_2.drop(columns=last_100_features)"
      ],
      "metadata": {
        "id": "x2_10oPHd0b3"
      },
      "execution_count": 67,
      "outputs": []
    },
    {
      "cell_type": "code",
      "source": [
        "model_2=SVC()\n",
        "model_2.fit(X_train_2, y_train_2)"
      ],
      "metadata": {
        "colab": {
          "base_uri": "https://localhost:8080/",
          "height": 75
        },
        "outputId": "6620ec2e-4dc9-4825-8158-f374120c5533",
        "id": "7ZrpD4hld0b4"
      },
      "execution_count": 68,
      "outputs": [
        {
          "output_type": "execute_result",
          "data": {
            "text/plain": [
              "SVC()"
            ],
            "text/html": [
              "<style>#sk-container-id-7 {color: black;background-color: white;}#sk-container-id-7 pre{padding: 0;}#sk-container-id-7 div.sk-toggleable {background-color: white;}#sk-container-id-7 label.sk-toggleable__label {cursor: pointer;display: block;width: 100%;margin-bottom: 0;padding: 0.3em;box-sizing: border-box;text-align: center;}#sk-container-id-7 label.sk-toggleable__label-arrow:before {content: \"▸\";float: left;margin-right: 0.25em;color: #696969;}#sk-container-id-7 label.sk-toggleable__label-arrow:hover:before {color: black;}#sk-container-id-7 div.sk-estimator:hover label.sk-toggleable__label-arrow:before {color: black;}#sk-container-id-7 div.sk-toggleable__content {max-height: 0;max-width: 0;overflow: hidden;text-align: left;background-color: #f0f8ff;}#sk-container-id-7 div.sk-toggleable__content pre {margin: 0.2em;color: black;border-radius: 0.25em;background-color: #f0f8ff;}#sk-container-id-7 input.sk-toggleable__control:checked~div.sk-toggleable__content {max-height: 200px;max-width: 100%;overflow: auto;}#sk-container-id-7 input.sk-toggleable__control:checked~label.sk-toggleable__label-arrow:before {content: \"▾\";}#sk-container-id-7 div.sk-estimator input.sk-toggleable__control:checked~label.sk-toggleable__label {background-color: #d4ebff;}#sk-container-id-7 div.sk-label input.sk-toggleable__control:checked~label.sk-toggleable__label {background-color: #d4ebff;}#sk-container-id-7 input.sk-hidden--visually {border: 0;clip: rect(1px 1px 1px 1px);clip: rect(1px, 1px, 1px, 1px);height: 1px;margin: -1px;overflow: hidden;padding: 0;position: absolute;width: 1px;}#sk-container-id-7 div.sk-estimator {font-family: monospace;background-color: #f0f8ff;border: 1px dotted black;border-radius: 0.25em;box-sizing: border-box;margin-bottom: 0.5em;}#sk-container-id-7 div.sk-estimator:hover {background-color: #d4ebff;}#sk-container-id-7 div.sk-parallel-item::after {content: \"\";width: 100%;border-bottom: 1px solid gray;flex-grow: 1;}#sk-container-id-7 div.sk-label:hover label.sk-toggleable__label {background-color: #d4ebff;}#sk-container-id-7 div.sk-serial::before {content: \"\";position: absolute;border-left: 1px solid gray;box-sizing: border-box;top: 0;bottom: 0;left: 50%;z-index: 0;}#sk-container-id-7 div.sk-serial {display: flex;flex-direction: column;align-items: center;background-color: white;padding-right: 0.2em;padding-left: 0.2em;position: relative;}#sk-container-id-7 div.sk-item {position: relative;z-index: 1;}#sk-container-id-7 div.sk-parallel {display: flex;align-items: stretch;justify-content: center;background-color: white;position: relative;}#sk-container-id-7 div.sk-item::before, #sk-container-id-7 div.sk-parallel-item::before {content: \"\";position: absolute;border-left: 1px solid gray;box-sizing: border-box;top: 0;bottom: 0;left: 50%;z-index: -1;}#sk-container-id-7 div.sk-parallel-item {display: flex;flex-direction: column;z-index: 1;position: relative;background-color: white;}#sk-container-id-7 div.sk-parallel-item:first-child::after {align-self: flex-end;width: 50%;}#sk-container-id-7 div.sk-parallel-item:last-child::after {align-self: flex-start;width: 50%;}#sk-container-id-7 div.sk-parallel-item:only-child::after {width: 0;}#sk-container-id-7 div.sk-dashed-wrapped {border: 1px dashed gray;margin: 0 0.4em 0.5em 0.4em;box-sizing: border-box;padding-bottom: 0.4em;background-color: white;}#sk-container-id-7 div.sk-label label {font-family: monospace;font-weight: bold;display: inline-block;line-height: 1.2em;}#sk-container-id-7 div.sk-label-container {text-align: center;}#sk-container-id-7 div.sk-container {/* jupyter's `normalize.less` sets `[hidden] { display: none; }` but bootstrap.min.css set `[hidden] { display: none !important; }` so we also need the `!important` here to be able to override the default hidden behavior on the sphinx rendered scikit-learn.org. See: https://github.com/scikit-learn/scikit-learn/issues/21755 */display: inline-block !important;position: relative;}#sk-container-id-7 div.sk-text-repr-fallback {display: none;}</style><div id=\"sk-container-id-7\" class=\"sk-top-container\"><div class=\"sk-text-repr-fallback\"><pre>SVC()</pre><b>In a Jupyter environment, please rerun this cell to show the HTML representation or trust the notebook. <br />On GitHub, the HTML representation is unable to render, please try loading this page with nbviewer.org.</b></div><div class=\"sk-container\" hidden><div class=\"sk-item\"><div class=\"sk-estimator sk-toggleable\"><input class=\"sk-toggleable__control sk-hidden--visually\" id=\"sk-estimator-id-7\" type=\"checkbox\" checked><label for=\"sk-estimator-id-7\" class=\"sk-toggleable__label sk-toggleable__label-arrow\">SVC</label><div class=\"sk-toggleable__content\"><pre>SVC()</pre></div></div></div></div></div>"
            ]
          },
          "metadata": {},
          "execution_count": 68
        }
      ]
    },
    {
      "cell_type": "code",
      "source": [
        "y_pred_2 = model_2.predict(X_valid_2)\n",
        "y_test_2= model_2.predict(X_test_2)"
      ],
      "metadata": {
        "id": "iy-VF-aEd0b4"
      },
      "execution_count": 69,
      "outputs": []
    },
    {
      "cell_type": "code",
      "source": [
        "print(classification_report(y_valid_2, y_pred_2))"
      ],
      "metadata": {
        "colab": {
          "base_uri": "https://localhost:8080/"
        },
        "id": "49eo6yyed0b4",
        "outputId": "38453d4e-1b86-4022-9188-45e651f62858"
      },
      "execution_count": 70,
      "outputs": [
        {
          "output_type": "stream",
          "name": "stdout",
          "text": [
            "              precision    recall  f1-score   support\n",
            "\n",
            "        22.0       0.89      0.89      0.89        36\n",
            "        23.0       0.85      0.89      0.87        71\n",
            "        24.0       0.93      0.93      0.93        46\n",
            "        25.0       0.92      0.76      0.83        79\n",
            "        26.0       0.69      0.96      0.80       115\n",
            "        27.0       0.97      0.84      0.90        81\n",
            "        28.0       0.89      0.85      0.87        46\n",
            "        29.0       1.00      0.89      0.94        45\n",
            "        30.0       0.96      0.92      0.94        48\n",
            "        31.0       0.89      0.86      0.88        65\n",
            "        32.0       1.00      0.73      0.84        11\n",
            "        33.0       1.00      0.87      0.93        30\n",
            "        34.0       0.92      1.00      0.96        11\n",
            "        35.0       1.00      0.91      0.95        11\n",
            "        36.0       1.00      1.00      1.00         8\n",
            "        41.0       1.00      0.71      0.83        14\n",
            "        61.0       1.00      0.95      0.97        19\n",
            "\n",
            "    accuracy                           0.88       736\n",
            "   macro avg       0.94      0.88      0.90       736\n",
            "weighted avg       0.89      0.88      0.88       736\n",
            "\n"
          ]
        }
      ]
    },
    {
      "cell_type": "markdown",
      "source": [
        "## Label-3 calculation"
      ],
      "metadata": {
        "id": "zSCcBdZ5jlCl"
      }
    },
    {
      "cell_type": "code",
      "source": [
        "from sklearn.model_selection import cross_val_score\n",
        "from sklearn.metrics import f1_score\n",
        "from sklearn.metrics import classification_report, confusion_matrix\n",
        "from sklearn.svm import SVC\n",
        "from sklearn.utils import resample\n",
        "\n",
        "df_3=df.copy()\n",
        "valid_3=valid.copy()\n",
        "X_train_3=df_3.drop(columns=['label_1','label_2','label_3','label_4'])\n",
        "y_train_3=df_3.label_3\n",
        "X_valid_3=valid_3.drop(columns=['label_1','label_2','label_3','label_4'])\n",
        "y_valid_3=valid_3.label_3\n",
        "X_test_3 = test.copy().drop(columns=['ID'])\n",
        "\n",
        "# knn_3=KNeighborsClassifier()\n",
        "# cross_val_score(knn_3, X_3, y_3, cv=5, scoring='f1_macro').mean()\n"
      ],
      "metadata": {
        "id": "zRIt5-3_jlCm"
      },
      "execution_count": 71,
      "outputs": []
    },
    {
      "cell_type": "code",
      "source": [
        "discrete_features = X_train_3.dtypes == int\n",
        "\n",
        "mi_scores = make_mi_scores(X_train_3, y_train_3, discrete_features)\n",
        "mi_scores.sort_values(ascending=False)"
      ],
      "metadata": {
        "id": "c9qMDgUIjlCm"
      },
      "execution_count": 72,
      "outputs": []
    },
    {
      "cell_type": "code",
      "source": [
        "# Get the last 100 feature names\n",
        "last_100_features = mi_scores.index[-100:]\n",
        "\n",
        "# Print the last 100 feature names\n",
        "print(last_100_features)"
      ],
      "metadata": {
        "id": "XF0yzevIjlCn"
      },
      "execution_count": 73,
      "outputs": []
    },
    {
      "cell_type": "code",
      "source": [
        "model_3= SVC()\n",
        "\n",
        "df_3=df.copy()\n",
        "df_class_0 = df_3[df_3['label_3'] == 0]\n",
        "df_class_1 = df_3[df_3['label_3'] == 1]\n",
        "\n",
        "# Undersample the majority class (class 1)\n",
        "undersampled_df_class_1 = resample(df_class_1,\n",
        "                                   replace=False,  # Set to True if you want to sample with replacement\n",
        "                                   n_samples=len(df_class_0),  # Match the number of samples in class 0\n",
        "                                   random_state=42)  # Set a random seed for reproducibility\n",
        "\n",
        "# Combine minority and down-sampled majority classes\n",
        "df_balanced = pd.concat([df_class_0, undersampled_df_class_1])\n",
        "\n",
        "# Shuffle the balanced dataset\n",
        "df_3 = df_balanced.sample(frac=1, random_state=42)\n",
        "\n",
        "X_train_3=df_3.drop(columns=['label_1','label_2','label_3','label_4'])\n",
        "y_train_3=df_3.label_3\n",
        "X_test_3 = test.copy().drop(columns=['ID'])\n",
        "\n",
        "X_valid_3=valid_3.drop(columns=['label_1','label_2','label_3','label_4'])\n",
        "y_valid_3=valid_3.label_3\n",
        "\n",
        "# X_train_3 = X_train_3.drop(columns=last_100_features)\n",
        "# X_valid_3 = X_valid_3.drop(columns=last_100_features)\n",
        "# X_test_3 = X_test_3.drop(columns=last_100_features)\n",
        "\n"
      ],
      "metadata": {
        "id": "2nF-HSkFBxzo"
      },
      "execution_count": 74,
      "outputs": []
    },
    {
      "cell_type": "code",
      "source": [
        "model_3.fit(X_train_3, y_train_3)"
      ],
      "metadata": {
        "colab": {
          "base_uri": "https://localhost:8080/",
          "height": 75
        },
        "outputId": "4765dce7-435c-484e-a032-88bfacb146a9",
        "id": "75LIpm0jjlCn"
      },
      "execution_count": 75,
      "outputs": [
        {
          "output_type": "execute_result",
          "data": {
            "text/plain": [
              "SVC()"
            ],
            "text/html": [
              "<style>#sk-container-id-8 {color: black;background-color: white;}#sk-container-id-8 pre{padding: 0;}#sk-container-id-8 div.sk-toggleable {background-color: white;}#sk-container-id-8 label.sk-toggleable__label {cursor: pointer;display: block;width: 100%;margin-bottom: 0;padding: 0.3em;box-sizing: border-box;text-align: center;}#sk-container-id-8 label.sk-toggleable__label-arrow:before {content: \"▸\";float: left;margin-right: 0.25em;color: #696969;}#sk-container-id-8 label.sk-toggleable__label-arrow:hover:before {color: black;}#sk-container-id-8 div.sk-estimator:hover label.sk-toggleable__label-arrow:before {color: black;}#sk-container-id-8 div.sk-toggleable__content {max-height: 0;max-width: 0;overflow: hidden;text-align: left;background-color: #f0f8ff;}#sk-container-id-8 div.sk-toggleable__content pre {margin: 0.2em;color: black;border-radius: 0.25em;background-color: #f0f8ff;}#sk-container-id-8 input.sk-toggleable__control:checked~div.sk-toggleable__content {max-height: 200px;max-width: 100%;overflow: auto;}#sk-container-id-8 input.sk-toggleable__control:checked~label.sk-toggleable__label-arrow:before {content: \"▾\";}#sk-container-id-8 div.sk-estimator input.sk-toggleable__control:checked~label.sk-toggleable__label {background-color: #d4ebff;}#sk-container-id-8 div.sk-label input.sk-toggleable__control:checked~label.sk-toggleable__label {background-color: #d4ebff;}#sk-container-id-8 input.sk-hidden--visually {border: 0;clip: rect(1px 1px 1px 1px);clip: rect(1px, 1px, 1px, 1px);height: 1px;margin: -1px;overflow: hidden;padding: 0;position: absolute;width: 1px;}#sk-container-id-8 div.sk-estimator {font-family: monospace;background-color: #f0f8ff;border: 1px dotted black;border-radius: 0.25em;box-sizing: border-box;margin-bottom: 0.5em;}#sk-container-id-8 div.sk-estimator:hover {background-color: #d4ebff;}#sk-container-id-8 div.sk-parallel-item::after {content: \"\";width: 100%;border-bottom: 1px solid gray;flex-grow: 1;}#sk-container-id-8 div.sk-label:hover label.sk-toggleable__label {background-color: #d4ebff;}#sk-container-id-8 div.sk-serial::before {content: \"\";position: absolute;border-left: 1px solid gray;box-sizing: border-box;top: 0;bottom: 0;left: 50%;z-index: 0;}#sk-container-id-8 div.sk-serial {display: flex;flex-direction: column;align-items: center;background-color: white;padding-right: 0.2em;padding-left: 0.2em;position: relative;}#sk-container-id-8 div.sk-item {position: relative;z-index: 1;}#sk-container-id-8 div.sk-parallel {display: flex;align-items: stretch;justify-content: center;background-color: white;position: relative;}#sk-container-id-8 div.sk-item::before, #sk-container-id-8 div.sk-parallel-item::before {content: \"\";position: absolute;border-left: 1px solid gray;box-sizing: border-box;top: 0;bottom: 0;left: 50%;z-index: -1;}#sk-container-id-8 div.sk-parallel-item {display: flex;flex-direction: column;z-index: 1;position: relative;background-color: white;}#sk-container-id-8 div.sk-parallel-item:first-child::after {align-self: flex-end;width: 50%;}#sk-container-id-8 div.sk-parallel-item:last-child::after {align-self: flex-start;width: 50%;}#sk-container-id-8 div.sk-parallel-item:only-child::after {width: 0;}#sk-container-id-8 div.sk-dashed-wrapped {border: 1px dashed gray;margin: 0 0.4em 0.5em 0.4em;box-sizing: border-box;padding-bottom: 0.4em;background-color: white;}#sk-container-id-8 div.sk-label label {font-family: monospace;font-weight: bold;display: inline-block;line-height: 1.2em;}#sk-container-id-8 div.sk-label-container {text-align: center;}#sk-container-id-8 div.sk-container {/* jupyter's `normalize.less` sets `[hidden] { display: none; }` but bootstrap.min.css set `[hidden] { display: none !important; }` so we also need the `!important` here to be able to override the default hidden behavior on the sphinx rendered scikit-learn.org. See: https://github.com/scikit-learn/scikit-learn/issues/21755 */display: inline-block !important;position: relative;}#sk-container-id-8 div.sk-text-repr-fallback {display: none;}</style><div id=\"sk-container-id-8\" class=\"sk-top-container\"><div class=\"sk-text-repr-fallback\"><pre>SVC()</pre><b>In a Jupyter environment, please rerun this cell to show the HTML representation or trust the notebook. <br />On GitHub, the HTML representation is unable to render, please try loading this page with nbviewer.org.</b></div><div class=\"sk-container\" hidden><div class=\"sk-item\"><div class=\"sk-estimator sk-toggleable\"><input class=\"sk-toggleable__control sk-hidden--visually\" id=\"sk-estimator-id-8\" type=\"checkbox\" checked><label for=\"sk-estimator-id-8\" class=\"sk-toggleable__label sk-toggleable__label-arrow\">SVC</label><div class=\"sk-toggleable__content\"><pre>SVC()</pre></div></div></div></div></div>"
            ]
          },
          "metadata": {},
          "execution_count": 75
        }
      ]
    },
    {
      "cell_type": "code",
      "source": [
        "y_pred_3 = model_3.predict(X_valid_3)\n",
        "y_test_3= model_3.predict(X_test_3)"
      ],
      "metadata": {
        "id": "XWb7qB_IjlCn"
      },
      "execution_count": 76,
      "outputs": []
    },
    {
      "cell_type": "code",
      "source": [
        "print(classification_report(y_valid_1, y_pred_1))"
      ],
      "metadata": {
        "colab": {
          "base_uri": "https://localhost:8080/"
        },
        "id": "P7ZrBKtRjlCo",
        "outputId": "f7b3f834-bff0-42d6-b6e9-d255dc6cae1a"
      },
      "execution_count": 77,
      "outputs": [
        {
          "output_type": "stream",
          "name": "stdout",
          "text": [
            "              precision    recall  f1-score   support\n",
            "\n",
            "           1       1.00      0.92      0.96        13\n",
            "           2       1.00      1.00      1.00         9\n",
            "           3       0.85      0.92      0.88        12\n",
            "           4       0.67      1.00      0.80        16\n",
            "           5       1.00      0.83      0.91        18\n",
            "           6       1.00      1.00      1.00         9\n",
            "           7       0.84      0.94      0.89        17\n",
            "           8       1.00      0.71      0.83        14\n",
            "           9       1.00      0.91      0.95        11\n",
            "          10       1.00      1.00      1.00         8\n",
            "          11       0.79      1.00      0.88        19\n",
            "          12       1.00      1.00      1.00         7\n",
            "          13       1.00      0.73      0.84        11\n",
            "          14       1.00      0.93      0.97        15\n",
            "          15       1.00      0.88      0.94        17\n",
            "          16       1.00      0.93      0.96        14\n",
            "          17       1.00      0.93      0.96        14\n",
            "          18       1.00      0.95      0.97        19\n",
            "          19       0.75      0.80      0.77        15\n",
            "          20       1.00      0.91      0.95        11\n",
            "          21       1.00      0.93      0.96        14\n",
            "          22       0.92      1.00      0.96        11\n",
            "          23       0.83      1.00      0.91        10\n",
            "          24       0.92      0.92      0.92        12\n",
            "          25       1.00      1.00      1.00        11\n",
            "          26       1.00      0.86      0.92         7\n",
            "          27       0.94      1.00      0.97        16\n",
            "          28       1.00      1.00      1.00        11\n",
            "          29       1.00      0.93      0.97        15\n",
            "          30       1.00      0.88      0.93         8\n",
            "          31       1.00      0.92      0.96        12\n",
            "          32       1.00      1.00      1.00         9\n",
            "          33       0.50      1.00      0.67         6\n",
            "          34       1.00      0.77      0.87        13\n",
            "          35       0.80      1.00      0.89         8\n",
            "          36       1.00      1.00      1.00        18\n",
            "          37       1.00      0.94      0.97        16\n",
            "          38       1.00      0.91      0.95        11\n",
            "          39       1.00      1.00      1.00        13\n",
            "          40       0.73      0.92      0.81        12\n",
            "          41       1.00      1.00      1.00        10\n",
            "          42       1.00      1.00      1.00        12\n",
            "          43       1.00      1.00      1.00        12\n",
            "          44       1.00      0.95      0.97        19\n",
            "          45       0.79      0.79      0.79        14\n",
            "          46       1.00      1.00      1.00        11\n",
            "          47       0.89      1.00      0.94         8\n",
            "          48       0.89      0.94      0.91        17\n",
            "          49       0.92      0.92      0.92        13\n",
            "          50       1.00      1.00      1.00        13\n",
            "          51       0.88      0.88      0.88         8\n",
            "          52       0.85      1.00      0.92        11\n",
            "          53       1.00      1.00      1.00        15\n",
            "          54       1.00      0.89      0.94         9\n",
            "          55       1.00      1.00      1.00         8\n",
            "          56       1.00      0.80      0.89        10\n",
            "          57       1.00      0.94      0.97        18\n",
            "          58       1.00      0.95      0.97        20\n",
            "          59       0.91      1.00      0.95        10\n",
            "          60       1.00      0.80      0.89        10\n",
            "\n",
            "    accuracy                           0.93       750\n",
            "   macro avg       0.94      0.94      0.93       750\n",
            "weighted avg       0.95      0.93      0.94       750\n",
            "\n"
          ]
        }
      ]
    },
    {
      "cell_type": "markdown",
      "source": [
        "## **final output**"
      ],
      "metadata": {
        "id": "xBBzHmyilVwR"
      }
    },
    {
      "cell_type": "code",
      "source": [
        "new_df = pd.DataFrame({\"ID\": test[\"ID\"], 'label_1': y_test_1 ,'label_2': y_test_2 ,'label_3': y_test_3 ,'label_4': y_test_4 })\n"
      ],
      "metadata": {
        "id": "SMcp0PfUlZRm"
      },
      "execution_count": 78,
      "outputs": []
    },
    {
      "cell_type": "code",
      "source": [
        "new_df"
      ],
      "metadata": {
        "colab": {
          "base_uri": "https://localhost:8080/",
          "height": 424
        },
        "id": "iZ38cF9al68N",
        "outputId": "5133a5fc-c48b-42d0-8a86-3833a5aa71dc"
      },
      "execution_count": 79,
      "outputs": [
        {
          "output_type": "execute_result",
          "data": {
            "text/plain": [
              "      ID  label_1  label_2  label_3  label_4\n",
              "0      1       26     22.0        0        2\n",
              "1      2       18     25.0        1        6\n",
              "2      3       16     30.0        1        6\n",
              "3      4        7     27.0        1        6\n",
              "4      5       58     29.0        0        6\n",
              "..   ...      ...      ...      ...      ...\n",
              "739  740       11     26.0        1        6\n",
              "740  741       35     24.0        1        2\n",
              "741  742       54     27.0        1        6\n",
              "742  743       38     32.0        1       12\n",
              "743  744       51     26.0        1        6\n",
              "\n",
              "[744 rows x 5 columns]"
            ],
            "text/html": [
              "\n",
              "  <div id=\"df-53ddaf41-2f8e-4015-bbdd-07c750a2db12\" class=\"colab-df-container\">\n",
              "    <div>\n",
              "<style scoped>\n",
              "    .dataframe tbody tr th:only-of-type {\n",
              "        vertical-align: middle;\n",
              "    }\n",
              "\n",
              "    .dataframe tbody tr th {\n",
              "        vertical-align: top;\n",
              "    }\n",
              "\n",
              "    .dataframe thead th {\n",
              "        text-align: right;\n",
              "    }\n",
              "</style>\n",
              "<table border=\"1\" class=\"dataframe\">\n",
              "  <thead>\n",
              "    <tr style=\"text-align: right;\">\n",
              "      <th></th>\n",
              "      <th>ID</th>\n",
              "      <th>label_1</th>\n",
              "      <th>label_2</th>\n",
              "      <th>label_3</th>\n",
              "      <th>label_4</th>\n",
              "    </tr>\n",
              "  </thead>\n",
              "  <tbody>\n",
              "    <tr>\n",
              "      <th>0</th>\n",
              "      <td>1</td>\n",
              "      <td>26</td>\n",
              "      <td>22.0</td>\n",
              "      <td>0</td>\n",
              "      <td>2</td>\n",
              "    </tr>\n",
              "    <tr>\n",
              "      <th>1</th>\n",
              "      <td>2</td>\n",
              "      <td>18</td>\n",
              "      <td>25.0</td>\n",
              "      <td>1</td>\n",
              "      <td>6</td>\n",
              "    </tr>\n",
              "    <tr>\n",
              "      <th>2</th>\n",
              "      <td>3</td>\n",
              "      <td>16</td>\n",
              "      <td>30.0</td>\n",
              "      <td>1</td>\n",
              "      <td>6</td>\n",
              "    </tr>\n",
              "    <tr>\n",
              "      <th>3</th>\n",
              "      <td>4</td>\n",
              "      <td>7</td>\n",
              "      <td>27.0</td>\n",
              "      <td>1</td>\n",
              "      <td>6</td>\n",
              "    </tr>\n",
              "    <tr>\n",
              "      <th>4</th>\n",
              "      <td>5</td>\n",
              "      <td>58</td>\n",
              "      <td>29.0</td>\n",
              "      <td>0</td>\n",
              "      <td>6</td>\n",
              "    </tr>\n",
              "    <tr>\n",
              "      <th>...</th>\n",
              "      <td>...</td>\n",
              "      <td>...</td>\n",
              "      <td>...</td>\n",
              "      <td>...</td>\n",
              "      <td>...</td>\n",
              "    </tr>\n",
              "    <tr>\n",
              "      <th>739</th>\n",
              "      <td>740</td>\n",
              "      <td>11</td>\n",
              "      <td>26.0</td>\n",
              "      <td>1</td>\n",
              "      <td>6</td>\n",
              "    </tr>\n",
              "    <tr>\n",
              "      <th>740</th>\n",
              "      <td>741</td>\n",
              "      <td>35</td>\n",
              "      <td>24.0</td>\n",
              "      <td>1</td>\n",
              "      <td>2</td>\n",
              "    </tr>\n",
              "    <tr>\n",
              "      <th>741</th>\n",
              "      <td>742</td>\n",
              "      <td>54</td>\n",
              "      <td>27.0</td>\n",
              "      <td>1</td>\n",
              "      <td>6</td>\n",
              "    </tr>\n",
              "    <tr>\n",
              "      <th>742</th>\n",
              "      <td>743</td>\n",
              "      <td>38</td>\n",
              "      <td>32.0</td>\n",
              "      <td>1</td>\n",
              "      <td>12</td>\n",
              "    </tr>\n",
              "    <tr>\n",
              "      <th>743</th>\n",
              "      <td>744</td>\n",
              "      <td>51</td>\n",
              "      <td>26.0</td>\n",
              "      <td>1</td>\n",
              "      <td>6</td>\n",
              "    </tr>\n",
              "  </tbody>\n",
              "</table>\n",
              "<p>744 rows × 5 columns</p>\n",
              "</div>\n",
              "    <div class=\"colab-df-buttons\">\n",
              "\n",
              "  <div class=\"colab-df-container\">\n",
              "    <button class=\"colab-df-convert\" onclick=\"convertToInteractive('df-53ddaf41-2f8e-4015-bbdd-07c750a2db12')\"\n",
              "            title=\"Convert this dataframe to an interactive table.\"\n",
              "            style=\"display:none;\">\n",
              "\n",
              "  <svg xmlns=\"http://www.w3.org/2000/svg\" height=\"24px\" viewBox=\"0 -960 960 960\">\n",
              "    <path d=\"M120-120v-720h720v720H120Zm60-500h600v-160H180v160Zm220 220h160v-160H400v160Zm0 220h160v-160H400v160ZM180-400h160v-160H180v160Zm440 0h160v-160H620v160ZM180-180h160v-160H180v160Zm440 0h160v-160H620v160Z\"/>\n",
              "  </svg>\n",
              "    </button>\n",
              "\n",
              "  <style>\n",
              "    .colab-df-container {\n",
              "      display:flex;\n",
              "      gap: 12px;\n",
              "    }\n",
              "\n",
              "    .colab-df-convert {\n",
              "      background-color: #E8F0FE;\n",
              "      border: none;\n",
              "      border-radius: 50%;\n",
              "      cursor: pointer;\n",
              "      display: none;\n",
              "      fill: #1967D2;\n",
              "      height: 32px;\n",
              "      padding: 0 0 0 0;\n",
              "      width: 32px;\n",
              "    }\n",
              "\n",
              "    .colab-df-convert:hover {\n",
              "      background-color: #E2EBFA;\n",
              "      box-shadow: 0px 1px 2px rgba(60, 64, 67, 0.3), 0px 1px 3px 1px rgba(60, 64, 67, 0.15);\n",
              "      fill: #174EA6;\n",
              "    }\n",
              "\n",
              "    .colab-df-buttons div {\n",
              "      margin-bottom: 4px;\n",
              "    }\n",
              "\n",
              "    [theme=dark] .colab-df-convert {\n",
              "      background-color: #3B4455;\n",
              "      fill: #D2E3FC;\n",
              "    }\n",
              "\n",
              "    [theme=dark] .colab-df-convert:hover {\n",
              "      background-color: #434B5C;\n",
              "      box-shadow: 0px 1px 3px 1px rgba(0, 0, 0, 0.15);\n",
              "      filter: drop-shadow(0px 1px 2px rgba(0, 0, 0, 0.3));\n",
              "      fill: #FFFFFF;\n",
              "    }\n",
              "  </style>\n",
              "\n",
              "    <script>\n",
              "      const buttonEl =\n",
              "        document.querySelector('#df-53ddaf41-2f8e-4015-bbdd-07c750a2db12 button.colab-df-convert');\n",
              "      buttonEl.style.display =\n",
              "        google.colab.kernel.accessAllowed ? 'block' : 'none';\n",
              "\n",
              "      async function convertToInteractive(key) {\n",
              "        const element = document.querySelector('#df-53ddaf41-2f8e-4015-bbdd-07c750a2db12');\n",
              "        const dataTable =\n",
              "          await google.colab.kernel.invokeFunction('convertToInteractive',\n",
              "                                                    [key], {});\n",
              "        if (!dataTable) return;\n",
              "\n",
              "        const docLinkHtml = 'Like what you see? Visit the ' +\n",
              "          '<a target=\"_blank\" href=https://colab.research.google.com/notebooks/data_table.ipynb>data table notebook</a>'\n",
              "          + ' to learn more about interactive tables.';\n",
              "        element.innerHTML = '';\n",
              "        dataTable['output_type'] = 'display_data';\n",
              "        await google.colab.output.renderOutput(dataTable, element);\n",
              "        const docLink = document.createElement('div');\n",
              "        docLink.innerHTML = docLinkHtml;\n",
              "        element.appendChild(docLink);\n",
              "      }\n",
              "    </script>\n",
              "  </div>\n",
              "\n",
              "\n",
              "<div id=\"df-81165aaf-0806-4683-91c7-7fb05fa1b3aa\">\n",
              "  <button class=\"colab-df-quickchart\" onclick=\"quickchart('df-81165aaf-0806-4683-91c7-7fb05fa1b3aa')\"\n",
              "            title=\"Suggest charts.\"\n",
              "            style=\"display:none;\">\n",
              "\n",
              "<svg xmlns=\"http://www.w3.org/2000/svg\" height=\"24px\"viewBox=\"0 0 24 24\"\n",
              "     width=\"24px\">\n",
              "    <g>\n",
              "        <path d=\"M19 3H5c-1.1 0-2 .9-2 2v14c0 1.1.9 2 2 2h14c1.1 0 2-.9 2-2V5c0-1.1-.9-2-2-2zM9 17H7v-7h2v7zm4 0h-2V7h2v10zm4 0h-2v-4h2v4z\"/>\n",
              "    </g>\n",
              "</svg>\n",
              "  </button>\n",
              "\n",
              "<style>\n",
              "  .colab-df-quickchart {\n",
              "      --bg-color: #E8F0FE;\n",
              "      --fill-color: #1967D2;\n",
              "      --hover-bg-color: #E2EBFA;\n",
              "      --hover-fill-color: #174EA6;\n",
              "      --disabled-fill-color: #AAA;\n",
              "      --disabled-bg-color: #DDD;\n",
              "  }\n",
              "\n",
              "  [theme=dark] .colab-df-quickchart {\n",
              "      --bg-color: #3B4455;\n",
              "      --fill-color: #D2E3FC;\n",
              "      --hover-bg-color: #434B5C;\n",
              "      --hover-fill-color: #FFFFFF;\n",
              "      --disabled-bg-color: #3B4455;\n",
              "      --disabled-fill-color: #666;\n",
              "  }\n",
              "\n",
              "  .colab-df-quickchart {\n",
              "    background-color: var(--bg-color);\n",
              "    border: none;\n",
              "    border-radius: 50%;\n",
              "    cursor: pointer;\n",
              "    display: none;\n",
              "    fill: var(--fill-color);\n",
              "    height: 32px;\n",
              "    padding: 0;\n",
              "    width: 32px;\n",
              "  }\n",
              "\n",
              "  .colab-df-quickchart:hover {\n",
              "    background-color: var(--hover-bg-color);\n",
              "    box-shadow: 0 1px 2px rgba(60, 64, 67, 0.3), 0 1px 3px 1px rgba(60, 64, 67, 0.15);\n",
              "    fill: var(--button-hover-fill-color);\n",
              "  }\n",
              "\n",
              "  .colab-df-quickchart-complete:disabled,\n",
              "  .colab-df-quickchart-complete:disabled:hover {\n",
              "    background-color: var(--disabled-bg-color);\n",
              "    fill: var(--disabled-fill-color);\n",
              "    box-shadow: none;\n",
              "  }\n",
              "\n",
              "  .colab-df-spinner {\n",
              "    border: 2px solid var(--fill-color);\n",
              "    border-color: transparent;\n",
              "    border-bottom-color: var(--fill-color);\n",
              "    animation:\n",
              "      spin 1s steps(1) infinite;\n",
              "  }\n",
              "\n",
              "  @keyframes spin {\n",
              "    0% {\n",
              "      border-color: transparent;\n",
              "      border-bottom-color: var(--fill-color);\n",
              "      border-left-color: var(--fill-color);\n",
              "    }\n",
              "    20% {\n",
              "      border-color: transparent;\n",
              "      border-left-color: var(--fill-color);\n",
              "      border-top-color: var(--fill-color);\n",
              "    }\n",
              "    30% {\n",
              "      border-color: transparent;\n",
              "      border-left-color: var(--fill-color);\n",
              "      border-top-color: var(--fill-color);\n",
              "      border-right-color: var(--fill-color);\n",
              "    }\n",
              "    40% {\n",
              "      border-color: transparent;\n",
              "      border-right-color: var(--fill-color);\n",
              "      border-top-color: var(--fill-color);\n",
              "    }\n",
              "    60% {\n",
              "      border-color: transparent;\n",
              "      border-right-color: var(--fill-color);\n",
              "    }\n",
              "    80% {\n",
              "      border-color: transparent;\n",
              "      border-right-color: var(--fill-color);\n",
              "      border-bottom-color: var(--fill-color);\n",
              "    }\n",
              "    90% {\n",
              "      border-color: transparent;\n",
              "      border-bottom-color: var(--fill-color);\n",
              "    }\n",
              "  }\n",
              "</style>\n",
              "\n",
              "  <script>\n",
              "    async function quickchart(key) {\n",
              "      const quickchartButtonEl =\n",
              "        document.querySelector('#' + key + ' button');\n",
              "      quickchartButtonEl.disabled = true;  // To prevent multiple clicks.\n",
              "      quickchartButtonEl.classList.add('colab-df-spinner');\n",
              "      try {\n",
              "        const charts = await google.colab.kernel.invokeFunction(\n",
              "            'suggestCharts', [key], {});\n",
              "      } catch (error) {\n",
              "        console.error('Error during call to suggestCharts:', error);\n",
              "      }\n",
              "      quickchartButtonEl.classList.remove('colab-df-spinner');\n",
              "      quickchartButtonEl.classList.add('colab-df-quickchart-complete');\n",
              "    }\n",
              "    (() => {\n",
              "      let quickchartButtonEl =\n",
              "        document.querySelector('#df-81165aaf-0806-4683-91c7-7fb05fa1b3aa button');\n",
              "      quickchartButtonEl.style.display =\n",
              "        google.colab.kernel.accessAllowed ? 'block' : 'none';\n",
              "    })();\n",
              "  </script>\n",
              "</div>\n",
              "    </div>\n",
              "  </div>\n"
            ]
          },
          "metadata": {},
          "execution_count": 79
        }
      ]
    },
    {
      "cell_type": "code",
      "source": [
        "new_df.to_csv('ML_project_layer_9.csv',index=False)"
      ],
      "metadata": {
        "id": "Cz6bb9XJmDlA"
      },
      "execution_count": 80,
      "outputs": []
    },
    {
      "cell_type": "code",
      "source": [],
      "metadata": {
        "id": "xKZpp5fwms0U"
      },
      "execution_count": 80,
      "outputs": []
    }
  ]
}