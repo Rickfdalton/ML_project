{
  "nbformat": 4,
  "nbformat_minor": 0,
  "metadata": {
    "colab": {
      "provenance": [],
      "gpuType": "T4"
    },
    "kernelspec": {
      "name": "python3",
      "display_name": "Python 3"
    },
    "language_info": {
      "name": "python"
    },
    "accelerator": "GPU"
  },
  "cells": [
    {
      "cell_type": "code",
      "execution_count": null,
      "metadata": {
        "id": "K5IJLUpUMMQx"
      },
      "outputs": [],
      "source": [
        "import pandas as pd\n",
        "import numpy as np\n",
        "from scipy import stats\n"
      ]
    },
    {
      "cell_type": "code",
      "source": [
        "from google.colab import drive\n",
        "drive.mount('/content/drive')"
      ],
      "metadata": {
        "id": "4QgWkmvnSauV"
      },
      "execution_count": null,
      "outputs": []
    },
    {
      "cell_type": "code",
      "source": [
        "df = pd.read_csv('/content/drive/MyDrive/layer-10/train.csv')\n",
        "valid = pd.read_csv('/content/drive/MyDrive/layer-10/valid.csv')\n",
        "test = pd.read_csv('/content/drive/MyDrive/layer-10/test.csv')"
      ],
      "metadata": {
        "id": "13KAuXr4Sdag"
      },
      "execution_count": null,
      "outputs": []
    },
    {
      "cell_type": "code",
      "source": [
        "df"
      ],
      "metadata": {
        "id": "Y6gj1UV1VRvV"
      },
      "execution_count": null,
      "outputs": []
    },
    {
      "cell_type": "code",
      "source": [
        "df.label_1.value_counts()\n"
      ],
      "metadata": {
        "id": "wuTh3V0aVTUr"
      },
      "execution_count": null,
      "outputs": []
    },
    {
      "cell_type": "code",
      "source": [
        "df.label_2.value_counts()\n"
      ],
      "metadata": {
        "id": "HXUf3Xr8VxS7"
      },
      "execution_count": null,
      "outputs": []
    },
    {
      "cell_type": "code",
      "source": [
        "df.label_3.value_counts()\n"
      ],
      "metadata": {
        "id": "NrqPrihkV3tD"
      },
      "execution_count": null,
      "outputs": []
    },
    {
      "cell_type": "code",
      "source": [
        "df.label_4.value_counts()\n",
        "\n"
      ],
      "metadata": {
        "id": "8AKVI_33V59G"
      },
      "execution_count": null,
      "outputs": []
    },
    {
      "cell_type": "markdown",
      "source": [
        "## **Feature Engineering**"
      ],
      "metadata": {
        "id": "NhIQadQyP0Mp"
      }
    },
    {
      "cell_type": "code",
      "source": [
        "from sklearn.feature_selection import mutual_info_regression\n",
        "\n",
        "def make_mi_scores(X, y, discrete_features):\n",
        "    mi_scores = mutual_info_regression(X, y, discrete_features=discrete_features)\n",
        "    mi_scores = pd.Series(mi_scores, name=\"MI Scores\", index=X.columns)\n",
        "    mi_scores = mi_scores.sort_values(ascending=False)\n",
        "    return mi_scores\n"
      ],
      "metadata": {
        "id": "reJNq94PP4M1"
      },
      "execution_count": null,
      "outputs": []
    },
    {
      "cell_type": "code",
      "source": [],
      "metadata": {
        "id": "VaWRiVC7XHyC"
      },
      "execution_count": null,
      "outputs": []
    },
    {
      "cell_type": "markdown",
      "source": [
        "## Label-**1**"
      ],
      "metadata": {
        "id": "3pxGUqtVYb2T"
      }
    },
    {
      "cell_type": "code",
      "source": [
        "import sklearn\n",
        "from sklearn.metrics import classification_report, confusion_matrix\n",
        "from sklearn.svm import SVC\n",
        "from sklearn.model_selection import GridSearchCV\n"
      ],
      "metadata": {
        "id": "SebEJNkXWAUe"
      },
      "execution_count": null,
      "outputs": []
    },
    {
      "cell_type": "code",
      "source": [
        "model_1= SVC()\n",
        "\n",
        "df_1=df.copy()\n",
        "valid_1=valid.copy()\n",
        "\n",
        "X_train_1=df_1.drop(columns=['label_1','label_2','label_3','label_4'])\n",
        "y_train_1=df_1.label_1\n",
        "X_test_1 = test.copy().drop(columns=['ID'])\n",
        "X_valid_1=valid_1.drop(columns=['label_1','label_2','label_3','label_4'])\n",
        "y_valid_1=valid.label_1\n",
        "\n"
      ],
      "metadata": {
        "id": "CenonYfOYybN"
      },
      "execution_count": null,
      "outputs": []
    },
    {
      "cell_type": "code",
      "source": [
        "#feature engineering\n",
        "discrete_features = X_train_1.dtypes == int\n",
        "\n",
        "mi_scores = make_mi_scores(X_train_1, y_train_1, discrete_features)\n",
        "mi_scores.sort_values(ascending=False)\n",
        "\n",
        "# Get the last 200 feature names\n",
        "last_200_features = mi_scores.index[-200:]\n",
        "\n",
        "# Print the last 100 feature names\n",
        "print(last_200_features)\n",
        "X_train_1 = X_train_1.drop(columns=last_200_features)"
      ],
      "metadata": {
        "id": "0Pjr6KyZOQCW"
      },
      "execution_count": null,
      "outputs": []
    },
    {
      "cell_type": "code",
      "source": [
        "model_1.fit(X_train_1,y_train_1)\n"
      ],
      "metadata": {
        "id": "px_Y-7j3aFl0"
      },
      "execution_count": null,
      "outputs": []
    },
    {
      "cell_type": "code",
      "source": [
        "y_pred_1 = model_1.predict(X_valid_1)\n",
        "y_test_1= model_1.predict(X_test_1)\n"
      ],
      "metadata": {
        "id": "GwD2eqzSaLge"
      },
      "execution_count": null,
      "outputs": []
    },
    {
      "cell_type": "code",
      "source": [
        "print(classification_report(y_valid_1, y_pred_1))"
      ],
      "metadata": {
        "colab": {
          "base_uri": "https://localhost:8080/"
        },
        "id": "lcOa2sgzcdMN",
        "outputId": "937924d2-6c13-4a7d-a14a-812a9985dc25"
      },
      "execution_count": 20,
      "outputs": [
        {
          "output_type": "stream",
          "name": "stdout",
          "text": [
            "              precision    recall  f1-score   support\n",
            "\n",
            "           1       1.00      0.92      0.96        13\n",
            "           2       1.00      1.00      1.00         9\n",
            "           3       0.92      1.00      0.96        12\n",
            "           4       0.73      1.00      0.84        16\n",
            "           5       0.82      0.78      0.80        18\n",
            "           6       1.00      1.00      1.00         9\n",
            "           7       0.73      0.94      0.82        17\n",
            "           8       0.91      0.71      0.80        14\n",
            "           9       1.00      0.91      0.95        11\n",
            "          10       1.00      1.00      1.00         8\n",
            "          11       0.95      0.95      0.95        19\n",
            "          12       1.00      1.00      1.00         7\n",
            "          13       1.00      0.82      0.90        11\n",
            "          14       1.00      0.93      0.97        15\n",
            "          15       1.00      0.88      0.94        17\n",
            "          16       1.00      0.93      0.96        14\n",
            "          17       1.00      0.86      0.92        14\n",
            "          18       1.00      0.95      0.97        19\n",
            "          19       0.81      0.87      0.84        15\n",
            "          20       0.91      0.91      0.91        11\n",
            "          21       1.00      0.93      0.96        14\n",
            "          22       0.91      0.91      0.91        11\n",
            "          23       0.83      1.00      0.91        10\n",
            "          24       1.00      0.83      0.91        12\n",
            "          25       1.00      1.00      1.00        11\n",
            "          26       1.00      1.00      1.00         7\n",
            "          27       1.00      0.94      0.97        16\n",
            "          28       1.00      1.00      1.00        11\n",
            "          29       1.00      0.93      0.97        15\n",
            "          30       1.00      0.88      0.93         8\n",
            "          31       1.00      0.83      0.91        12\n",
            "          32       1.00      1.00      1.00         9\n",
            "          33       0.46      1.00      0.63         6\n",
            "          34       0.91      0.77      0.83        13\n",
            "          35       1.00      0.88      0.93         8\n",
            "          36       1.00      1.00      1.00        18\n",
            "          37       1.00      0.94      0.97        16\n",
            "          38       1.00      1.00      1.00        11\n",
            "          39       1.00      1.00      1.00        13\n",
            "          40       0.92      0.92      0.92        12\n",
            "          41       1.00      1.00      1.00        10\n",
            "          42       0.86      1.00      0.92        12\n",
            "          43       1.00      1.00      1.00        12\n",
            "          44       1.00      0.95      0.97        19\n",
            "          45       0.86      0.86      0.86        14\n",
            "          46       1.00      1.00      1.00        11\n",
            "          47       0.89      1.00      0.94         8\n",
            "          48       0.84      0.94      0.89        17\n",
            "          49       0.87      1.00      0.93        13\n",
            "          50       1.00      1.00      1.00        13\n",
            "          51       1.00      1.00      1.00         8\n",
            "          52       1.00      1.00      1.00        11\n",
            "          53       1.00      0.93      0.97        15\n",
            "          54       0.80      0.89      0.84         9\n",
            "          55       1.00      1.00      1.00         8\n",
            "          56       1.00      1.00      1.00        10\n",
            "          57       1.00      1.00      1.00        18\n",
            "          58       1.00      0.95      0.97        20\n",
            "          59       0.83      1.00      0.91        10\n",
            "          60       1.00      0.80      0.89        10\n",
            "\n",
            "    accuracy                           0.94       750\n",
            "   macro avg       0.95      0.94      0.94       750\n",
            "weighted avg       0.95      0.94      0.94       750\n",
            "\n"
          ]
        }
      ]
    },
    {
      "cell_type": "markdown",
      "source": [
        "## Label-**2**"
      ],
      "metadata": {
        "id": "4LB3Y9aWlJ1U"
      }
    },
    {
      "cell_type": "code",
      "source": [
        "import sklearn\n",
        "from sklearn.metrics import classification_report, confusion_matrix\n",
        "from sklearn.svm import SVC\n",
        "from sklearn.model_selection import GridSearchCV\n",
        "\n"
      ],
      "metadata": {
        "id": "21afDMytlJ1V"
      },
      "execution_count": null,
      "outputs": []
    },
    {
      "cell_type": "code",
      "source": [
        "model_2= SVC()\n",
        "\n",
        "df_2=df.copy()\n",
        "df_2=df_2.dropna()\n",
        "valid_2=valid.copy()\n",
        "\n",
        "X_train_2=df_2.drop(columns=['label_1','label_2','label_3','label_4'])\n",
        "y_train_2=df_2.label_2\n",
        "X_test_2 = test.copy().drop(columns=['ID'])\n",
        "\n",
        "valid_2=valid_2.dropna()\n",
        "X_valid_2=valid_2.drop(columns=['label_1','label_2','label_3','label_4'])\n",
        "y_valid_2=valid_2.label_2\n",
        "\n"
      ],
      "metadata": {
        "id": "p9TI2VRqlJ1V"
      },
      "execution_count": null,
      "outputs": []
    },
    {
      "cell_type": "code",
      "source": [
        "#feature engineering\n",
        "discrete_features = X_train_2.dtypes == int\n",
        "\n",
        "mi_scores = make_mi_scores(X_train_2, y_train_2, discrete_features)\n",
        "mi_scores.sort_values(ascending=False)\n",
        "\n",
        "# Get the last 200 feature names\n",
        "last_200_features = mi_scores.index[-200:]\n",
        "\n",
        "# Print the last 100 feature names\n",
        "print(last_200_features)\n",
        "X_train_2 = X_train_2.drop(columns=last_200_features)"
      ],
      "metadata": {
        "id": "rkCDIQiYMpGi"
      },
      "execution_count": null,
      "outputs": []
    },
    {
      "cell_type": "code",
      "source": [
        "model_2.fit(X_train_2,y_train_2)\n"
      ],
      "metadata": {
        "id": "U9Q9Eqe1lJ1V"
      },
      "execution_count": null,
      "outputs": []
    },
    {
      "cell_type": "code",
      "source": [
        "y_pred_2 = model_2.predict(X_valid_2)\n",
        "y_test_2= model_2.predict(X_test_2)\n"
      ],
      "metadata": {
        "id": "uDWcKBxalJ1W"
      },
      "execution_count": null,
      "outputs": []
    },
    {
      "cell_type": "code",
      "source": [
        "print(classification_report(y_valid_2, y_pred_2))"
      ],
      "metadata": {
        "id": "DUv3A9M9lJ1W"
      },
      "execution_count": null,
      "outputs": []
    },
    {
      "cell_type": "markdown",
      "source": [
        "## Label-**3**"
      ],
      "metadata": {
        "id": "7rfSupBjp7K0"
      }
    },
    {
      "cell_type": "code",
      "source": [
        "import sklearn\n",
        "from sklearn.metrics import classification_report, confusion_matrix\n",
        "from sklearn.svm import SVC\n",
        "from sklearn.model_selection import GridSearchCV\n",
        "from sklearn.utils import resample\n",
        "\n"
      ],
      "metadata": {
        "id": "lgizkomkp7K-"
      },
      "execution_count": null,
      "outputs": []
    },
    {
      "cell_type": "code",
      "source": [
        "model_3= SVC()\n",
        "\n",
        "df_3=df.copy()\n",
        "df_class_0 = df_3[df_3['label_3'] == 0]\n",
        "df_class_1 = df_3[df_3['label_3'] == 1]\n",
        "\n",
        "# Undersample the majority class (class 1)\n",
        "undersampled_df_class_1 = resample(df_class_1,\n",
        "                                   replace=False,  # Set to True if you want to sample with replacement\n",
        "                                   n_samples=len(df_class_0),  # Match the number of samples in class 0\n",
        "                                   random_state=42)  # Set a random seed for reproducibility\n",
        "\n",
        "# Combine minority and down-sampled majority classes\n",
        "df_balanced = pd.concat([df_class_0, undersampled_df_class_1])\n",
        "\n",
        "# Shuffle the balanced dataset\n",
        "df_3 = df_balanced.sample(frac=1, random_state=42)\n",
        "\n",
        "valid_3=valid.copy()\n",
        "\n",
        "X_train_3=df_3.drop(columns=['label_1','label_2','label_3','label_4'])\n",
        "y_train_3=df_3.label_3\n",
        "X_test_3 = test.copy().drop(columns=['ID'])\n",
        "\n",
        "X_valid_3=valid_3.drop(columns=['label_1','label_2','label_3','label_4'])\n",
        "y_valid_3=valid_3.label_3\n",
        "\n"
      ],
      "metadata": {
        "id": "P6v2--Evp7K-"
      },
      "execution_count": null,
      "outputs": []
    },
    {
      "cell_type": "code",
      "source": [
        "model_3.fit(X_train_3,y_train_3)\n"
      ],
      "metadata": {
        "id": "8ydDIvUzp7K-"
      },
      "execution_count": null,
      "outputs": []
    },
    {
      "cell_type": "code",
      "source": [
        "y_pred_3 = model_3.predict(X_valid_3)\n",
        "y_test_3= model_3.predict(X_test_3)\n"
      ],
      "metadata": {
        "id": "yY9YFThzp7K_"
      },
      "execution_count": null,
      "outputs": []
    },
    {
      "cell_type": "code",
      "source": [
        "print(classification_report(y_valid_3, y_pred_3))"
      ],
      "metadata": {
        "id": "xnZvHHw5p7K_"
      },
      "execution_count": null,
      "outputs": []
    },
    {
      "cell_type": "markdown",
      "source": [
        "## Label-**4**"
      ],
      "metadata": {
        "id": "6G5wON4Wtepv"
      }
    },
    {
      "cell_type": "code",
      "source": [
        "import sklearn\n",
        "from sklearn.metrics import classification_report, confusion_matrix\n",
        "from sklearn.svm import SVC\n",
        "from sklearn.model_selection import GridSearchCV\n",
        "from sklearn.utils import resample\n",
        "\n"
      ],
      "metadata": {
        "id": "XaFFOVuOtep5"
      },
      "execution_count": null,
      "outputs": []
    },
    {
      "cell_type": "code",
      "source": [
        "model_4= SVC()\n",
        "\n",
        "df_4=df.copy()\n",
        "\n",
        "# Separate the majority class (class 6) from other classes\n",
        "majority_class = 6\n",
        "minority_classes = [0, 1, 2, 3, 4, 5, 7, 8, 9, 10, 11, 12, 13]\n",
        "\n",
        "# Create DataFrames for majority and minority classes\n",
        "df_4_majority = df_4[df_4['label_4'] == majority_class]\n",
        "df_4_minority = df_4[df_4['label_4'].isin(minority_classes)]\n",
        "\n",
        "# Down-sample the majority class to match the size of minority classes\n",
        "num_samples_minority = len(df_4_minority)\n",
        "df_majority_downsampled = resample(df_4_majority, replace=False, n_samples=num_samples_minority, random_state=42)\n",
        "\n",
        "# Combine minority and down-sampled majority classes\n",
        "df_4_balanced = pd.concat([df_4_minority, df_majority_downsampled])\n",
        "\n",
        "# Shuffle the balanced dataset\n",
        "df_4 = df_4_balanced.sample(frac=1, random_state=42)\n",
        "\n",
        "valid_4=valid.copy()\n",
        "\n",
        "X_train_4=df_4.drop(columns=['label_1','label_2','label_3','label_4'])\n",
        "y_train_4=df_4.label_4\n",
        "X_test_4 = test.copy().drop(columns=['ID'])\n",
        "\n",
        "X_valid_4=valid_4.drop(columns=['label_1','label_2','label_3','label_4'])\n",
        "y_valid_4=valid_4.label_4\n",
        "\n"
      ],
      "metadata": {
        "id": "B_smja8Dtep5"
      },
      "execution_count": null,
      "outputs": []
    },
    {
      "cell_type": "code",
      "source": [
        "#feature engineering\n",
        "discrete_features = X_train_4.dtypes == int\n",
        "\n",
        "mi_scores = make_mi_scores(X_train_4, y_train_4, discrete_features)\n",
        "mi_scores.sort_values(ascending=False)\n",
        "\n",
        "# Get the last 200 feature names\n",
        "last_200_features = mi_scores.index[-200:]\n",
        "\n",
        "# Print the last 100 feature names\n",
        "print(last_200_features)\n",
        "X_train_4 = X_train_4.drop(columns=last_200_features)"
      ],
      "metadata": {
        "id": "hrtl7n6YI9oL"
      },
      "execution_count": null,
      "outputs": []
    },
    {
      "cell_type": "code",
      "source": [
        "model_4.fit(X_train_4,y_train_4)\n"
      ],
      "metadata": {
        "id": "8q1fUHhitep5"
      },
      "execution_count": null,
      "outputs": []
    },
    {
      "cell_type": "code",
      "source": [
        "y_pred_4 = model_4.predict(X_valid_4)\n",
        "y_test_4= model_4.predict(X_test_4)\n"
      ],
      "metadata": {
        "id": "4kWgQ0Aktep6"
      },
      "execution_count": null,
      "outputs": []
    },
    {
      "cell_type": "code",
      "source": [
        "print(classification_report(y_valid_4, y_pred_4))"
      ],
      "metadata": {
        "id": "hEubuFCVtep6"
      },
      "execution_count": null,
      "outputs": []
    },
    {
      "cell_type": "markdown",
      "source": [
        "## **final output**"
      ],
      "metadata": {
        "id": "xBBzHmyilVwR"
      }
    },
    {
      "cell_type": "code",
      "source": [
        "new_df = pd.DataFrame({\"ID\": test[\"ID\"], 'label_1': y_test_1 ,'label_2': y_test_2 ,'label_3': y_test_3 ,'label_4': y_test_4 })\n"
      ],
      "metadata": {
        "id": "SMcp0PfUlZRm"
      },
      "execution_count": null,
      "outputs": []
    },
    {
      "cell_type": "code",
      "source": [
        "new_df"
      ],
      "metadata": {
        "id": "iZ38cF9al68N"
      },
      "execution_count": null,
      "outputs": []
    },
    {
      "cell_type": "code",
      "source": [
        "new_df.to_csv('ML_project_layer_10.csv',index=False)"
      ],
      "metadata": {
        "id": "Cz6bb9XJmDlA"
      },
      "execution_count": null,
      "outputs": []
    },
    {
      "cell_type": "code",
      "source": [],
      "metadata": {
        "id": "xKZpp5fwms0U"
      },
      "execution_count": null,
      "outputs": []
    }
  ]
}