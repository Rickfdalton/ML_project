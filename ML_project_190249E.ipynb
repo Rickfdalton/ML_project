{
  "nbformat": 4,
  "nbformat_minor": 0,
  "metadata": {
    "colab": {
      "provenance": []
    },
    "kernelspec": {
      "name": "python3",
      "display_name": "Python 3"
    },
    "language_info": {
      "name": "python"
    }
  },
  "cells": [
    {
      "cell_type": "code",
      "source": [
        "import pandas as pd\n",
        "import numpy as np\n",
        "from scipy import stats\n"
      ],
      "metadata": {
        "id": "UoJOjC_NYebP"
      },
      "execution_count": 170,
      "outputs": []
    },
    {
      "cell_type": "code",
      "execution_count": 171,
      "metadata": {
        "colab": {
          "base_uri": "https://localhost:8080/"
        },
        "id": "Lo67IGByUZIe",
        "outputId": "ada6f176-8a41-463f-efc7-a068abcd36ed"
      },
      "outputs": [
        {
          "output_type": "stream",
          "name": "stdout",
          "text": [
            "Drive already mounted at /content/drive; to attempt to forcibly remount, call drive.mount(\"/content/drive\", force_remount=True).\n"
          ]
        }
      ],
      "source": [
        "from google.colab import drive\n",
        "drive.mount('/content/drive')"
      ]
    },
    {
      "cell_type": "code",
      "source": [
        "df = pd.read_csv('/content/drive/MyDrive/layer-9/train.csv')\n",
        "valid = pd.read_csv('/content/drive/MyDrive/layer-9/valid.csv')\n",
        "test = pd.read_csv('/content/drive/MyDrive/layer-9/test.csv')\n"
      ],
      "metadata": {
        "id": "gxZNovtUY5Nu"
      },
      "execution_count": 203,
      "outputs": []
    },
    {
      "cell_type": "code",
      "source": [
        "df"
      ],
      "metadata": {
        "colab": {
          "base_uri": "https://localhost:8080/",
          "height": 444
        },
        "id": "bx3dncxLZpHx",
        "outputId": "06d9916e-b885-4a3c-ab57-62a0f052359a"
      },
      "execution_count": 173,
      "outputs": [
        {
          "output_type": "execute_result",
          "data": {
            "text/plain": [
              "       feature_1  feature_2  feature_3  feature_4  feature_5  feature_6  \\\n",
              "0       0.019301   0.059756   0.081375   0.057481  -0.068440  -0.165913   \n",
              "1       0.049741   0.090030   0.035118  -0.013676  -0.194317  -0.101763   \n",
              "2       0.019212   0.087779   0.093907  -0.033738  -0.141409  -0.062881   \n",
              "3       0.070283   0.049040   0.042126   0.122637  -0.056964  -0.113700   \n",
              "4       0.028864   0.165634   0.016302   0.036117  -0.028871  -0.147748   \n",
              "...          ...        ...        ...        ...        ...        ...   \n",
              "28515  -0.041520   0.302638   0.004811   0.211441  -0.249326  -0.113395   \n",
              "28516  -0.056359   0.061850   0.051865   0.032107  -0.005930  -0.040313   \n",
              "28517   0.019361   0.148111   0.093434   0.011795  -0.074029  -0.077628   \n",
              "28518  -0.043644   0.084073   0.074749   0.091776  -0.090782  -0.163187   \n",
              "28519  -0.039625   0.159638   0.042608   0.046212  -0.025058  -0.143171   \n",
              "\n",
              "       feature_7  feature_8  feature_9  feature_10  ...  feature_763  \\\n",
              "0       0.035643  -0.091138   0.021688    0.057158  ...    -0.035576   \n",
              "1       0.085875  -0.081317   0.112418    0.120523  ...     0.020538   \n",
              "2      -0.071402  -0.006599   0.020372   -0.027777  ...     0.119645   \n",
              "3       0.108454   0.051336   0.086610    0.141578  ...    -0.124494   \n",
              "4       0.053180   0.025071  -0.004200   -0.022183  ...    -0.124862   \n",
              "...          ...        ...        ...         ...  ...          ...   \n",
              "28515  -0.146776  -0.146222  -0.040344   -0.124016  ...     0.290069   \n",
              "28516   0.117453  -0.067553   0.045004    0.035735  ...     0.004518   \n",
              "28517   0.049933  -0.096354   0.138556    0.130414  ...     0.014918   \n",
              "28518  -0.012568  -0.051021   0.038726    0.011009  ...    -0.098420   \n",
              "28519   0.111391  -0.109869   0.020852    0.152014  ...    -0.000068   \n",
              "\n",
              "       feature_764  feature_765  feature_766  feature_767  feature_768  \\\n",
              "0         0.127319     0.098128    -0.058787     0.100971    -0.047754   \n",
              "1         0.058968     0.029803     0.111324     0.036727     0.031927   \n",
              "2        -0.040861     0.000548    -0.061003    -0.042450     0.063340   \n",
              "3        -0.169225    -0.046391     0.148787     0.014616    -0.140644   \n",
              "4         0.044907     0.084005    -0.038450     0.084371    -0.072146   \n",
              "...            ...          ...          ...          ...          ...   \n",
              "28515    -0.223051    -0.053575    -0.230222    -0.451943     0.117817   \n",
              "28516     0.035248    -0.047345    -0.006539    -0.025633     0.002474   \n",
              "28517     0.015676    -0.033608     0.068212     0.049871    -0.027607   \n",
              "28518     0.113067     0.028218     0.036682     0.030056    -0.084346   \n",
              "28519     0.111601    -0.065572     0.155703    -0.016872    -0.020940   \n",
              "\n",
              "       label_1  label_2  label_3  label_4  \n",
              "0           45      NaN        1        6  \n",
              "1           45      NaN        1        6  \n",
              "2           45      NaN        1        6  \n",
              "3           45      NaN        1        6  \n",
              "4           45      NaN        1        6  \n",
              "...        ...      ...      ...      ...  \n",
              "28515       39     29.0        1        6  \n",
              "28516       39     29.0        1        6  \n",
              "28517       39     29.0        1        6  \n",
              "28518       39     29.0        1        6  \n",
              "28519       39     29.0        1        6  \n",
              "\n",
              "[28520 rows x 772 columns]"
            ],
            "text/html": [
              "\n",
              "  <div id=\"df-2a7de60b-316c-4341-bfae-dacd84da6fa3\" class=\"colab-df-container\">\n",
              "    <div>\n",
              "<style scoped>\n",
              "    .dataframe tbody tr th:only-of-type {\n",
              "        vertical-align: middle;\n",
              "    }\n",
              "\n",
              "    .dataframe tbody tr th {\n",
              "        vertical-align: top;\n",
              "    }\n",
              "\n",
              "    .dataframe thead th {\n",
              "        text-align: right;\n",
              "    }\n",
              "</style>\n",
              "<table border=\"1\" class=\"dataframe\">\n",
              "  <thead>\n",
              "    <tr style=\"text-align: right;\">\n",
              "      <th></th>\n",
              "      <th>feature_1</th>\n",
              "      <th>feature_2</th>\n",
              "      <th>feature_3</th>\n",
              "      <th>feature_4</th>\n",
              "      <th>feature_5</th>\n",
              "      <th>feature_6</th>\n",
              "      <th>feature_7</th>\n",
              "      <th>feature_8</th>\n",
              "      <th>feature_9</th>\n",
              "      <th>feature_10</th>\n",
              "      <th>...</th>\n",
              "      <th>feature_763</th>\n",
              "      <th>feature_764</th>\n",
              "      <th>feature_765</th>\n",
              "      <th>feature_766</th>\n",
              "      <th>feature_767</th>\n",
              "      <th>feature_768</th>\n",
              "      <th>label_1</th>\n",
              "      <th>label_2</th>\n",
              "      <th>label_3</th>\n",
              "      <th>label_4</th>\n",
              "    </tr>\n",
              "  </thead>\n",
              "  <tbody>\n",
              "    <tr>\n",
              "      <th>0</th>\n",
              "      <td>0.019301</td>\n",
              "      <td>0.059756</td>\n",
              "      <td>0.081375</td>\n",
              "      <td>0.057481</td>\n",
              "      <td>-0.068440</td>\n",
              "      <td>-0.165913</td>\n",
              "      <td>0.035643</td>\n",
              "      <td>-0.091138</td>\n",
              "      <td>0.021688</td>\n",
              "      <td>0.057158</td>\n",
              "      <td>...</td>\n",
              "      <td>-0.035576</td>\n",
              "      <td>0.127319</td>\n",
              "      <td>0.098128</td>\n",
              "      <td>-0.058787</td>\n",
              "      <td>0.100971</td>\n",
              "      <td>-0.047754</td>\n",
              "      <td>45</td>\n",
              "      <td>NaN</td>\n",
              "      <td>1</td>\n",
              "      <td>6</td>\n",
              "    </tr>\n",
              "    <tr>\n",
              "      <th>1</th>\n",
              "      <td>0.049741</td>\n",
              "      <td>0.090030</td>\n",
              "      <td>0.035118</td>\n",
              "      <td>-0.013676</td>\n",
              "      <td>-0.194317</td>\n",
              "      <td>-0.101763</td>\n",
              "      <td>0.085875</td>\n",
              "      <td>-0.081317</td>\n",
              "      <td>0.112418</td>\n",
              "      <td>0.120523</td>\n",
              "      <td>...</td>\n",
              "      <td>0.020538</td>\n",
              "      <td>0.058968</td>\n",
              "      <td>0.029803</td>\n",
              "      <td>0.111324</td>\n",
              "      <td>0.036727</td>\n",
              "      <td>0.031927</td>\n",
              "      <td>45</td>\n",
              "      <td>NaN</td>\n",
              "      <td>1</td>\n",
              "      <td>6</td>\n",
              "    </tr>\n",
              "    <tr>\n",
              "      <th>2</th>\n",
              "      <td>0.019212</td>\n",
              "      <td>0.087779</td>\n",
              "      <td>0.093907</td>\n",
              "      <td>-0.033738</td>\n",
              "      <td>-0.141409</td>\n",
              "      <td>-0.062881</td>\n",
              "      <td>-0.071402</td>\n",
              "      <td>-0.006599</td>\n",
              "      <td>0.020372</td>\n",
              "      <td>-0.027777</td>\n",
              "      <td>...</td>\n",
              "      <td>0.119645</td>\n",
              "      <td>-0.040861</td>\n",
              "      <td>0.000548</td>\n",
              "      <td>-0.061003</td>\n",
              "      <td>-0.042450</td>\n",
              "      <td>0.063340</td>\n",
              "      <td>45</td>\n",
              "      <td>NaN</td>\n",
              "      <td>1</td>\n",
              "      <td>6</td>\n",
              "    </tr>\n",
              "    <tr>\n",
              "      <th>3</th>\n",
              "      <td>0.070283</td>\n",
              "      <td>0.049040</td>\n",
              "      <td>0.042126</td>\n",
              "      <td>0.122637</td>\n",
              "      <td>-0.056964</td>\n",
              "      <td>-0.113700</td>\n",
              "      <td>0.108454</td>\n",
              "      <td>0.051336</td>\n",
              "      <td>0.086610</td>\n",
              "      <td>0.141578</td>\n",
              "      <td>...</td>\n",
              "      <td>-0.124494</td>\n",
              "      <td>-0.169225</td>\n",
              "      <td>-0.046391</td>\n",
              "      <td>0.148787</td>\n",
              "      <td>0.014616</td>\n",
              "      <td>-0.140644</td>\n",
              "      <td>45</td>\n",
              "      <td>NaN</td>\n",
              "      <td>1</td>\n",
              "      <td>6</td>\n",
              "    </tr>\n",
              "    <tr>\n",
              "      <th>4</th>\n",
              "      <td>0.028864</td>\n",
              "      <td>0.165634</td>\n",
              "      <td>0.016302</td>\n",
              "      <td>0.036117</td>\n",
              "      <td>-0.028871</td>\n",
              "      <td>-0.147748</td>\n",
              "      <td>0.053180</td>\n",
              "      <td>0.025071</td>\n",
              "      <td>-0.004200</td>\n",
              "      <td>-0.022183</td>\n",
              "      <td>...</td>\n",
              "      <td>-0.124862</td>\n",
              "      <td>0.044907</td>\n",
              "      <td>0.084005</td>\n",
              "      <td>-0.038450</td>\n",
              "      <td>0.084371</td>\n",
              "      <td>-0.072146</td>\n",
              "      <td>45</td>\n",
              "      <td>NaN</td>\n",
              "      <td>1</td>\n",
              "      <td>6</td>\n",
              "    </tr>\n",
              "    <tr>\n",
              "      <th>...</th>\n",
              "      <td>...</td>\n",
              "      <td>...</td>\n",
              "      <td>...</td>\n",
              "      <td>...</td>\n",
              "      <td>...</td>\n",
              "      <td>...</td>\n",
              "      <td>...</td>\n",
              "      <td>...</td>\n",
              "      <td>...</td>\n",
              "      <td>...</td>\n",
              "      <td>...</td>\n",
              "      <td>...</td>\n",
              "      <td>...</td>\n",
              "      <td>...</td>\n",
              "      <td>...</td>\n",
              "      <td>...</td>\n",
              "      <td>...</td>\n",
              "      <td>...</td>\n",
              "      <td>...</td>\n",
              "      <td>...</td>\n",
              "      <td>...</td>\n",
              "    </tr>\n",
              "    <tr>\n",
              "      <th>28515</th>\n",
              "      <td>-0.041520</td>\n",
              "      <td>0.302638</td>\n",
              "      <td>0.004811</td>\n",
              "      <td>0.211441</td>\n",
              "      <td>-0.249326</td>\n",
              "      <td>-0.113395</td>\n",
              "      <td>-0.146776</td>\n",
              "      <td>-0.146222</td>\n",
              "      <td>-0.040344</td>\n",
              "      <td>-0.124016</td>\n",
              "      <td>...</td>\n",
              "      <td>0.290069</td>\n",
              "      <td>-0.223051</td>\n",
              "      <td>-0.053575</td>\n",
              "      <td>-0.230222</td>\n",
              "      <td>-0.451943</td>\n",
              "      <td>0.117817</td>\n",
              "      <td>39</td>\n",
              "      <td>29.0</td>\n",
              "      <td>1</td>\n",
              "      <td>6</td>\n",
              "    </tr>\n",
              "    <tr>\n",
              "      <th>28516</th>\n",
              "      <td>-0.056359</td>\n",
              "      <td>0.061850</td>\n",
              "      <td>0.051865</td>\n",
              "      <td>0.032107</td>\n",
              "      <td>-0.005930</td>\n",
              "      <td>-0.040313</td>\n",
              "      <td>0.117453</td>\n",
              "      <td>-0.067553</td>\n",
              "      <td>0.045004</td>\n",
              "      <td>0.035735</td>\n",
              "      <td>...</td>\n",
              "      <td>0.004518</td>\n",
              "      <td>0.035248</td>\n",
              "      <td>-0.047345</td>\n",
              "      <td>-0.006539</td>\n",
              "      <td>-0.025633</td>\n",
              "      <td>0.002474</td>\n",
              "      <td>39</td>\n",
              "      <td>29.0</td>\n",
              "      <td>1</td>\n",
              "      <td>6</td>\n",
              "    </tr>\n",
              "    <tr>\n",
              "      <th>28517</th>\n",
              "      <td>0.019361</td>\n",
              "      <td>0.148111</td>\n",
              "      <td>0.093434</td>\n",
              "      <td>0.011795</td>\n",
              "      <td>-0.074029</td>\n",
              "      <td>-0.077628</td>\n",
              "      <td>0.049933</td>\n",
              "      <td>-0.096354</td>\n",
              "      <td>0.138556</td>\n",
              "      <td>0.130414</td>\n",
              "      <td>...</td>\n",
              "      <td>0.014918</td>\n",
              "      <td>0.015676</td>\n",
              "      <td>-0.033608</td>\n",
              "      <td>0.068212</td>\n",
              "      <td>0.049871</td>\n",
              "      <td>-0.027607</td>\n",
              "      <td>39</td>\n",
              "      <td>29.0</td>\n",
              "      <td>1</td>\n",
              "      <td>6</td>\n",
              "    </tr>\n",
              "    <tr>\n",
              "      <th>28518</th>\n",
              "      <td>-0.043644</td>\n",
              "      <td>0.084073</td>\n",
              "      <td>0.074749</td>\n",
              "      <td>0.091776</td>\n",
              "      <td>-0.090782</td>\n",
              "      <td>-0.163187</td>\n",
              "      <td>-0.012568</td>\n",
              "      <td>-0.051021</td>\n",
              "      <td>0.038726</td>\n",
              "      <td>0.011009</td>\n",
              "      <td>...</td>\n",
              "      <td>-0.098420</td>\n",
              "      <td>0.113067</td>\n",
              "      <td>0.028218</td>\n",
              "      <td>0.036682</td>\n",
              "      <td>0.030056</td>\n",
              "      <td>-0.084346</td>\n",
              "      <td>39</td>\n",
              "      <td>29.0</td>\n",
              "      <td>1</td>\n",
              "      <td>6</td>\n",
              "    </tr>\n",
              "    <tr>\n",
              "      <th>28519</th>\n",
              "      <td>-0.039625</td>\n",
              "      <td>0.159638</td>\n",
              "      <td>0.042608</td>\n",
              "      <td>0.046212</td>\n",
              "      <td>-0.025058</td>\n",
              "      <td>-0.143171</td>\n",
              "      <td>0.111391</td>\n",
              "      <td>-0.109869</td>\n",
              "      <td>0.020852</td>\n",
              "      <td>0.152014</td>\n",
              "      <td>...</td>\n",
              "      <td>-0.000068</td>\n",
              "      <td>0.111601</td>\n",
              "      <td>-0.065572</td>\n",
              "      <td>0.155703</td>\n",
              "      <td>-0.016872</td>\n",
              "      <td>-0.020940</td>\n",
              "      <td>39</td>\n",
              "      <td>29.0</td>\n",
              "      <td>1</td>\n",
              "      <td>6</td>\n",
              "    </tr>\n",
              "  </tbody>\n",
              "</table>\n",
              "<p>28520 rows × 772 columns</p>\n",
              "</div>\n",
              "    <div class=\"colab-df-buttons\">\n",
              "\n",
              "  <div class=\"colab-df-container\">\n",
              "    <button class=\"colab-df-convert\" onclick=\"convertToInteractive('df-2a7de60b-316c-4341-bfae-dacd84da6fa3')\"\n",
              "            title=\"Convert this dataframe to an interactive table.\"\n",
              "            style=\"display:none;\">\n",
              "\n",
              "  <svg xmlns=\"http://www.w3.org/2000/svg\" height=\"24px\" viewBox=\"0 -960 960 960\">\n",
              "    <path d=\"M120-120v-720h720v720H120Zm60-500h600v-160H180v160Zm220 220h160v-160H400v160Zm0 220h160v-160H400v160ZM180-400h160v-160H180v160Zm440 0h160v-160H620v160ZM180-180h160v-160H180v160Zm440 0h160v-160H620v160Z\"/>\n",
              "  </svg>\n",
              "    </button>\n",
              "\n",
              "  <style>\n",
              "    .colab-df-container {\n",
              "      display:flex;\n",
              "      gap: 12px;\n",
              "    }\n",
              "\n",
              "    .colab-df-convert {\n",
              "      background-color: #E8F0FE;\n",
              "      border: none;\n",
              "      border-radius: 50%;\n",
              "      cursor: pointer;\n",
              "      display: none;\n",
              "      fill: #1967D2;\n",
              "      height: 32px;\n",
              "      padding: 0 0 0 0;\n",
              "      width: 32px;\n",
              "    }\n",
              "\n",
              "    .colab-df-convert:hover {\n",
              "      background-color: #E2EBFA;\n",
              "      box-shadow: 0px 1px 2px rgba(60, 64, 67, 0.3), 0px 1px 3px 1px rgba(60, 64, 67, 0.15);\n",
              "      fill: #174EA6;\n",
              "    }\n",
              "\n",
              "    .colab-df-buttons div {\n",
              "      margin-bottom: 4px;\n",
              "    }\n",
              "\n",
              "    [theme=dark] .colab-df-convert {\n",
              "      background-color: #3B4455;\n",
              "      fill: #D2E3FC;\n",
              "    }\n",
              "\n",
              "    [theme=dark] .colab-df-convert:hover {\n",
              "      background-color: #434B5C;\n",
              "      box-shadow: 0px 1px 3px 1px rgba(0, 0, 0, 0.15);\n",
              "      filter: drop-shadow(0px 1px 2px rgba(0, 0, 0, 0.3));\n",
              "      fill: #FFFFFF;\n",
              "    }\n",
              "  </style>\n",
              "\n",
              "    <script>\n",
              "      const buttonEl =\n",
              "        document.querySelector('#df-2a7de60b-316c-4341-bfae-dacd84da6fa3 button.colab-df-convert');\n",
              "      buttonEl.style.display =\n",
              "        google.colab.kernel.accessAllowed ? 'block' : 'none';\n",
              "\n",
              "      async function convertToInteractive(key) {\n",
              "        const element = document.querySelector('#df-2a7de60b-316c-4341-bfae-dacd84da6fa3');\n",
              "        const dataTable =\n",
              "          await google.colab.kernel.invokeFunction('convertToInteractive',\n",
              "                                                    [key], {});\n",
              "        if (!dataTable) return;\n",
              "\n",
              "        const docLinkHtml = 'Like what you see? Visit the ' +\n",
              "          '<a target=\"_blank\" href=https://colab.research.google.com/notebooks/data_table.ipynb>data table notebook</a>'\n",
              "          + ' to learn more about interactive tables.';\n",
              "        element.innerHTML = '';\n",
              "        dataTable['output_type'] = 'display_data';\n",
              "        await google.colab.output.renderOutput(dataTable, element);\n",
              "        const docLink = document.createElement('div');\n",
              "        docLink.innerHTML = docLinkHtml;\n",
              "        element.appendChild(docLink);\n",
              "      }\n",
              "    </script>\n",
              "  </div>\n",
              "\n",
              "\n",
              "<div id=\"df-79bdaea2-0e0d-429b-82c6-565027268049\">\n",
              "  <button class=\"colab-df-quickchart\" onclick=\"quickchart('df-79bdaea2-0e0d-429b-82c6-565027268049')\"\n",
              "            title=\"Suggest charts.\"\n",
              "            style=\"display:none;\">\n",
              "\n",
              "<svg xmlns=\"http://www.w3.org/2000/svg\" height=\"24px\"viewBox=\"0 0 24 24\"\n",
              "     width=\"24px\">\n",
              "    <g>\n",
              "        <path d=\"M19 3H5c-1.1 0-2 .9-2 2v14c0 1.1.9 2 2 2h14c1.1 0 2-.9 2-2V5c0-1.1-.9-2-2-2zM9 17H7v-7h2v7zm4 0h-2V7h2v10zm4 0h-2v-4h2v4z\"/>\n",
              "    </g>\n",
              "</svg>\n",
              "  </button>\n",
              "\n",
              "<style>\n",
              "  .colab-df-quickchart {\n",
              "      --bg-color: #E8F0FE;\n",
              "      --fill-color: #1967D2;\n",
              "      --hover-bg-color: #E2EBFA;\n",
              "      --hover-fill-color: #174EA6;\n",
              "      --disabled-fill-color: #AAA;\n",
              "      --disabled-bg-color: #DDD;\n",
              "  }\n",
              "\n",
              "  [theme=dark] .colab-df-quickchart {\n",
              "      --bg-color: #3B4455;\n",
              "      --fill-color: #D2E3FC;\n",
              "      --hover-bg-color: #434B5C;\n",
              "      --hover-fill-color: #FFFFFF;\n",
              "      --disabled-bg-color: #3B4455;\n",
              "      --disabled-fill-color: #666;\n",
              "  }\n",
              "\n",
              "  .colab-df-quickchart {\n",
              "    background-color: var(--bg-color);\n",
              "    border: none;\n",
              "    border-radius: 50%;\n",
              "    cursor: pointer;\n",
              "    display: none;\n",
              "    fill: var(--fill-color);\n",
              "    height: 32px;\n",
              "    padding: 0;\n",
              "    width: 32px;\n",
              "  }\n",
              "\n",
              "  .colab-df-quickchart:hover {\n",
              "    background-color: var(--hover-bg-color);\n",
              "    box-shadow: 0 1px 2px rgba(60, 64, 67, 0.3), 0 1px 3px 1px rgba(60, 64, 67, 0.15);\n",
              "    fill: var(--button-hover-fill-color);\n",
              "  }\n",
              "\n",
              "  .colab-df-quickchart-complete:disabled,\n",
              "  .colab-df-quickchart-complete:disabled:hover {\n",
              "    background-color: var(--disabled-bg-color);\n",
              "    fill: var(--disabled-fill-color);\n",
              "    box-shadow: none;\n",
              "  }\n",
              "\n",
              "  .colab-df-spinner {\n",
              "    border: 2px solid var(--fill-color);\n",
              "    border-color: transparent;\n",
              "    border-bottom-color: var(--fill-color);\n",
              "    animation:\n",
              "      spin 1s steps(1) infinite;\n",
              "  }\n",
              "\n",
              "  @keyframes spin {\n",
              "    0% {\n",
              "      border-color: transparent;\n",
              "      border-bottom-color: var(--fill-color);\n",
              "      border-left-color: var(--fill-color);\n",
              "    }\n",
              "    20% {\n",
              "      border-color: transparent;\n",
              "      border-left-color: var(--fill-color);\n",
              "      border-top-color: var(--fill-color);\n",
              "    }\n",
              "    30% {\n",
              "      border-color: transparent;\n",
              "      border-left-color: var(--fill-color);\n",
              "      border-top-color: var(--fill-color);\n",
              "      border-right-color: var(--fill-color);\n",
              "    }\n",
              "    40% {\n",
              "      border-color: transparent;\n",
              "      border-right-color: var(--fill-color);\n",
              "      border-top-color: var(--fill-color);\n",
              "    }\n",
              "    60% {\n",
              "      border-color: transparent;\n",
              "      border-right-color: var(--fill-color);\n",
              "    }\n",
              "    80% {\n",
              "      border-color: transparent;\n",
              "      border-right-color: var(--fill-color);\n",
              "      border-bottom-color: var(--fill-color);\n",
              "    }\n",
              "    90% {\n",
              "      border-color: transparent;\n",
              "      border-bottom-color: var(--fill-color);\n",
              "    }\n",
              "  }\n",
              "</style>\n",
              "\n",
              "  <script>\n",
              "    async function quickchart(key) {\n",
              "      const quickchartButtonEl =\n",
              "        document.querySelector('#' + key + ' button');\n",
              "      quickchartButtonEl.disabled = true;  // To prevent multiple clicks.\n",
              "      quickchartButtonEl.classList.add('colab-df-spinner');\n",
              "      try {\n",
              "        const charts = await google.colab.kernel.invokeFunction(\n",
              "            'suggestCharts', [key], {});\n",
              "      } catch (error) {\n",
              "        console.error('Error during call to suggestCharts:', error);\n",
              "      }\n",
              "      quickchartButtonEl.classList.remove('colab-df-spinner');\n",
              "      quickchartButtonEl.classList.add('colab-df-quickchart-complete');\n",
              "    }\n",
              "    (() => {\n",
              "      let quickchartButtonEl =\n",
              "        document.querySelector('#df-79bdaea2-0e0d-429b-82c6-565027268049 button');\n",
              "      quickchartButtonEl.style.display =\n",
              "        google.colab.kernel.accessAllowed ? 'block' : 'none';\n",
              "    })();\n",
              "  </script>\n",
              "</div>\n",
              "    </div>\n",
              "  </div>\n"
            ]
          },
          "metadata": {},
          "execution_count": 173
        }
      ]
    },
    {
      "cell_type": "markdown",
      "source": [
        "## **Pre-processing**"
      ],
      "metadata": {
        "id": "I8IwkUlNdcaj"
      }
    },
    {
      "cell_type": "code",
      "source": [
        "# Count missing values in the selected label column\n",
        "missing_values_label_1 = df[\"label_1\"].isnull().sum()\n",
        "missing_values_label_2 = df[\"label_2\"].isnull().sum()\n",
        "missing_values_label_3 = df[\"label_3\"].isnull().sum()\n",
        "missing_values_label_4 = df[\"label_4\"].isnull().sum()\n",
        "\n",
        "print(missing_values_label_1)\n",
        "print(missing_values_label_2)\n",
        "print(missing_values_label_3)\n",
        "print(missing_values_label_4)\n"
      ],
      "metadata": {
        "colab": {
          "base_uri": "https://localhost:8080/"
        },
        "id": "NJs4ZO9rZwaB",
        "outputId": "2c3adc06-1325-4fbf-db0e-54fdbe2eb7ff"
      },
      "execution_count": 174,
      "outputs": [
        {
          "output_type": "stream",
          "name": "stdout",
          "text": [
            "0\n",
            "480\n",
            "0\n",
            "0\n"
          ]
        }
      ]
    },
    {
      "cell_type": "code",
      "source": [
        "#filling missing values with mode\n",
        "df.label_2.value_counts()"
      ],
      "metadata": {
        "colab": {
          "base_uri": "https://localhost:8080/"
        },
        "id": "vRVM2uZpd_tU",
        "outputId": "c7e53524-b5d7-4db0-ac0b-92336b52ff2f"
      },
      "execution_count": 200,
      "outputs": [
        {
          "output_type": "execute_result",
          "data": {
            "text/plain": [
              "26.0    4762\n",
              "25.0    2849\n",
              "27.0    2846\n",
              "23.0    2842\n",
              "31.0    2385\n",
              "24.0    1906\n",
              "28.0    1899\n",
              "30.0    1894\n",
              "22.0    1432\n",
              "29.0    1424\n",
              "33.0     945\n",
              "36.0     481\n",
              "35.0     480\n",
              "34.0     478\n",
              "32.0     476\n",
              "41.0     474\n",
              "61.0     467\n",
              "Name: label_2, dtype: int64"
            ]
          },
          "metadata": {},
          "execution_count": 200
        }
      ]
    },
    {
      "cell_type": "code",
      "source": [
        "# Calculate the mean of the column\n",
        "mean_value = df.label_2.mean()\n",
        "\n",
        "# Fill missing values in the specified column with the rounded mean\n",
        "# df.label_2.fillna(round(mean_value), inplace=True)\n"
      ],
      "metadata": {
        "id": "oCWAGvageBwa"
      },
      "execution_count": 201,
      "outputs": []
    },
    {
      "cell_type": "code",
      "source": [
        "df_copy =df.copy()\n",
        "X=df_copy.drop(columns=['label_1','label_2','label_3','label_4'])\n",
        "\n",
        "#remove outliers\n",
        "# df=df[(np.abs(stats.zscore(X)) < 3).all(axis=1)]\n"
      ],
      "metadata": {
        "id": "lKlh20-a8ozW"
      },
      "execution_count": 177,
      "outputs": []
    },
    {
      "cell_type": "code",
      "source": [],
      "metadata": {
        "id": "vJvnvPFfKhrS"
      },
      "execution_count": 177,
      "outputs": []
    },
    {
      "cell_type": "markdown",
      "source": [
        "## **Feature Engineering**"
      ],
      "metadata": {
        "id": "NhIQadQyP0Mp"
      }
    },
    {
      "cell_type": "code",
      "source": [
        "from sklearn.feature_selection import mutual_info_regression\n",
        "\n",
        "def make_mi_scores(X, y, discrete_features):\n",
        "    mi_scores = mutual_info_regression(X, y, discrete_features=discrete_features)\n",
        "    mi_scores = pd.Series(mi_scores, name=\"MI Scores\", index=X.columns)\n",
        "    mi_scores = mi_scores.sort_values(ascending=False)\n",
        "    return mi_scores\n"
      ],
      "metadata": {
        "id": "reJNq94PP4M1"
      },
      "execution_count": 178,
      "outputs": []
    },
    {
      "cell_type": "code",
      "source": [],
      "metadata": {
        "id": "VaWRiVC7XHyC"
      },
      "execution_count": 178,
      "outputs": []
    },
    {
      "cell_type": "markdown",
      "source": [
        "## Label-1 calculation"
      ],
      "metadata": {
        "id": "QL3l9NziMgjx"
      }
    },
    {
      "cell_type": "code",
      "source": [
        "from sklearn.neighbors import KNeighborsClassifier\n",
        "from sklearn.model_selection import cross_val_score\n",
        "from sklearn.metrics import f1_score\n",
        "\n",
        "df_1=df.copy()\n",
        "X_1=df_1.drop(columns=['label_1','label_2','label_3','label_4'])\n",
        "y_1=df_1.label_1\n",
        "\n",
        "knn_1=KNeighborsClassifier()\n",
        "cross_val_score(knn_1, X_1, y_1, cv=5, scoring='f1_macro').mean()\n"
      ],
      "metadata": {
        "colab": {
          "base_uri": "https://localhost:8080/"
        },
        "id": "A1R3dBoCMk81",
        "outputId": "540c4bb4-0e3b-4313-fb22-c1b85a44243f"
      },
      "execution_count": 179,
      "outputs": [
        {
          "output_type": "execute_result",
          "data": {
            "text/plain": [
              "0.8864463545669438"
            ]
          },
          "metadata": {},
          "execution_count": 179
        }
      ]
    },
    {
      "cell_type": "code",
      "source": [
        "discrete_features = X_1.dtypes == int\n",
        "\n",
        "mi_scores = make_mi_scores(X_1, y_1, discrete_features)\n",
        "mi_scores.sort_values(ascending=False)"
      ],
      "metadata": {
        "colab": {
          "base_uri": "https://localhost:8080/"
        },
        "id": "ENGwAaS7Pnwm",
        "outputId": "95103bca-7d39-4f5c-a255-02ba9f2a9c07"
      },
      "execution_count": 180,
      "outputs": [
        {
          "output_type": "execute_result",
          "data": {
            "text/plain": [
              "feature_242    0.297155\n",
              "feature_582    0.246642\n",
              "feature_545    0.208249\n",
              "feature_204    0.194753\n",
              "feature_697    0.193833\n",
              "                 ...   \n",
              "feature_422    0.032061\n",
              "feature_65     0.031833\n",
              "feature_634    0.031481\n",
              "feature_596    0.031265\n",
              "feature_138    0.031092\n",
              "Name: MI Scores, Length: 768, dtype: float64"
            ]
          },
          "metadata": {},
          "execution_count": 180
        }
      ]
    },
    {
      "cell_type": "code",
      "source": [
        "# Get the last 100 feature names\n",
        "last_100_features = mi_scores.index[-100:]\n",
        "\n",
        "# Print the last 100 feature names\n",
        "print(last_100_features)"
      ],
      "metadata": {
        "colab": {
          "base_uri": "https://localhost:8080/"
        },
        "id": "Za4glWG1Qsfn",
        "outputId": "e516debe-0c0e-4ad0-df8a-76e5c5c71e09"
      },
      "execution_count": 181,
      "outputs": [
        {
          "output_type": "stream",
          "name": "stdout",
          "text": [
            "Index(['feature_254', 'feature_637', 'feature_112', 'feature_197',\n",
            "       'feature_602', 'feature_641', 'feature_157', 'feature_366',\n",
            "       'feature_116', 'feature_45', 'feature_665', 'feature_308',\n",
            "       'feature_459', 'feature_651', 'feature_277', 'feature_639',\n",
            "       'feature_361', 'feature_226', 'feature_568', 'feature_318',\n",
            "       'feature_101', 'feature_80', 'feature_305', 'feature_513',\n",
            "       'feature_114', 'feature_1', 'feature_237', 'feature_670', 'feature_183',\n",
            "       'feature_471', 'feature_363', 'feature_231', 'feature_495',\n",
            "       'feature_93', 'feature_522', 'feature_612', 'feature_699',\n",
            "       'feature_313', 'feature_257', 'feature_150', 'feature_338',\n",
            "       'feature_236', 'feature_4', 'feature_299', 'feature_364', 'feature_477',\n",
            "       'feature_722', 'feature_693', 'feature_674', 'feature_720',\n",
            "       'feature_509', 'feature_624', 'feature_295', 'feature_282',\n",
            "       'feature_255', 'feature_233', 'feature_2', 'feature_78', 'feature_726',\n",
            "       'feature_342', 'feature_46', 'feature_119', 'feature_460',\n",
            "       'feature_346', 'feature_566', 'feature_35', 'feature_54', 'feature_549',\n",
            "       'feature_20', 'feature_595', 'feature_14', 'feature_278', 'feature_622',\n",
            "       'feature_167', 'feature_392', 'feature_22', 'feature_432',\n",
            "       'feature_203', 'feature_306', 'feature_428', 'feature_408',\n",
            "       'feature_717', 'feature_682', 'feature_732', 'feature_755',\n",
            "       'feature_745', 'feature_243', 'feature_743', 'feature_491',\n",
            "       'feature_208', 'feature_227', 'feature_524', 'feature_695',\n",
            "       'feature_753', 'feature_215', 'feature_422', 'feature_65',\n",
            "       'feature_634', 'feature_596', 'feature_138'],\n",
            "      dtype='object')\n"
          ]
        }
      ]
    },
    {
      "cell_type": "code",
      "source": [
        "X_1 = X_1.drop(columns=last_100_features)\n"
      ],
      "metadata": {
        "id": "HVWAaYO5QwDY"
      },
      "execution_count": 182,
      "outputs": []
    },
    {
      "cell_type": "code",
      "source": [
        "cross_val_score(knn_1, X_1, y_1, cv=5, scoring='f1_macro').mean()"
      ],
      "metadata": {
        "colab": {
          "base_uri": "https://localhost:8080/"
        },
        "id": "sbrZOampQ3PC",
        "outputId": "e4822755-1748-4332-868a-b900052a47a4"
      },
      "execution_count": 183,
      "outputs": [
        {
          "output_type": "execute_result",
          "data": {
            "text/plain": [
              "0.888893763424484"
            ]
          },
          "metadata": {},
          "execution_count": 183
        }
      ]
    },
    {
      "cell_type": "code",
      "source": [
        "knn_1.fit(X_1, y_1)"
      ],
      "metadata": {
        "colab": {
          "base_uri": "https://localhost:8080/",
          "height": 75
        },
        "id": "XAtxN7e-Opzl",
        "outputId": "2e317c49-255b-42a8-95fa-3b0d0e1010b7"
      },
      "execution_count": 184,
      "outputs": [
        {
          "output_type": "execute_result",
          "data": {
            "text/plain": [
              "KNeighborsClassifier()"
            ],
            "text/html": [
              "<style>#sk-container-id-4 {color: black;background-color: white;}#sk-container-id-4 pre{padding: 0;}#sk-container-id-4 div.sk-toggleable {background-color: white;}#sk-container-id-4 label.sk-toggleable__label {cursor: pointer;display: block;width: 100%;margin-bottom: 0;padding: 0.3em;box-sizing: border-box;text-align: center;}#sk-container-id-4 label.sk-toggleable__label-arrow:before {content: \"▸\";float: left;margin-right: 0.25em;color: #696969;}#sk-container-id-4 label.sk-toggleable__label-arrow:hover:before {color: black;}#sk-container-id-4 div.sk-estimator:hover label.sk-toggleable__label-arrow:before {color: black;}#sk-container-id-4 div.sk-toggleable__content {max-height: 0;max-width: 0;overflow: hidden;text-align: left;background-color: #f0f8ff;}#sk-container-id-4 div.sk-toggleable__content pre {margin: 0.2em;color: black;border-radius: 0.25em;background-color: #f0f8ff;}#sk-container-id-4 input.sk-toggleable__control:checked~div.sk-toggleable__content {max-height: 200px;max-width: 100%;overflow: auto;}#sk-container-id-4 input.sk-toggleable__control:checked~label.sk-toggleable__label-arrow:before {content: \"▾\";}#sk-container-id-4 div.sk-estimator input.sk-toggleable__control:checked~label.sk-toggleable__label {background-color: #d4ebff;}#sk-container-id-4 div.sk-label input.sk-toggleable__control:checked~label.sk-toggleable__label {background-color: #d4ebff;}#sk-container-id-4 input.sk-hidden--visually {border: 0;clip: rect(1px 1px 1px 1px);clip: rect(1px, 1px, 1px, 1px);height: 1px;margin: -1px;overflow: hidden;padding: 0;position: absolute;width: 1px;}#sk-container-id-4 div.sk-estimator {font-family: monospace;background-color: #f0f8ff;border: 1px dotted black;border-radius: 0.25em;box-sizing: border-box;margin-bottom: 0.5em;}#sk-container-id-4 div.sk-estimator:hover {background-color: #d4ebff;}#sk-container-id-4 div.sk-parallel-item::after {content: \"\";width: 100%;border-bottom: 1px solid gray;flex-grow: 1;}#sk-container-id-4 div.sk-label:hover label.sk-toggleable__label {background-color: #d4ebff;}#sk-container-id-4 div.sk-serial::before {content: \"\";position: absolute;border-left: 1px solid gray;box-sizing: border-box;top: 0;bottom: 0;left: 50%;z-index: 0;}#sk-container-id-4 div.sk-serial {display: flex;flex-direction: column;align-items: center;background-color: white;padding-right: 0.2em;padding-left: 0.2em;position: relative;}#sk-container-id-4 div.sk-item {position: relative;z-index: 1;}#sk-container-id-4 div.sk-parallel {display: flex;align-items: stretch;justify-content: center;background-color: white;position: relative;}#sk-container-id-4 div.sk-item::before, #sk-container-id-4 div.sk-parallel-item::before {content: \"\";position: absolute;border-left: 1px solid gray;box-sizing: border-box;top: 0;bottom: 0;left: 50%;z-index: -1;}#sk-container-id-4 div.sk-parallel-item {display: flex;flex-direction: column;z-index: 1;position: relative;background-color: white;}#sk-container-id-4 div.sk-parallel-item:first-child::after {align-self: flex-end;width: 50%;}#sk-container-id-4 div.sk-parallel-item:last-child::after {align-self: flex-start;width: 50%;}#sk-container-id-4 div.sk-parallel-item:only-child::after {width: 0;}#sk-container-id-4 div.sk-dashed-wrapped {border: 1px dashed gray;margin: 0 0.4em 0.5em 0.4em;box-sizing: border-box;padding-bottom: 0.4em;background-color: white;}#sk-container-id-4 div.sk-label label {font-family: monospace;font-weight: bold;display: inline-block;line-height: 1.2em;}#sk-container-id-4 div.sk-label-container {text-align: center;}#sk-container-id-4 div.sk-container {/* jupyter's `normalize.less` sets `[hidden] { display: none; }` but bootstrap.min.css set `[hidden] { display: none !important; }` so we also need the `!important` here to be able to override the default hidden behavior on the sphinx rendered scikit-learn.org. See: https://github.com/scikit-learn/scikit-learn/issues/21755 */display: inline-block !important;position: relative;}#sk-container-id-4 div.sk-text-repr-fallback {display: none;}</style><div id=\"sk-container-id-4\" class=\"sk-top-container\"><div class=\"sk-text-repr-fallback\"><pre>KNeighborsClassifier()</pre><b>In a Jupyter environment, please rerun this cell to show the HTML representation or trust the notebook. <br />On GitHub, the HTML representation is unable to render, please try loading this page with nbviewer.org.</b></div><div class=\"sk-container\" hidden><div class=\"sk-item\"><div class=\"sk-estimator sk-toggleable\"><input class=\"sk-toggleable__control sk-hidden--visually\" id=\"sk-estimator-id-4\" type=\"checkbox\" checked><label for=\"sk-estimator-id-4\" class=\"sk-toggleable__label sk-toggleable__label-arrow\">KNeighborsClassifier</label><div class=\"sk-toggleable__content\"><pre>KNeighborsClassifier()</pre></div></div></div></div></div>"
            ]
          },
          "metadata": {},
          "execution_count": 184
        }
      ]
    },
    {
      "cell_type": "code",
      "source": [
        "X_test_1 = test.copy().drop(columns=['ID'])\n",
        "X_test_1 = X_test_1.drop(columns=last_100_features)"
      ],
      "metadata": {
        "id": "AbxM9wQiSQzA"
      },
      "execution_count": 185,
      "outputs": []
    },
    {
      "cell_type": "code",
      "source": [
        "label_1_pred = knn_1.predict(X_test_1)"
      ],
      "metadata": {
        "id": "nfqV07nkSqyl"
      },
      "execution_count": 186,
      "outputs": []
    },
    {
      "cell_type": "code",
      "source": [
        "label_1_pred"
      ],
      "metadata": {
        "colab": {
          "base_uri": "https://localhost:8080/"
        },
        "id": "uFNQfrtVWiRd",
        "outputId": "f356dcc4-ee06-4fae-f891-19f8897f9a80"
      },
      "execution_count": 187,
      "outputs": [
        {
          "output_type": "execute_result",
          "data": {
            "text/plain": [
              "array([26, 18, 16,  7, 58, 46,  7, 22, 29, 26, 33,  6, 54, 51, 29, 48, 23,\n",
              "        2, 52, 42, 11, 35, 39,  2, 44, 33, 28, 55,  2, 51, 55, 46,  1, 56,\n",
              "       30, 23, 50,  6, 40, 18, 48, 47,  6, 46, 59, 25, 31, 35,  5, 32, 25,\n",
              "       56, 39, 37, 32, 29, 46, 52, 28, 34, 16, 47, 55, 24, 23, 18, 20,  6,\n",
              "       36, 38, 22, 28, 44, 46, 55, 59, 49, 40, 57, 12, 52, 38, 29,  4, 31,\n",
              "       49, 14, 19, 12, 39, 36, 43, 34, 32, 54, 46, 27,  5,  7, 42, 19, 26,\n",
              "       31, 36, 53, 10, 12, 33, 38,  2, 57, 37, 17, 50, 46, 46, 17, 34,  2,\n",
              "       40, 48, 40,  8, 22, 38, 15, 39,  9, 52,  5, 40, 13, 10, 55, 28, 25,\n",
              "       42, 57, 16, 27, 23,  2, 51, 27, 32, 44, 16,  4, 11, 46, 42, 37, 47,\n",
              "       50,  3, 41, 19, 20, 15,  8,  3, 18,  5, 28, 46, 49, 16, 40, 17, 20,\n",
              "       20, 57, 27, 16, 11, 59, 34, 52, 41, 55,  7, 18, 21,  4, 37, 55, 29,\n",
              "       28, 23, 35, 46, 52, 30, 27, 40,  1, 28, 14,  3, 58, 17, 60, 18,  3,\n",
              "       22,  9,  5, 25, 17, 26, 19, 36, 51, 21,  1, 44, 39, 47, 38,  6, 50,\n",
              "       39, 23, 37, 48, 22, 58, 15, 30, 38, 18, 54,  3, 41, 16,  8, 43, 28,\n",
              "        8, 57, 10, 16,  4, 20, 15, 51, 52, 33, 16,  3, 50, 51,  5, 51, 31,\n",
              "        6,  9, 31, 57, 22,  5, 11, 11, 43,  8,  7, 58, 23, 50, 58, 13, 13,\n",
              "       47, 50, 60, 50, 47, 36, 28, 36, 49,  7, 34, 32,  5,  2, 19, 55, 57,\n",
              "       50, 30, 32, 41, 37, 41, 51, 20, 20,  3, 21, 44, 31, 15, 40, 46, 13,\n",
              "       21, 25, 36, 44, 54, 17, 46, 57, 56, 53, 26,  8, 17,  5, 39, 28,  8,\n",
              "       32, 21, 49, 56, 17, 26, 49, 54, 10,  9,  3, 36, 39, 33, 18, 54, 29,\n",
              "       23, 10, 11, 47, 37, 34, 41, 35, 25, 27,  4, 51, 12, 39, 42,  3, 44,\n",
              "       23,  6, 12, 30, 40, 56, 27,  8, 44, 15, 59, 29, 39, 16, 28,  7, 31,\n",
              "        3, 59,  3, 11, 10, 60, 58, 42, 10, 31, 60, 23,  7,  5, 18, 43, 11,\n",
              "       37,  2, 23, 41, 15, 54, 39, 40, 53, 29, 20, 21, 35, 31, 58,  6, 29,\n",
              "       52, 29, 55, 40, 24, 50, 28,  2, 50, 27, 20, 44, 24,  8, 38, 51, 44,\n",
              "       23,  8, 18, 13, 13,  8, 15,  5, 39, 11, 39, 31, 58, 60, 52, 30, 31,\n",
              "        5, 29, 33, 10, 48, 21, 51, 21, 37, 55, 19, 49, 47, 38, 52,  6, 17,\n",
              "       11, 40, 17, 30,  4,  4, 36, 30, 58, 57, 53, 18, 37, 57, 51, 14, 13,\n",
              "       13, 30,  8, 57, 25, 16, 43, 36, 13, 43, 23, 37, 29,  6, 48, 11, 29,\n",
              "       40, 13, 29, 31, 33, 13, 27, 51, 22, 22, 49,  9, 46, 56, 12, 30, 56,\n",
              "       52, 40, 32, 16, 37, 41, 26, 37, 42, 11, 36, 47, 23, 16, 29, 18, 47,\n",
              "       23, 22, 40, 27, 33,  3, 40, 40, 18, 31,  1,  7, 59, 28, 44, 56, 57,\n",
              "        3, 54, 37, 21, 34, 32, 56, 44, 37, 38,  2, 22, 33, 53, 32, 27, 19,\n",
              "       55, 31, 33, 55, 27, 48, 30, 24, 54, 26, 36, 15, 35, 17, 16,  4, 17,\n",
              "       27, 10, 12, 33,  6, 47, 21,  4, 48, 55, 16, 42,  7, 20, 24, 39, 12,\n",
              "       33, 57, 41,  1, 49, 46,  2, 40,  6, 19, 18, 43, 28, 57, 16, 51,  1,\n",
              "        2, 49, 59, 18,  8, 37, 32, 32, 57, 55,  5, 30, 26, 10,  4,  9, 12,\n",
              "       15, 11, 19, 37, 53, 19,  8, 17, 14,  4, 34, 22, 32, 27, 15,  3, 25,\n",
              "       50,  8, 53, 30, 13, 25, 60, 40, 11, 37,  4, 44, 55, 52, 20, 34,  2,\n",
              "       59, 47, 39, 54, 37, 43,  1, 32, 50, 51,  9, 32,  5, 31,  1, 46, 14,\n",
              "       19, 24, 38, 59,  6, 51, 20,  5, 20,  2, 60, 10, 42, 48, 11, 43, 39,\n",
              "        8, 50, 30, 15,  2,  9,  1, 22, 44, 16, 19, 31, 21, 52, 50,  1, 47,\n",
              "       19, 10, 25, 43, 21, 44, 48, 22, 33, 20, 23, 33, 53, 33, 51,  4, 46,\n",
              "        7, 28, 55, 42, 56, 26,  2,  5,  5, 35, 54, 38, 51])"
            ]
          },
          "metadata": {},
          "execution_count": 187
        }
      ]
    },
    {
      "cell_type": "markdown",
      "source": [
        "## Label-4 calculation"
      ],
      "metadata": {
        "id": "L5S8RJuVYXzw"
      }
    },
    {
      "cell_type": "code",
      "source": [
        "from sklearn.neighbors import KNeighborsClassifier\n",
        "from sklearn.model_selection import cross_val_score\n",
        "from sklearn.metrics import f1_score\n",
        "from sklearn.utils import resample\n",
        "\n",
        "\n",
        "df_4=df.copy()\n",
        "X_4=df_4.drop(columns=['label_1','label_2','label_3','label_4'])\n",
        "y_4=df_4.label_4\n",
        "\n",
        "\n",
        "# Separate the majority class (class 6) from other classes\n",
        "majority_class = 6\n",
        "minority_classes = [0, 1, 2, 3, 4, 5, 7, 8, 9, 10, 11, 12, 13]\n",
        "\n",
        "# Create DataFrames for majority and minority classes\n",
        "df_majority = df_4[df_4['label_4'] == majority_class]\n",
        "df_minority = df_4[df_4['label_4'].isin(minority_classes)]\n",
        "\n",
        "# Down-sample the majority class to match the size of minority classes\n",
        "num_samples_minority = len(df_minority)\n",
        "df_majority_downsampled = resample(df_majority, replace=False, n_samples=num_samples_minority, random_state=42)\n",
        "\n",
        "# Combine minority and down-sampled majority classes\n",
        "df_balanced = pd.concat([df_minority, df_majority_downsampled])\n",
        "\n",
        "# Shuffle the balanced dataset\n",
        "df_4 = df_balanced.sample(frac=1, random_state=42)\n",
        "\n",
        "# Now df_balanced contains a balanced dataset\n",
        "df_4.label_4.value_counts()\n",
        "\n",
        "knn_4=KNeighborsClassifier()\n",
        "cross_val_score(knn_4, X_4, y_4, cv=5, scoring='f1_macro').mean()\n"
      ],
      "metadata": {
        "colab": {
          "base_uri": "https://localhost:8080/"
        },
        "outputId": "5b8a1c14-75c4-47ce-928c-11d6b1072900",
        "id": "mXmXvzMAYXz7"
      },
      "execution_count": 188,
      "outputs": [
        {
          "output_type": "execute_result",
          "data": {
            "text/plain": [
              "0.8127539825952803"
            ]
          },
          "metadata": {},
          "execution_count": 188
        }
      ]
    },
    {
      "cell_type": "code",
      "source": [
        "discrete_features = X_4.dtypes == int\n",
        "\n",
        "mi_scores = make_mi_scores(X_4, y_4, discrete_features)\n",
        "mi_scores.sort_values(ascending=False)"
      ],
      "metadata": {
        "colab": {
          "base_uri": "https://localhost:8080/"
        },
        "id": "HGE8_kSlYXz8",
        "outputId": "ca239d1c-1503-4eca-99e6-4fa9d5485306"
      },
      "execution_count": 189,
      "outputs": [
        {
          "output_type": "execute_result",
          "data": {
            "text/plain": [
              "feature_242    0.070313\n",
              "feature_582    0.064326\n",
              "feature_545    0.053757\n",
              "feature_302    0.052404\n",
              "feature_633    0.047990\n",
              "                 ...   \n",
              "feature_459    0.003709\n",
              "feature_181    0.003608\n",
              "feature_634    0.003268\n",
              "feature_282    0.003099\n",
              "feature_209    0.001615\n",
              "Name: MI Scores, Length: 768, dtype: float64"
            ]
          },
          "metadata": {},
          "execution_count": 189
        }
      ]
    },
    {
      "cell_type": "code",
      "source": [
        "# Get the last 100 feature names\n",
        "last_100_features = mi_scores.index[-100:]\n",
        "\n",
        "# Print the last 100 feature names\n",
        "print(last_100_features)"
      ],
      "metadata": {
        "colab": {
          "base_uri": "https://localhost:8080/"
        },
        "id": "A8vXC9XQYXz9",
        "outputId": "97416d7f-8f8f-405f-f4d7-6864653a8a32"
      },
      "execution_count": 190,
      "outputs": [
        {
          "output_type": "stream",
          "name": "stdout",
          "text": [
            "Index(['feature_590', 'feature_80', 'feature_635', 'feature_29', 'feature_693',\n",
            "       'feature_109', 'feature_708', 'feature_495', 'feature_348',\n",
            "       'feature_666', 'feature_474', 'feature_502', 'feature_260',\n",
            "       'feature_428', 'feature_714', 'feature_674', 'feature_203',\n",
            "       'feature_101', 'feature_228', 'feature_280', 'feature_231',\n",
            "       'feature_682', 'feature_300', 'feature_307', 'feature_757',\n",
            "       'feature_485', 'feature_4', 'feature_398', 'feature_473', 'feature_491',\n",
            "       'feature_637', 'feature_656', 'feature_741', 'feature_48',\n",
            "       'feature_520', 'feature_624', 'feature_392', 'feature_201',\n",
            "       'feature_219', 'feature_680', 'feature_698', 'feature_602',\n",
            "       'feature_421', 'feature_346', 'feature_317', 'feature_174',\n",
            "       'feature_66', 'feature_726', 'feature_238', 'feature_55', 'feature_285',\n",
            "       'feature_374', 'feature_226', 'feature_255', 'feature_372',\n",
            "       'feature_262', 'feature_388', 'feature_1', 'feature_341', 'feature_88',\n",
            "       'feature_306', 'feature_138', 'feature_549', 'feature_22',\n",
            "       'feature_385', 'feature_651', 'feature_148', 'feature_695',\n",
            "       'feature_768', 'feature_366', 'feature_550', 'feature_596',\n",
            "       'feature_670', 'feature_208', 'feature_277', 'feature_452',\n",
            "       'feature_200', 'feature_301', 'feature_739', 'feature_417',\n",
            "       'feature_643', 'feature_408', 'feature_34', 'feature_233',\n",
            "       'feature_254', 'feature_382', 'feature_489', 'feature_236',\n",
            "       'feature_594', 'feature_121', 'feature_585', 'feature_566',\n",
            "       'feature_547', 'feature_119', 'feature_710', 'feature_459',\n",
            "       'feature_181', 'feature_634', 'feature_282', 'feature_209'],\n",
            "      dtype='object')\n"
          ]
        }
      ]
    },
    {
      "cell_type": "code",
      "source": [
        "X_4 = X_4.drop(columns=last_100_features)\n"
      ],
      "metadata": {
        "id": "6wGLCDNHYXz9"
      },
      "execution_count": 191,
      "outputs": []
    },
    {
      "cell_type": "code",
      "source": [
        "cross_val_score(knn_4, X_4, y_4, cv=5, scoring='f1_macro').mean()"
      ],
      "metadata": {
        "colab": {
          "base_uri": "https://localhost:8080/"
        },
        "id": "m6wsllifYXz9",
        "outputId": "ee79d502-c333-4bad-fd13-d881bcd8bf01"
      },
      "execution_count": 192,
      "outputs": [
        {
          "output_type": "execute_result",
          "data": {
            "text/plain": [
              "0.8149110955007934"
            ]
          },
          "metadata": {},
          "execution_count": 192
        }
      ]
    },
    {
      "cell_type": "code",
      "source": [
        "knn_4.fit(X_4, y_4)"
      ],
      "metadata": {
        "colab": {
          "base_uri": "https://localhost:8080/",
          "height": 75
        },
        "id": "SFyi-xUCYXz-",
        "outputId": "000af397-2822-4242-f950-83b9e925e2d6"
      },
      "execution_count": 193,
      "outputs": [
        {
          "output_type": "execute_result",
          "data": {
            "text/plain": [
              "KNeighborsClassifier()"
            ],
            "text/html": [
              "<style>#sk-container-id-5 {color: black;background-color: white;}#sk-container-id-5 pre{padding: 0;}#sk-container-id-5 div.sk-toggleable {background-color: white;}#sk-container-id-5 label.sk-toggleable__label {cursor: pointer;display: block;width: 100%;margin-bottom: 0;padding: 0.3em;box-sizing: border-box;text-align: center;}#sk-container-id-5 label.sk-toggleable__label-arrow:before {content: \"▸\";float: left;margin-right: 0.25em;color: #696969;}#sk-container-id-5 label.sk-toggleable__label-arrow:hover:before {color: black;}#sk-container-id-5 div.sk-estimator:hover label.sk-toggleable__label-arrow:before {color: black;}#sk-container-id-5 div.sk-toggleable__content {max-height: 0;max-width: 0;overflow: hidden;text-align: left;background-color: #f0f8ff;}#sk-container-id-5 div.sk-toggleable__content pre {margin: 0.2em;color: black;border-radius: 0.25em;background-color: #f0f8ff;}#sk-container-id-5 input.sk-toggleable__control:checked~div.sk-toggleable__content {max-height: 200px;max-width: 100%;overflow: auto;}#sk-container-id-5 input.sk-toggleable__control:checked~label.sk-toggleable__label-arrow:before {content: \"▾\";}#sk-container-id-5 div.sk-estimator input.sk-toggleable__control:checked~label.sk-toggleable__label {background-color: #d4ebff;}#sk-container-id-5 div.sk-label input.sk-toggleable__control:checked~label.sk-toggleable__label {background-color: #d4ebff;}#sk-container-id-5 input.sk-hidden--visually {border: 0;clip: rect(1px 1px 1px 1px);clip: rect(1px, 1px, 1px, 1px);height: 1px;margin: -1px;overflow: hidden;padding: 0;position: absolute;width: 1px;}#sk-container-id-5 div.sk-estimator {font-family: monospace;background-color: #f0f8ff;border: 1px dotted black;border-radius: 0.25em;box-sizing: border-box;margin-bottom: 0.5em;}#sk-container-id-5 div.sk-estimator:hover {background-color: #d4ebff;}#sk-container-id-5 div.sk-parallel-item::after {content: \"\";width: 100%;border-bottom: 1px solid gray;flex-grow: 1;}#sk-container-id-5 div.sk-label:hover label.sk-toggleable__label {background-color: #d4ebff;}#sk-container-id-5 div.sk-serial::before {content: \"\";position: absolute;border-left: 1px solid gray;box-sizing: border-box;top: 0;bottom: 0;left: 50%;z-index: 0;}#sk-container-id-5 div.sk-serial {display: flex;flex-direction: column;align-items: center;background-color: white;padding-right: 0.2em;padding-left: 0.2em;position: relative;}#sk-container-id-5 div.sk-item {position: relative;z-index: 1;}#sk-container-id-5 div.sk-parallel {display: flex;align-items: stretch;justify-content: center;background-color: white;position: relative;}#sk-container-id-5 div.sk-item::before, #sk-container-id-5 div.sk-parallel-item::before {content: \"\";position: absolute;border-left: 1px solid gray;box-sizing: border-box;top: 0;bottom: 0;left: 50%;z-index: -1;}#sk-container-id-5 div.sk-parallel-item {display: flex;flex-direction: column;z-index: 1;position: relative;background-color: white;}#sk-container-id-5 div.sk-parallel-item:first-child::after {align-self: flex-end;width: 50%;}#sk-container-id-5 div.sk-parallel-item:last-child::after {align-self: flex-start;width: 50%;}#sk-container-id-5 div.sk-parallel-item:only-child::after {width: 0;}#sk-container-id-5 div.sk-dashed-wrapped {border: 1px dashed gray;margin: 0 0.4em 0.5em 0.4em;box-sizing: border-box;padding-bottom: 0.4em;background-color: white;}#sk-container-id-5 div.sk-label label {font-family: monospace;font-weight: bold;display: inline-block;line-height: 1.2em;}#sk-container-id-5 div.sk-label-container {text-align: center;}#sk-container-id-5 div.sk-container {/* jupyter's `normalize.less` sets `[hidden] { display: none; }` but bootstrap.min.css set `[hidden] { display: none !important; }` so we also need the `!important` here to be able to override the default hidden behavior on the sphinx rendered scikit-learn.org. See: https://github.com/scikit-learn/scikit-learn/issues/21755 */display: inline-block !important;position: relative;}#sk-container-id-5 div.sk-text-repr-fallback {display: none;}</style><div id=\"sk-container-id-5\" class=\"sk-top-container\"><div class=\"sk-text-repr-fallback\"><pre>KNeighborsClassifier()</pre><b>In a Jupyter environment, please rerun this cell to show the HTML representation or trust the notebook. <br />On GitHub, the HTML representation is unable to render, please try loading this page with nbviewer.org.</b></div><div class=\"sk-container\" hidden><div class=\"sk-item\"><div class=\"sk-estimator sk-toggleable\"><input class=\"sk-toggleable__control sk-hidden--visually\" id=\"sk-estimator-id-5\" type=\"checkbox\" checked><label for=\"sk-estimator-id-5\" class=\"sk-toggleable__label sk-toggleable__label-arrow\">KNeighborsClassifier</label><div class=\"sk-toggleable__content\"><pre>KNeighborsClassifier()</pre></div></div></div></div></div>"
            ]
          },
          "metadata": {},
          "execution_count": 193
        }
      ]
    },
    {
      "cell_type": "code",
      "source": [
        "X_test_4 = test.copy().drop(columns=['ID'])\n",
        "X_test_4 = X_test_4.drop(columns=last_100_features)"
      ],
      "metadata": {
        "id": "IKoHkr7JYXz-"
      },
      "execution_count": 194,
      "outputs": []
    },
    {
      "cell_type": "code",
      "source": [
        "label_4_pred = knn_4.predict(X_test_4)"
      ],
      "metadata": {
        "id": "_4y1usupYXz-"
      },
      "execution_count": 195,
      "outputs": []
    },
    {
      "cell_type": "code",
      "source": [
        "label_4_pred"
      ],
      "metadata": {
        "colab": {
          "base_uri": "https://localhost:8080/"
        },
        "id": "BPiQcs2UYXz-",
        "outputId": "637278f8-61bc-4a2f-840d-790bb6618a74"
      },
      "execution_count": 196,
      "outputs": [
        {
          "output_type": "execute_result",
          "data": {
            "text/plain": [
              "array([ 2,  8,  6,  6,  6,  6,  6,  6,  6,  2,  6,  6,  6,  6,  6,  6,  6,\n",
              "        6,  5,  0,  6,  2,  6,  6,  6,  6,  6,  6,  6,  6,  6,  6,  6,  6,\n",
              "        6,  6,  6,  6,  6,  8,  6,  3,  6,  6,  6,  1,  6,  2,  6,  0,  1,\n",
              "        6,  6,  7,  0,  6,  6,  5,  6,  6,  6,  3,  6,  2,  6,  6,  6,  6,\n",
              "        6, 12,  6,  6,  6,  6,  6,  6,  6,  6,  6,  6,  5, 12,  6,  6,  6,\n",
              "        6, 12,  4,  6,  6,  6,  6,  6,  0,  6,  6,  7,  6,  6,  0,  4,  2,\n",
              "        6,  6,  6,  6,  6,  6, 12,  6,  6,  7,  6,  6,  6,  6,  6,  6,  6,\n",
              "        6,  6,  6,  6,  6, 12,  9,  6, 11,  5,  6,  6,  6,  6,  6,  6,  1,\n",
              "        0,  6,  6,  7,  6,  6,  6,  7,  0,  6,  6,  6,  6,  6,  0,  7,  3,\n",
              "        6,  6, 10,  4,  6,  9,  6,  6,  8,  6,  6,  6,  6,  6,  6,  6,  6,\n",
              "        6,  6,  7,  6,  6,  6,  6,  5, 10,  6,  6,  8,  6,  6,  7,  6,  6,\n",
              "        6,  6,  2,  6,  5,  6,  7,  6,  6,  6, 12,  6,  6,  6, 13,  8,  6,\n",
              "        6, 11,  6,  1,  6,  2,  4,  6,  6,  6,  6,  6,  6,  3, 12,  6,  6,\n",
              "        6,  6,  7,  6,  6,  6,  9,  6, 12,  8,  6,  6, 10,  6,  6,  6,  6,\n",
              "        6,  6,  6,  6,  6,  6,  9,  6,  5,  6,  6,  6,  6,  6,  6,  6,  6,\n",
              "        6, 11,  6,  6,  6,  6,  6,  6,  6,  6,  6,  6,  6,  6,  6,  6,  6,\n",
              "        3,  6, 13,  6,  3,  6,  6,  6,  6,  6,  6,  0,  6,  6,  4,  6,  6,\n",
              "        6,  6,  0, 10,  7, 10,  6,  6,  6,  6,  6,  6,  6,  9,  6,  6,  6,\n",
              "        6,  1,  6,  6,  6,  6,  6,  6,  6,  6,  2,  6,  6,  6,  6,  6,  6,\n",
              "        0,  6,  6,  6,  6,  2,  6,  6,  6, 11,  6,  6,  6,  6,  8,  6,  6,\n",
              "        6,  6,  6,  3,  7,  6,  6,  2,  1,  7,  6,  6,  6,  6,  0,  6,  6,\n",
              "        6,  6,  6,  6,  6,  6,  7,  6,  6,  9,  6,  6,  6,  6,  6,  6,  6,\n",
              "        6,  6,  6,  6,  6, 13,  6,  0,  6,  6, 13,  6,  6,  6,  8,  6,  6,\n",
              "        7,  6,  6, 10,  9,  6,  6,  6,  6,  6,  6,  6,  2,  6,  6,  6,  6,\n",
              "        5,  6,  6,  6,  2,  6,  6,  6,  6,  7,  6,  6,  2,  6, 12,  6,  6,\n",
              "        6,  6,  8,  6,  6,  6,  9,  6,  6,  6,  6,  6,  6, 13,  5,  6,  6,\n",
              "        6,  6,  6,  6,  6,  6,  6,  6,  6,  6,  4,  6,  3, 12,  6,  6,  6,\n",
              "        6,  6,  6,  6,  6,  6,  6,  6,  6,  6,  6,  8,  7,  6,  6, 12,  6,\n",
              "        6,  6,  6,  6,  1,  6,  6,  6,  6,  6,  6,  7,  6,  6,  6,  6,  6,\n",
              "        6,  6,  6,  6,  6,  6,  7,  6,  6,  6,  6, 11,  6,  6,  6,  6,  6,\n",
              "        5,  6,  0,  6,  7, 10,  2,  6,  0,  6,  6,  3,  6,  6,  6,  8,  3,\n",
              "        6,  6,  6,  7,  6,  6,  6,  6,  8,  6,  6,  6,  6,  6,  6,  6,  6,\n",
              "        6,  6,  7,  6,  6,  0,  6,  6,  7, 12,  6,  6,  6,  6,  0,  7,  6,\n",
              "        6,  6,  6,  6,  7,  6,  6,  2,  6,  2,  6,  9,  2,  6,  6,  6,  6,\n",
              "        7,  6,  6,  6,  6,  3,  6,  6,  6,  6,  6,  0,  6,  6,  2,  6,  6,\n",
              "        6,  6, 10,  6,  6,  6,  6,  6,  6,  4,  8,  6,  6,  6,  6,  6,  6,\n",
              "        6,  6,  6,  8,  6,  7,  0,  0,  6,  6,  6,  6,  2,  6,  6, 11,  6,\n",
              "        9,  6,  4,  7,  6,  4,  6,  6, 12,  6,  6,  6,  0,  7,  9,  6,  1,\n",
              "        6,  6,  6,  6,  6,  1, 13,  6,  6,  7,  6,  6,  6,  5,  6,  6,  6,\n",
              "        6,  3,  6,  6,  7,  6,  6,  0,  6,  6, 11,  0,  6,  6,  6,  6, 12,\n",
              "        4,  2, 12,  6,  6,  6,  6,  6,  6,  6, 13,  6,  0,  6,  6,  6,  6,\n",
              "        6,  6,  6,  9,  6, 11,  6,  6,  6,  6,  6,  6,  2,  5,  6,  6,  3,\n",
              "        4,  6,  1,  6,  6,  6,  6,  6,  6,  6,  6,  6,  6,  6,  6,  6,  6,\n",
              "        6,  6,  6,  6,  6,  2,  6,  6,  6,  2,  6, 12,  6])"
            ]
          },
          "metadata": {},
          "execution_count": 196
        }
      ]
    },
    {
      "cell_type": "markdown",
      "source": [
        "## Label-2 calculation"
      ],
      "metadata": {
        "id": "s2UB8OEDd0br"
      }
    },
    {
      "cell_type": "code",
      "source": [
        "from sklearn.neighbors import KNeighborsClassifier\n",
        "from sklearn.model_selection import cross_val_score\n",
        "from sklearn.metrics import f1_score\n",
        "\n",
        "df_2=df.copy()\n",
        "df_2=df_2.dropna()\n",
        "X_2=df_2.drop(columns=['label_1','label_2','label_3','label_4'])\n",
        "y_2=df_2.label_2\n",
        "\n",
        "\n",
        "knn_2=KNeighborsClassifier()\n",
        "cross_val_score(knn_2, X_2, y_2, cv=5, scoring='f1_macro').mean()\n"
      ],
      "metadata": {
        "colab": {
          "base_uri": "https://localhost:8080/"
        },
        "outputId": "b7e9920a-5bd8-463f-ae5c-e4670b012023",
        "id": "c-tGOnrOd0b1"
      },
      "execution_count": 209,
      "outputs": [
        {
          "output_type": "execute_result",
          "data": {
            "text/plain": [
              "0.6837698237178371"
            ]
          },
          "metadata": {},
          "execution_count": 209
        }
      ]
    },
    {
      "cell_type": "code",
      "source": [
        "discrete_features = X_2.dtypes == int\n",
        "\n",
        "mi_scores = make_mi_scores(X_2, y_2, discrete_features)\n",
        "mi_scores.sort_values(ascending=False)"
      ],
      "metadata": {
        "colab": {
          "base_uri": "https://localhost:8080/"
        },
        "outputId": "e0d4ab4d-d2b9-41ba-8424-76bd19a999aa",
        "id": "HBQRsXAad0b1"
      },
      "execution_count": 211,
      "outputs": [
        {
          "output_type": "execute_result",
          "data": {
            "text/plain": [
              "feature_242    0.110355\n",
              "feature_582    0.105245\n",
              "feature_545    0.070757\n",
              "feature_204    0.069773\n",
              "feature_332    0.058931\n",
              "                 ...   \n",
              "feature_567    0.003784\n",
              "feature_477    0.003592\n",
              "feature_647    0.003077\n",
              "feature_596    0.002688\n",
              "feature_263    0.002428\n",
              "Name: MI Scores, Length: 768, dtype: float64"
            ]
          },
          "metadata": {},
          "execution_count": 211
        }
      ]
    },
    {
      "cell_type": "code",
      "source": [
        "# Get the last 100 feature names\n",
        "last_100_features = mi_scores.index[-100:]\n",
        "\n",
        "# Print the last 100 feature names\n",
        "print(last_100_features)"
      ],
      "metadata": {
        "colab": {
          "base_uri": "https://localhost:8080/"
        },
        "outputId": "994e682e-d7dd-43e4-fd17-a85bb009f397",
        "id": "_0FP0IuAd0b3"
      },
      "execution_count": 212,
      "outputs": [
        {
          "output_type": "stream",
          "name": "stdout",
          "text": [
            "Index(['feature_6', 'feature_123', 'feature_637', 'feature_80', 'feature_134',\n",
            "       'feature_709', 'feature_201', 'feature_78', 'feature_744',\n",
            "       'feature_683', 'feature_290', 'feature_595', 'feature_357',\n",
            "       'feature_503', 'feature_300', 'feature_54', 'feature_243',\n",
            "       'feature_372', 'feature_354', 'feature_252', 'feature_427',\n",
            "       'feature_74', 'feature_432', 'feature_75', 'feature_206', 'feature_101',\n",
            "       'feature_295', 'feature_191', 'feature_20', 'feature_653', 'feature_70',\n",
            "       'feature_757', 'feature_672', 'feature_236', 'feature_409',\n",
            "       'feature_114', 'feature_92', 'feature_73', 'feature_684', 'feature_231',\n",
            "       'feature_463', 'feature_622', 'feature_210', 'feature_151',\n",
            "       'feature_282', 'feature_116', 'feature_524', 'feature_255',\n",
            "       'feature_149', 'feature_227', 'feature_768', 'feature_22',\n",
            "       'feature_174', 'feature_205', 'feature_491', 'feature_606',\n",
            "       'feature_200', 'feature_753', 'feature_60', 'feature_93', 'feature_44',\n",
            "       'feature_215', 'feature_547', 'feature_459', 'feature_346',\n",
            "       'feature_280', 'feature_392', 'feature_56', 'feature_220',\n",
            "       'feature_157', 'feature_237', 'feature_208', 'feature_7', 'feature_470',\n",
            "       'feature_119', 'feature_513', 'feature_732', 'feature_590', 'feature_1',\n",
            "       'feature_665', 'feature_445', 'feature_726', 'feature_651',\n",
            "       'feature_338', 'feature_599', 'feature_273', 'feature_65',\n",
            "       'feature_460', 'feature_699', 'feature_695', 'feature_138',\n",
            "       'feature_34', 'feature_756', 'feature_2', 'feature_233', 'feature_567',\n",
            "       'feature_477', 'feature_647', 'feature_596', 'feature_263'],\n",
            "      dtype='object')\n"
          ]
        }
      ]
    },
    {
      "cell_type": "code",
      "source": [
        "X_2 = X_2.drop(columns=last_100_features)\n"
      ],
      "metadata": {
        "id": "x2_10oPHd0b3"
      },
      "execution_count": 214,
      "outputs": []
    },
    {
      "cell_type": "code",
      "source": [
        "cross_val_score(knn_2, X_2, y_2, cv=5, scoring='f1_macro').mean()"
      ],
      "metadata": {
        "colab": {
          "base_uri": "https://localhost:8080/"
        },
        "outputId": "681f3912-8c4c-4fa9-9e48-dbdd652ac2e4",
        "id": "7ZrpD4hld0b4"
      },
      "execution_count": 215,
      "outputs": [
        {
          "output_type": "execute_result",
          "data": {
            "text/plain": [
              "0.6844346634599926"
            ]
          },
          "metadata": {},
          "execution_count": 215
        }
      ]
    },
    {
      "cell_type": "code",
      "source": [
        "knn_2.fit(X_2, y_2)"
      ],
      "metadata": {
        "colab": {
          "base_uri": "https://localhost:8080/",
          "height": 75
        },
        "outputId": "0a6d5195-8aae-4534-8748-3da6aab38767",
        "id": "hShfMImVd0b4"
      },
      "execution_count": 218,
      "outputs": [
        {
          "output_type": "execute_result",
          "data": {
            "text/plain": [
              "KNeighborsClassifier()"
            ],
            "text/html": [
              "<style>#sk-container-id-8 {color: black;background-color: white;}#sk-container-id-8 pre{padding: 0;}#sk-container-id-8 div.sk-toggleable {background-color: white;}#sk-container-id-8 label.sk-toggleable__label {cursor: pointer;display: block;width: 100%;margin-bottom: 0;padding: 0.3em;box-sizing: border-box;text-align: center;}#sk-container-id-8 label.sk-toggleable__label-arrow:before {content: \"▸\";float: left;margin-right: 0.25em;color: #696969;}#sk-container-id-8 label.sk-toggleable__label-arrow:hover:before {color: black;}#sk-container-id-8 div.sk-estimator:hover label.sk-toggleable__label-arrow:before {color: black;}#sk-container-id-8 div.sk-toggleable__content {max-height: 0;max-width: 0;overflow: hidden;text-align: left;background-color: #f0f8ff;}#sk-container-id-8 div.sk-toggleable__content pre {margin: 0.2em;color: black;border-radius: 0.25em;background-color: #f0f8ff;}#sk-container-id-8 input.sk-toggleable__control:checked~div.sk-toggleable__content {max-height: 200px;max-width: 100%;overflow: auto;}#sk-container-id-8 input.sk-toggleable__control:checked~label.sk-toggleable__label-arrow:before {content: \"▾\";}#sk-container-id-8 div.sk-estimator input.sk-toggleable__control:checked~label.sk-toggleable__label {background-color: #d4ebff;}#sk-container-id-8 div.sk-label input.sk-toggleable__control:checked~label.sk-toggleable__label {background-color: #d4ebff;}#sk-container-id-8 input.sk-hidden--visually {border: 0;clip: rect(1px 1px 1px 1px);clip: rect(1px, 1px, 1px, 1px);height: 1px;margin: -1px;overflow: hidden;padding: 0;position: absolute;width: 1px;}#sk-container-id-8 div.sk-estimator {font-family: monospace;background-color: #f0f8ff;border: 1px dotted black;border-radius: 0.25em;box-sizing: border-box;margin-bottom: 0.5em;}#sk-container-id-8 div.sk-estimator:hover {background-color: #d4ebff;}#sk-container-id-8 div.sk-parallel-item::after {content: \"\";width: 100%;border-bottom: 1px solid gray;flex-grow: 1;}#sk-container-id-8 div.sk-label:hover label.sk-toggleable__label {background-color: #d4ebff;}#sk-container-id-8 div.sk-serial::before {content: \"\";position: absolute;border-left: 1px solid gray;box-sizing: border-box;top: 0;bottom: 0;left: 50%;z-index: 0;}#sk-container-id-8 div.sk-serial {display: flex;flex-direction: column;align-items: center;background-color: white;padding-right: 0.2em;padding-left: 0.2em;position: relative;}#sk-container-id-8 div.sk-item {position: relative;z-index: 1;}#sk-container-id-8 div.sk-parallel {display: flex;align-items: stretch;justify-content: center;background-color: white;position: relative;}#sk-container-id-8 div.sk-item::before, #sk-container-id-8 div.sk-parallel-item::before {content: \"\";position: absolute;border-left: 1px solid gray;box-sizing: border-box;top: 0;bottom: 0;left: 50%;z-index: -1;}#sk-container-id-8 div.sk-parallel-item {display: flex;flex-direction: column;z-index: 1;position: relative;background-color: white;}#sk-container-id-8 div.sk-parallel-item:first-child::after {align-self: flex-end;width: 50%;}#sk-container-id-8 div.sk-parallel-item:last-child::after {align-self: flex-start;width: 50%;}#sk-container-id-8 div.sk-parallel-item:only-child::after {width: 0;}#sk-container-id-8 div.sk-dashed-wrapped {border: 1px dashed gray;margin: 0 0.4em 0.5em 0.4em;box-sizing: border-box;padding-bottom: 0.4em;background-color: white;}#sk-container-id-8 div.sk-label label {font-family: monospace;font-weight: bold;display: inline-block;line-height: 1.2em;}#sk-container-id-8 div.sk-label-container {text-align: center;}#sk-container-id-8 div.sk-container {/* jupyter's `normalize.less` sets `[hidden] { display: none; }` but bootstrap.min.css set `[hidden] { display: none !important; }` so we also need the `!important` here to be able to override the default hidden behavior on the sphinx rendered scikit-learn.org. See: https://github.com/scikit-learn/scikit-learn/issues/21755 */display: inline-block !important;position: relative;}#sk-container-id-8 div.sk-text-repr-fallback {display: none;}</style><div id=\"sk-container-id-8\" class=\"sk-top-container\"><div class=\"sk-text-repr-fallback\"><pre>KNeighborsClassifier()</pre><b>In a Jupyter environment, please rerun this cell to show the HTML representation or trust the notebook. <br />On GitHub, the HTML representation is unable to render, please try loading this page with nbviewer.org.</b></div><div class=\"sk-container\" hidden><div class=\"sk-item\"><div class=\"sk-estimator sk-toggleable\"><input class=\"sk-toggleable__control sk-hidden--visually\" id=\"sk-estimator-id-8\" type=\"checkbox\" checked><label for=\"sk-estimator-id-8\" class=\"sk-toggleable__label sk-toggleable__label-arrow\">KNeighborsClassifier</label><div class=\"sk-toggleable__content\"><pre>KNeighborsClassifier()</pre></div></div></div></div></div>"
            ]
          },
          "metadata": {},
          "execution_count": 218
        }
      ]
    },
    {
      "cell_type": "code",
      "source": [
        "X_test_2 = test.copy().drop(columns=['ID'])\n",
        "X_test_2 = X_test_2.drop(columns=last_100_features)"
      ],
      "metadata": {
        "id": "iy-VF-aEd0b4"
      },
      "execution_count": 219,
      "outputs": []
    },
    {
      "cell_type": "code",
      "source": [
        "label_2_pred = knn_2.predict(X_test_2)"
      ],
      "metadata": {
        "id": "49eo6yyed0b4"
      },
      "execution_count": 220,
      "outputs": []
    },
    {
      "cell_type": "code",
      "source": [
        "label_2_pred"
      ],
      "metadata": {
        "colab": {
          "base_uri": "https://localhost:8080/"
        },
        "outputId": "b6d8ea08-2cb4-49ae-db82-4b59d443e445",
        "id": "mwf64zgjd0b5"
      },
      "execution_count": 222,
      "outputs": [
        {
          "output_type": "execute_result",
          "data": {
            "text/plain": [
              "array([22., 25., 30., 27., 29., 30., 27., 33., 23., 22., 26., 25., 27.,\n",
              "       26., 23., 26., 28., 25., 34., 29., 33., 24., 29., 25., 61., 26.,\n",
              "       28., 23., 25., 26., 23., 30., 30., 24., 28., 28., 24., 25., 26.,\n",
              "       25., 26., 23., 25., 30., 31., 22., 26., 24., 25., 23., 22., 24.,\n",
              "       29., 27., 23., 23., 30., 34., 28., 25., 30., 23., 23., 26., 28.,\n",
              "       25., 25., 25., 22., 32., 33., 28., 61., 30., 23., 26., 26., 26.,\n",
              "       27., 26., 34., 32., 23., 23., 26., 26., 31., 23., 26., 29., 22.,\n",
              "       31., 25., 23., 27., 30., 31., 25., 27., 29., 23., 22., 26., 22.,\n",
              "       24., 36., 26., 26., 32., 25., 27., 27., 26., 24., 30., 30., 26.,\n",
              "       25., 25., 26., 29., 26., 41., 33., 32., 28., 29., 35., 34., 25.,\n",
              "       26., 27., 36., 23., 28., 22., 23., 27., 30., 31., 28., 25., 26.,\n",
              "       31., 23., 30., 30., 23., 33., 30., 29., 27., 23., 24., 31., 30.,\n",
              "       23., 25., 28., 41., 31., 25., 25., 28., 30., 26., 30., 26., 26.,\n",
              "       25., 25., 27., 31., 30., 33., 31., 25., 34., 30., 23., 27., 25.,\n",
              "       26., 23., 27., 23., 26., 28., 28., 24., 30., 34., 28., 31., 26.,\n",
              "       27., 28., 31., 31., 29., 26., 27., 25., 31., 33., 35., 25., 22.,\n",
              "       26., 22., 23., 22., 26., 26., 30., 61., 29., 23., 32., 25., 24.,\n",
              "       29., 28., 27., 26., 33., 29., 28., 28., 32., 25., 27., 31., 30.,\n",
              "       30., 41., 31., 28., 41., 27., 36., 30., 23., 25., 28., 26., 34.,\n",
              "       26., 30., 31., 24., 26., 25., 26., 26., 25., 35., 26., 27., 33.,\n",
              "       25., 33., 33., 31., 41., 27., 29., 28., 24., 29., 27., 27., 23.,\n",
              "       24., 27., 24., 23., 22., 28., 22., 26., 27., 25., 23., 25., 25.,\n",
              "       23., 23., 27., 24., 28., 23., 30., 27., 30., 26., 25., 25., 26.,\n",
              "       26., 61., 26., 28., 26., 30., 26., 26., 22., 22., 61., 27., 26.,\n",
              "       30., 27., 24., 24., 22., 23., 26., 25., 29., 28., 41., 23., 26.,\n",
              "       26., 24., 26., 22., 26., 27., 36., 35., 31., 22., 29., 26., 25.,\n",
              "       27., 23., 28., 36., 33., 23., 27., 22., 26., 24., 22., 31., 23.,\n",
              "       26., 26., 26., 29., 31., 61., 28., 25., 26., 28., 26., 24., 31.,\n",
              "       41., 61., 28., 31., 26., 29., 23., 28., 27., 26., 31., 31., 31.,\n",
              "       25., 36., 27., 29., 29., 36., 26., 27., 28., 27., 23., 25., 31.,\n",
              "       33., 24., 25., 28., 30., 28., 27., 29., 26., 24., 23., 25., 26.,\n",
              "       24., 26., 29., 25., 23., 34., 23., 23., 26., 26., 24., 28., 23.,\n",
              "       24., 31., 25., 61., 26., 41., 32., 26., 61., 28., 41., 25., 27.,\n",
              "       27., 41., 28., 25., 29., 33., 29., 26., 29., 27., 34., 28., 26.,\n",
              "       25., 23., 26., 36., 26., 26., 26., 26., 24., 23., 23., 26., 23.,\n",
              "       32., 34., 25., 26., 33., 26., 26., 28., 23., 23., 22., 28., 29.,\n",
              "       27., 24., 25., 27., 27., 26., 31., 27., 27., 28., 41., 27., 22.,\n",
              "       30., 31., 22., 27., 31., 28., 27., 23., 25., 26., 33., 23., 26.,\n",
              "       27., 23., 26., 26., 27., 31., 26., 33., 33., 26., 35., 30., 24.,\n",
              "       26., 28., 24., 34., 26., 23., 30., 27., 30., 22., 27., 29., 33.,\n",
              "       22., 23., 28., 30., 23., 25., 23., 28., 33., 26., 31., 26., 31.,\n",
              "       26., 26., 25., 26., 30., 27., 31., 28., 61., 24., 27., 31., 27.,\n",
              "       27., 26., 25., 23., 24., 61., 27., 32., 25., 33., 26., 24., 23.,\n",
              "       31., 23., 23., 26., 26., 23., 31., 26., 28., 26., 27., 22., 22.,\n",
              "       28., 24., 26., 30., 23., 26., 31., 36., 26., 26., 25., 23., 26.,\n",
              "       28., 26., 23., 30., 29., 27., 25., 26., 29., 26., 26., 27., 30.,\n",
              "       30., 26., 30., 25., 26., 23., 23., 25., 31., 28., 27., 30., 26.,\n",
              "       30., 25., 26., 31., 25., 41., 27., 23., 23., 27., 23., 25., 28.,\n",
              "       22., 25., 28., 35., 26., 28., 33., 23., 27., 24., 23., 41., 26.,\n",
              "       31., 23., 25., 33., 23., 31., 28., 31., 22., 24., 41., 24., 28.,\n",
              "       27., 22., 27., 26., 33., 27., 23., 61., 23., 34., 25., 25., 25.,\n",
              "       31., 23., 29., 27., 27., 31., 30., 23., 24., 26., 35., 23., 25.,\n",
              "       26., 30., 30., 31., 23., 26., 32., 31., 25., 26., 25., 25., 25.,\n",
              "       25., 27., 36., 29., 26., 28., 31., 29., 41., 24., 28., 28., 25.,\n",
              "       35., 30., 24., 61., 30., 23., 26., 26., 34., 24., 30., 23., 23.,\n",
              "       36., 22., 31., 26., 61., 26., 33., 26., 25., 28., 26., 24., 26.,\n",
              "       26., 23., 30., 26., 28., 23., 24., 24., 22., 25., 25., 26., 24.,\n",
              "       25., 32., 26.])"
            ]
          },
          "metadata": {},
          "execution_count": 222
        }
      ]
    },
    {
      "cell_type": "markdown",
      "source": [
        "## Label-3 calculation"
      ],
      "metadata": {
        "id": "zSCcBdZ5jlCl"
      }
    },
    {
      "cell_type": "code",
      "source": [
        "from sklearn.neighbors import KNeighborsClassifier\n",
        "from sklearn.model_selection import cross_val_score\n",
        "from sklearn.metrics import f1_score\n",
        "\n",
        "df_3=df.copy()\n",
        "X_3=df_3.drop(columns=['label_1','label_2','label_3','label_4'])\n",
        "y_3=df_3.label_3\n",
        "\n",
        "\n",
        "knn_3=KNeighborsClassifier()\n",
        "cross_val_score(knn_3, X_3, y_3, cv=5, scoring='f1_macro').mean()\n"
      ],
      "metadata": {
        "colab": {
          "base_uri": "https://localhost:8080/"
        },
        "outputId": "5b0c332f-7745-477c-ab25-b81539c166af",
        "id": "zRIt5-3_jlCm"
      },
      "execution_count": 223,
      "outputs": [
        {
          "output_type": "execute_result",
          "data": {
            "text/plain": [
              "0.9031988529340838"
            ]
          },
          "metadata": {},
          "execution_count": 223
        }
      ]
    },
    {
      "cell_type": "code",
      "source": [
        "discrete_features = X_3.dtypes == int\n",
        "\n",
        "mi_scores = make_mi_scores(X_3, y_3, discrete_features)\n",
        "mi_scores.sort_values(ascending=False)"
      ],
      "metadata": {
        "colab": {
          "base_uri": "https://localhost:8080/"
        },
        "outputId": "eafe8a35-6c2d-4a38-c216-07383c473eed",
        "id": "c9qMDgUIjlCm"
      },
      "execution_count": 224,
      "outputs": [
        {
          "output_type": "execute_result",
          "data": {
            "text/plain": [
              "feature_630    0.073795\n",
              "feature_242    0.067246\n",
              "feature_582    0.062053\n",
              "feature_426    0.061418\n",
              "feature_671    0.048750\n",
              "                 ...   \n",
              "feature_14     0.000000\n",
              "feature_88     0.000000\n",
              "feature_78     0.000000\n",
              "feature_77     0.000000\n",
              "feature_768    0.000000\n",
              "Name: MI Scores, Length: 768, dtype: float64"
            ]
          },
          "metadata": {},
          "execution_count": 224
        }
      ]
    },
    {
      "cell_type": "code",
      "source": [
        "# Get the last 100 feature names\n",
        "last_100_features = mi_scores.index[-100:]\n",
        "\n",
        "# Print the last 100 feature names\n",
        "print(last_100_features)"
      ],
      "metadata": {
        "colab": {
          "base_uri": "https://localhost:8080/"
        },
        "outputId": "ac26fec2-4f01-4036-b87a-979c706fbc7f",
        "id": "XF0yzevIjlCn"
      },
      "execution_count": 225,
      "outputs": [
        {
          "output_type": "stream",
          "name": "stdout",
          "text": [
            "Index(['feature_444', 'feature_296', 'feature_365', 'feature_166',\n",
            "       'feature_130', 'feature_550', 'feature_385', 'feature_99',\n",
            "       'feature_366', 'feature_5', 'feature_604', 'feature_101', 'feature_507',\n",
            "       'feature_650', 'feature_201', 'feature_600', 'feature_665',\n",
            "       'feature_308', 'feature_440', 'feature_537', 'feature_181',\n",
            "       'feature_152', 'feature_87', 'feature_180', 'feature_744',\n",
            "       'feature_475', 'feature_755', 'feature_639', 'feature_217',\n",
            "       'feature_733', 'feature_224', 'feature_213', 'feature_211', 'feature_4',\n",
            "       'feature_192', 'feature_227', 'feature_167', 'feature_237',\n",
            "       'feature_149', 'feature_25', 'feature_142', 'feature_120', 'feature_53',\n",
            "       'feature_760', 'feature_759', 'feature_65', 'feature_66', 'feature_77',\n",
            "       'feature_78', 'feature_88', 'feature_14', 'feature_93', 'feature_255',\n",
            "       'feature_749', 'feature_12', 'feature_110', 'feature_20', 'feature_254',\n",
            "       'feature_298', 'feature_260', 'feature_483', 'feature_495',\n",
            "       'feature_524', 'feature_531', 'feature_696', 'feature_533',\n",
            "       'feature_534', 'feature_548', 'feature_553', 'feature_570',\n",
            "       'feature_593', 'feature_688', 'feature_685', 'feature_615',\n",
            "       'feature_683', 'feature_618', 'feature_634', 'feature_651',\n",
            "       'feature_492', 'feature_463', 'feature_268', 'feature_462',\n",
            "       'feature_274', 'feature_277', 'feature_281', 'feature_663',\n",
            "       'feature_307', 'feature_324', 'feature_328', 'feature_336',\n",
            "       'feature_346', 'feature_356', 'feature_364', 'feature_372',\n",
            "       'feature_378', 'feature_383', 'feature_709', 'feature_403',\n",
            "       'feature_413', 'feature_768'],\n",
            "      dtype='object')\n"
          ]
        }
      ]
    },
    {
      "cell_type": "code",
      "source": [
        "X_3 = X_3.drop(columns=last_100_features)\n"
      ],
      "metadata": {
        "id": "uMKK0XgNjlCn"
      },
      "execution_count": 228,
      "outputs": []
    },
    {
      "cell_type": "code",
      "source": [
        "cross_val_score(knn_3, X_3, y_3, cv=5, scoring='f1_macro').mean()"
      ],
      "metadata": {
        "colab": {
          "base_uri": "https://localhost:8080/"
        },
        "outputId": "40a55fb6-b813-4917-e372-36551deb57cd",
        "id": "OFv4pWEwjlCn"
      },
      "execution_count": 229,
      "outputs": [
        {
          "output_type": "execute_result",
          "data": {
            "text/plain": [
              "0.907970035720945"
            ]
          },
          "metadata": {},
          "execution_count": 229
        }
      ]
    },
    {
      "cell_type": "code",
      "source": [
        "knn_3.fit(X_3, y_3)"
      ],
      "metadata": {
        "colab": {
          "base_uri": "https://localhost:8080/",
          "height": 75
        },
        "outputId": "28a471c5-5e86-42a4-b3b8-74a05966f21d",
        "id": "75LIpm0jjlCn"
      },
      "execution_count": 230,
      "outputs": [
        {
          "output_type": "execute_result",
          "data": {
            "text/plain": [
              "KNeighborsClassifier()"
            ],
            "text/html": [
              "<style>#sk-container-id-9 {color: black;background-color: white;}#sk-container-id-9 pre{padding: 0;}#sk-container-id-9 div.sk-toggleable {background-color: white;}#sk-container-id-9 label.sk-toggleable__label {cursor: pointer;display: block;width: 100%;margin-bottom: 0;padding: 0.3em;box-sizing: border-box;text-align: center;}#sk-container-id-9 label.sk-toggleable__label-arrow:before {content: \"▸\";float: left;margin-right: 0.25em;color: #696969;}#sk-container-id-9 label.sk-toggleable__label-arrow:hover:before {color: black;}#sk-container-id-9 div.sk-estimator:hover label.sk-toggleable__label-arrow:before {color: black;}#sk-container-id-9 div.sk-toggleable__content {max-height: 0;max-width: 0;overflow: hidden;text-align: left;background-color: #f0f8ff;}#sk-container-id-9 div.sk-toggleable__content pre {margin: 0.2em;color: black;border-radius: 0.25em;background-color: #f0f8ff;}#sk-container-id-9 input.sk-toggleable__control:checked~div.sk-toggleable__content {max-height: 200px;max-width: 100%;overflow: auto;}#sk-container-id-9 input.sk-toggleable__control:checked~label.sk-toggleable__label-arrow:before {content: \"▾\";}#sk-container-id-9 div.sk-estimator input.sk-toggleable__control:checked~label.sk-toggleable__label {background-color: #d4ebff;}#sk-container-id-9 div.sk-label input.sk-toggleable__control:checked~label.sk-toggleable__label {background-color: #d4ebff;}#sk-container-id-9 input.sk-hidden--visually {border: 0;clip: rect(1px 1px 1px 1px);clip: rect(1px, 1px, 1px, 1px);height: 1px;margin: -1px;overflow: hidden;padding: 0;position: absolute;width: 1px;}#sk-container-id-9 div.sk-estimator {font-family: monospace;background-color: #f0f8ff;border: 1px dotted black;border-radius: 0.25em;box-sizing: border-box;margin-bottom: 0.5em;}#sk-container-id-9 div.sk-estimator:hover {background-color: #d4ebff;}#sk-container-id-9 div.sk-parallel-item::after {content: \"\";width: 100%;border-bottom: 1px solid gray;flex-grow: 1;}#sk-container-id-9 div.sk-label:hover label.sk-toggleable__label {background-color: #d4ebff;}#sk-container-id-9 div.sk-serial::before {content: \"\";position: absolute;border-left: 1px solid gray;box-sizing: border-box;top: 0;bottom: 0;left: 50%;z-index: 0;}#sk-container-id-9 div.sk-serial {display: flex;flex-direction: column;align-items: center;background-color: white;padding-right: 0.2em;padding-left: 0.2em;position: relative;}#sk-container-id-9 div.sk-item {position: relative;z-index: 1;}#sk-container-id-9 div.sk-parallel {display: flex;align-items: stretch;justify-content: center;background-color: white;position: relative;}#sk-container-id-9 div.sk-item::before, #sk-container-id-9 div.sk-parallel-item::before {content: \"\";position: absolute;border-left: 1px solid gray;box-sizing: border-box;top: 0;bottom: 0;left: 50%;z-index: -1;}#sk-container-id-9 div.sk-parallel-item {display: flex;flex-direction: column;z-index: 1;position: relative;background-color: white;}#sk-container-id-9 div.sk-parallel-item:first-child::after {align-self: flex-end;width: 50%;}#sk-container-id-9 div.sk-parallel-item:last-child::after {align-self: flex-start;width: 50%;}#sk-container-id-9 div.sk-parallel-item:only-child::after {width: 0;}#sk-container-id-9 div.sk-dashed-wrapped {border: 1px dashed gray;margin: 0 0.4em 0.5em 0.4em;box-sizing: border-box;padding-bottom: 0.4em;background-color: white;}#sk-container-id-9 div.sk-label label {font-family: monospace;font-weight: bold;display: inline-block;line-height: 1.2em;}#sk-container-id-9 div.sk-label-container {text-align: center;}#sk-container-id-9 div.sk-container {/* jupyter's `normalize.less` sets `[hidden] { display: none; }` but bootstrap.min.css set `[hidden] { display: none !important; }` so we also need the `!important` here to be able to override the default hidden behavior on the sphinx rendered scikit-learn.org. See: https://github.com/scikit-learn/scikit-learn/issues/21755 */display: inline-block !important;position: relative;}#sk-container-id-9 div.sk-text-repr-fallback {display: none;}</style><div id=\"sk-container-id-9\" class=\"sk-top-container\"><div class=\"sk-text-repr-fallback\"><pre>KNeighborsClassifier()</pre><b>In a Jupyter environment, please rerun this cell to show the HTML representation or trust the notebook. <br />On GitHub, the HTML representation is unable to render, please try loading this page with nbviewer.org.</b></div><div class=\"sk-container\" hidden><div class=\"sk-item\"><div class=\"sk-estimator sk-toggleable\"><input class=\"sk-toggleable__control sk-hidden--visually\" id=\"sk-estimator-id-9\" type=\"checkbox\" checked><label for=\"sk-estimator-id-9\" class=\"sk-toggleable__label sk-toggleable__label-arrow\">KNeighborsClassifier</label><div class=\"sk-toggleable__content\"><pre>KNeighborsClassifier()</pre></div></div></div></div></div>"
            ]
          },
          "metadata": {},
          "execution_count": 230
        }
      ]
    },
    {
      "cell_type": "code",
      "source": [
        "X_test_3 = test.copy().drop(columns=['ID'])\n",
        "X_test_3 = X_test_3.drop(columns=last_100_features)"
      ],
      "metadata": {
        "id": "XWb7qB_IjlCn"
      },
      "execution_count": 231,
      "outputs": []
    },
    {
      "cell_type": "code",
      "source": [
        "label_3_pred = knn_3.predict(X_test_3)"
      ],
      "metadata": {
        "id": "P7ZrBKtRjlCo"
      },
      "execution_count": 232,
      "outputs": []
    },
    {
      "cell_type": "code",
      "source": [
        "label_3_pred"
      ],
      "metadata": {
        "colab": {
          "base_uri": "https://localhost:8080/"
        },
        "outputId": "0da68efe-6b76-4825-9385-74249505e7b8",
        "id": "Vzl8tGjfjlCo"
      },
      "execution_count": 233,
      "outputs": [
        {
          "output_type": "execute_result",
          "data": {
            "text/plain": [
              "array([0, 1, 1, 1, 0, 1, 1, 1, 1, 0, 1, 1, 1, 1, 1, 1, 1, 1, 0, 1, 1, 1,\n",
              "       1, 1, 1, 1, 0, 1, 1, 1, 1, 1, 1, 0, 1, 1, 1, 1, 1, 1, 1, 0, 1, 1,\n",
              "       0, 1, 1, 1, 1, 1, 1, 0, 1, 1, 1, 1, 1, 0, 0, 1, 1, 0, 1, 1, 1, 1,\n",
              "       1, 1, 0, 1, 1, 0, 1, 1, 1, 0, 1, 1, 0, 0, 0, 1, 1, 1, 1, 1, 1, 1,\n",
              "       0, 1, 0, 0, 1, 1, 1, 1, 1, 1, 1, 1, 1, 0, 1, 0, 1, 1, 0, 1, 1, 1,\n",
              "       0, 1, 1, 1, 1, 1, 1, 1, 1, 1, 1, 1, 1, 1, 1, 1, 1, 1, 0, 1, 1, 1,\n",
              "       1, 1, 0, 1, 1, 0, 1, 1, 1, 1, 1, 1, 1, 1, 1, 1, 1, 1, 1, 1, 0, 1,\n",
              "       1, 1, 1, 1, 1, 1, 1, 1, 1, 0, 1, 1, 1, 1, 1, 1, 1, 0, 1, 1, 1, 1,\n",
              "       1, 0, 1, 1, 1, 1, 1, 1, 1, 1, 1, 0, 1, 1, 1, 0, 1, 1, 1, 1, 0, 1,\n",
              "       1, 0, 1, 0, 1, 1, 1, 1, 1, 1, 1, 0, 1, 0, 0, 1, 1, 1, 1, 0, 1, 1,\n",
              "       1, 1, 1, 1, 1, 1, 0, 1, 1, 1, 1, 1, 1, 1, 1, 1, 0, 0, 1, 0, 1, 1,\n",
              "       1, 1, 1, 1, 0, 1, 1, 1, 1, 1, 1, 1, 1, 1, 1, 1, 0, 1, 1, 1, 1, 0,\n",
              "       1, 1, 0, 1, 1, 0, 1, 1, 0, 1, 0, 1, 0, 0, 0, 0, 1, 1, 1, 1, 1, 1,\n",
              "       1, 1, 0, 1, 1, 1, 1, 1, 1, 1, 1, 1, 1, 1, 1, 1, 1, 1, 1, 1, 1, 1,\n",
              "       0, 1, 1, 1, 1, 0, 0, 1, 0, 1, 1, 1, 1, 0, 1, 1, 1, 1, 0, 1, 0, 1,\n",
              "       1, 1, 1, 1, 0, 1, 1, 1, 1, 1, 1, 1, 1, 0, 1, 1, 1, 1, 1, 1, 1, 1,\n",
              "       0, 1, 1, 1, 1, 1, 1, 0, 1, 1, 0, 1, 1, 1, 1, 1, 1, 1, 1, 0, 1, 1,\n",
              "       1, 0, 1, 1, 1, 0, 0, 1, 1, 1, 0, 1, 1, 1, 1, 0, 1, 1, 1, 1, 1, 1,\n",
              "       1, 1, 1, 1, 1, 1, 1, 1, 1, 0, 1, 1, 0, 1, 1, 1, 1, 1, 0, 1, 1, 1,\n",
              "       1, 1, 1, 1, 1, 1, 1, 1, 1, 1, 1, 1, 1, 1, 1, 1, 1, 1, 1, 0, 0, 0,\n",
              "       1, 1, 1, 1, 1, 1, 1, 1, 1, 1, 1, 1, 1, 1, 0, 1, 0, 1, 1, 1, 1, 1,\n",
              "       1, 1, 1, 0, 1, 0, 0, 1, 1, 1, 0, 1, 1, 1, 1, 1, 1, 0, 1, 1, 0, 0,\n",
              "       1, 0, 1, 1, 1, 1, 1, 1, 1, 1, 1, 1, 1, 1, 1, 1, 1, 1, 1, 1, 1, 1,\n",
              "       0, 0, 1, 0, 0, 1, 1, 1, 1, 1, 0, 1, 1, 1, 0, 0, 1, 1, 1, 1, 0, 1,\n",
              "       1, 1, 1, 1, 1, 1, 1, 1, 1, 1, 1, 0, 0, 1, 0, 0, 1, 1, 1, 1, 1, 1,\n",
              "       0, 1, 1, 1, 1, 1, 1, 1, 1, 1, 1, 1, 1, 1, 1, 1, 1, 1, 1, 1, 0, 0,\n",
              "       1, 1, 1, 1, 1, 1, 1, 1, 0, 1, 1, 0, 1, 1, 1, 1, 1, 1, 1, 1, 1, 1,\n",
              "       0, 1, 0, 1, 1, 1, 1, 1, 1, 1, 1, 1, 0, 1, 0, 1, 1, 1, 1, 1, 0, 1,\n",
              "       1, 1, 1, 1, 0, 1, 1, 1, 0, 1, 1, 1, 0, 1, 1, 1, 1, 1, 1, 1, 1, 1,\n",
              "       1, 1, 1, 1, 1, 1, 1, 1, 1, 1, 1, 1, 1, 1, 0, 1, 1, 1, 1, 1, 1, 0,\n",
              "       1, 1, 1, 0, 0, 1, 1, 1, 0, 1, 1, 1, 1, 1, 1, 1, 1, 1, 1, 1, 1, 1,\n",
              "       1, 0, 1, 1, 1, 1, 1, 1, 0, 1, 1, 1, 1, 0, 1, 1, 1, 1, 1, 1, 1, 1,\n",
              "       1, 1, 1, 1, 1, 1, 0, 1, 1, 0, 1, 1, 1, 0, 1, 1, 1, 1, 1, 1, 1, 1,\n",
              "       1, 1, 1, 1, 1, 1, 0, 1, 1, 0, 0, 1, 1, 1, 1, 1, 1, 1])"
            ]
          },
          "metadata": {},
          "execution_count": 233
        }
      ]
    },
    {
      "cell_type": "markdown",
      "source": [
        "## **final output**"
      ],
      "metadata": {
        "id": "xBBzHmyilVwR"
      }
    },
    {
      "cell_type": "code",
      "source": [
        "new_df = pd.DataFrame({\"ID\": test[\"ID\"], 'label_1': label_1_pred ,'label_2': label_2_pred ,'label_3': label_3_pred ,'label_4': label_4_pred })\n"
      ],
      "metadata": {
        "id": "SMcp0PfUlZRm"
      },
      "execution_count": 235,
      "outputs": []
    },
    {
      "cell_type": "code",
      "source": [
        "new_df"
      ],
      "metadata": {
        "colab": {
          "base_uri": "https://localhost:8080/",
          "height": 424
        },
        "id": "iZ38cF9al68N",
        "outputId": "6fa052c1-e179-40e9-9f53-ed820c98ad16"
      },
      "execution_count": 236,
      "outputs": [
        {
          "output_type": "execute_result",
          "data": {
            "text/plain": [
              "      ID  label_1  label_2  label_3  label_4\n",
              "0      1       26     22.0        0        2\n",
              "1      2       18     25.0        1        8\n",
              "2      3       16     30.0        1        6\n",
              "3      4        7     27.0        1        6\n",
              "4      5       58     29.0        0        6\n",
              "..   ...      ...      ...      ...      ...\n",
              "739  740        5     26.0        1        6\n",
              "740  741       35     24.0        1        2\n",
              "741  742       54     25.0        1        6\n",
              "742  743       38     32.0        1       12\n",
              "743  744       51     26.0        1        6\n",
              "\n",
              "[744 rows x 5 columns]"
            ],
            "text/html": [
              "\n",
              "  <div id=\"df-6d415c1e-5d41-47c3-a12a-8d3d26beab9a\" class=\"colab-df-container\">\n",
              "    <div>\n",
              "<style scoped>\n",
              "    .dataframe tbody tr th:only-of-type {\n",
              "        vertical-align: middle;\n",
              "    }\n",
              "\n",
              "    .dataframe tbody tr th {\n",
              "        vertical-align: top;\n",
              "    }\n",
              "\n",
              "    .dataframe thead th {\n",
              "        text-align: right;\n",
              "    }\n",
              "</style>\n",
              "<table border=\"1\" class=\"dataframe\">\n",
              "  <thead>\n",
              "    <tr style=\"text-align: right;\">\n",
              "      <th></th>\n",
              "      <th>ID</th>\n",
              "      <th>label_1</th>\n",
              "      <th>label_2</th>\n",
              "      <th>label_3</th>\n",
              "      <th>label_4</th>\n",
              "    </tr>\n",
              "  </thead>\n",
              "  <tbody>\n",
              "    <tr>\n",
              "      <th>0</th>\n",
              "      <td>1</td>\n",
              "      <td>26</td>\n",
              "      <td>22.0</td>\n",
              "      <td>0</td>\n",
              "      <td>2</td>\n",
              "    </tr>\n",
              "    <tr>\n",
              "      <th>1</th>\n",
              "      <td>2</td>\n",
              "      <td>18</td>\n",
              "      <td>25.0</td>\n",
              "      <td>1</td>\n",
              "      <td>8</td>\n",
              "    </tr>\n",
              "    <tr>\n",
              "      <th>2</th>\n",
              "      <td>3</td>\n",
              "      <td>16</td>\n",
              "      <td>30.0</td>\n",
              "      <td>1</td>\n",
              "      <td>6</td>\n",
              "    </tr>\n",
              "    <tr>\n",
              "      <th>3</th>\n",
              "      <td>4</td>\n",
              "      <td>7</td>\n",
              "      <td>27.0</td>\n",
              "      <td>1</td>\n",
              "      <td>6</td>\n",
              "    </tr>\n",
              "    <tr>\n",
              "      <th>4</th>\n",
              "      <td>5</td>\n",
              "      <td>58</td>\n",
              "      <td>29.0</td>\n",
              "      <td>0</td>\n",
              "      <td>6</td>\n",
              "    </tr>\n",
              "    <tr>\n",
              "      <th>...</th>\n",
              "      <td>...</td>\n",
              "      <td>...</td>\n",
              "      <td>...</td>\n",
              "      <td>...</td>\n",
              "      <td>...</td>\n",
              "    </tr>\n",
              "    <tr>\n",
              "      <th>739</th>\n",
              "      <td>740</td>\n",
              "      <td>5</td>\n",
              "      <td>26.0</td>\n",
              "      <td>1</td>\n",
              "      <td>6</td>\n",
              "    </tr>\n",
              "    <tr>\n",
              "      <th>740</th>\n",
              "      <td>741</td>\n",
              "      <td>35</td>\n",
              "      <td>24.0</td>\n",
              "      <td>1</td>\n",
              "      <td>2</td>\n",
              "    </tr>\n",
              "    <tr>\n",
              "      <th>741</th>\n",
              "      <td>742</td>\n",
              "      <td>54</td>\n",
              "      <td>25.0</td>\n",
              "      <td>1</td>\n",
              "      <td>6</td>\n",
              "    </tr>\n",
              "    <tr>\n",
              "      <th>742</th>\n",
              "      <td>743</td>\n",
              "      <td>38</td>\n",
              "      <td>32.0</td>\n",
              "      <td>1</td>\n",
              "      <td>12</td>\n",
              "    </tr>\n",
              "    <tr>\n",
              "      <th>743</th>\n",
              "      <td>744</td>\n",
              "      <td>51</td>\n",
              "      <td>26.0</td>\n",
              "      <td>1</td>\n",
              "      <td>6</td>\n",
              "    </tr>\n",
              "  </tbody>\n",
              "</table>\n",
              "<p>744 rows × 5 columns</p>\n",
              "</div>\n",
              "    <div class=\"colab-df-buttons\">\n",
              "\n",
              "  <div class=\"colab-df-container\">\n",
              "    <button class=\"colab-df-convert\" onclick=\"convertToInteractive('df-6d415c1e-5d41-47c3-a12a-8d3d26beab9a')\"\n",
              "            title=\"Convert this dataframe to an interactive table.\"\n",
              "            style=\"display:none;\">\n",
              "\n",
              "  <svg xmlns=\"http://www.w3.org/2000/svg\" height=\"24px\" viewBox=\"0 -960 960 960\">\n",
              "    <path d=\"M120-120v-720h720v720H120Zm60-500h600v-160H180v160Zm220 220h160v-160H400v160Zm0 220h160v-160H400v160ZM180-400h160v-160H180v160Zm440 0h160v-160H620v160ZM180-180h160v-160H180v160Zm440 0h160v-160H620v160Z\"/>\n",
              "  </svg>\n",
              "    </button>\n",
              "\n",
              "  <style>\n",
              "    .colab-df-container {\n",
              "      display:flex;\n",
              "      gap: 12px;\n",
              "    }\n",
              "\n",
              "    .colab-df-convert {\n",
              "      background-color: #E8F0FE;\n",
              "      border: none;\n",
              "      border-radius: 50%;\n",
              "      cursor: pointer;\n",
              "      display: none;\n",
              "      fill: #1967D2;\n",
              "      height: 32px;\n",
              "      padding: 0 0 0 0;\n",
              "      width: 32px;\n",
              "    }\n",
              "\n",
              "    .colab-df-convert:hover {\n",
              "      background-color: #E2EBFA;\n",
              "      box-shadow: 0px 1px 2px rgba(60, 64, 67, 0.3), 0px 1px 3px 1px rgba(60, 64, 67, 0.15);\n",
              "      fill: #174EA6;\n",
              "    }\n",
              "\n",
              "    .colab-df-buttons div {\n",
              "      margin-bottom: 4px;\n",
              "    }\n",
              "\n",
              "    [theme=dark] .colab-df-convert {\n",
              "      background-color: #3B4455;\n",
              "      fill: #D2E3FC;\n",
              "    }\n",
              "\n",
              "    [theme=dark] .colab-df-convert:hover {\n",
              "      background-color: #434B5C;\n",
              "      box-shadow: 0px 1px 3px 1px rgba(0, 0, 0, 0.15);\n",
              "      filter: drop-shadow(0px 1px 2px rgba(0, 0, 0, 0.3));\n",
              "      fill: #FFFFFF;\n",
              "    }\n",
              "  </style>\n",
              "\n",
              "    <script>\n",
              "      const buttonEl =\n",
              "        document.querySelector('#df-6d415c1e-5d41-47c3-a12a-8d3d26beab9a button.colab-df-convert');\n",
              "      buttonEl.style.display =\n",
              "        google.colab.kernel.accessAllowed ? 'block' : 'none';\n",
              "\n",
              "      async function convertToInteractive(key) {\n",
              "        const element = document.querySelector('#df-6d415c1e-5d41-47c3-a12a-8d3d26beab9a');\n",
              "        const dataTable =\n",
              "          await google.colab.kernel.invokeFunction('convertToInteractive',\n",
              "                                                    [key], {});\n",
              "        if (!dataTable) return;\n",
              "\n",
              "        const docLinkHtml = 'Like what you see? Visit the ' +\n",
              "          '<a target=\"_blank\" href=https://colab.research.google.com/notebooks/data_table.ipynb>data table notebook</a>'\n",
              "          + ' to learn more about interactive tables.';\n",
              "        element.innerHTML = '';\n",
              "        dataTable['output_type'] = 'display_data';\n",
              "        await google.colab.output.renderOutput(dataTable, element);\n",
              "        const docLink = document.createElement('div');\n",
              "        docLink.innerHTML = docLinkHtml;\n",
              "        element.appendChild(docLink);\n",
              "      }\n",
              "    </script>\n",
              "  </div>\n",
              "\n",
              "\n",
              "<div id=\"df-a2a32aa0-397e-4f1d-8f29-861a597bcb71\">\n",
              "  <button class=\"colab-df-quickchart\" onclick=\"quickchart('df-a2a32aa0-397e-4f1d-8f29-861a597bcb71')\"\n",
              "            title=\"Suggest charts.\"\n",
              "            style=\"display:none;\">\n",
              "\n",
              "<svg xmlns=\"http://www.w3.org/2000/svg\" height=\"24px\"viewBox=\"0 0 24 24\"\n",
              "     width=\"24px\">\n",
              "    <g>\n",
              "        <path d=\"M19 3H5c-1.1 0-2 .9-2 2v14c0 1.1.9 2 2 2h14c1.1 0 2-.9 2-2V5c0-1.1-.9-2-2-2zM9 17H7v-7h2v7zm4 0h-2V7h2v10zm4 0h-2v-4h2v4z\"/>\n",
              "    </g>\n",
              "</svg>\n",
              "  </button>\n",
              "\n",
              "<style>\n",
              "  .colab-df-quickchart {\n",
              "      --bg-color: #E8F0FE;\n",
              "      --fill-color: #1967D2;\n",
              "      --hover-bg-color: #E2EBFA;\n",
              "      --hover-fill-color: #174EA6;\n",
              "      --disabled-fill-color: #AAA;\n",
              "      --disabled-bg-color: #DDD;\n",
              "  }\n",
              "\n",
              "  [theme=dark] .colab-df-quickchart {\n",
              "      --bg-color: #3B4455;\n",
              "      --fill-color: #D2E3FC;\n",
              "      --hover-bg-color: #434B5C;\n",
              "      --hover-fill-color: #FFFFFF;\n",
              "      --disabled-bg-color: #3B4455;\n",
              "      --disabled-fill-color: #666;\n",
              "  }\n",
              "\n",
              "  .colab-df-quickchart {\n",
              "    background-color: var(--bg-color);\n",
              "    border: none;\n",
              "    border-radius: 50%;\n",
              "    cursor: pointer;\n",
              "    display: none;\n",
              "    fill: var(--fill-color);\n",
              "    height: 32px;\n",
              "    padding: 0;\n",
              "    width: 32px;\n",
              "  }\n",
              "\n",
              "  .colab-df-quickchart:hover {\n",
              "    background-color: var(--hover-bg-color);\n",
              "    box-shadow: 0 1px 2px rgba(60, 64, 67, 0.3), 0 1px 3px 1px rgba(60, 64, 67, 0.15);\n",
              "    fill: var(--button-hover-fill-color);\n",
              "  }\n",
              "\n",
              "  .colab-df-quickchart-complete:disabled,\n",
              "  .colab-df-quickchart-complete:disabled:hover {\n",
              "    background-color: var(--disabled-bg-color);\n",
              "    fill: var(--disabled-fill-color);\n",
              "    box-shadow: none;\n",
              "  }\n",
              "\n",
              "  .colab-df-spinner {\n",
              "    border: 2px solid var(--fill-color);\n",
              "    border-color: transparent;\n",
              "    border-bottom-color: var(--fill-color);\n",
              "    animation:\n",
              "      spin 1s steps(1) infinite;\n",
              "  }\n",
              "\n",
              "  @keyframes spin {\n",
              "    0% {\n",
              "      border-color: transparent;\n",
              "      border-bottom-color: var(--fill-color);\n",
              "      border-left-color: var(--fill-color);\n",
              "    }\n",
              "    20% {\n",
              "      border-color: transparent;\n",
              "      border-left-color: var(--fill-color);\n",
              "      border-top-color: var(--fill-color);\n",
              "    }\n",
              "    30% {\n",
              "      border-color: transparent;\n",
              "      border-left-color: var(--fill-color);\n",
              "      border-top-color: var(--fill-color);\n",
              "      border-right-color: var(--fill-color);\n",
              "    }\n",
              "    40% {\n",
              "      border-color: transparent;\n",
              "      border-right-color: var(--fill-color);\n",
              "      border-top-color: var(--fill-color);\n",
              "    }\n",
              "    60% {\n",
              "      border-color: transparent;\n",
              "      border-right-color: var(--fill-color);\n",
              "    }\n",
              "    80% {\n",
              "      border-color: transparent;\n",
              "      border-right-color: var(--fill-color);\n",
              "      border-bottom-color: var(--fill-color);\n",
              "    }\n",
              "    90% {\n",
              "      border-color: transparent;\n",
              "      border-bottom-color: var(--fill-color);\n",
              "    }\n",
              "  }\n",
              "</style>\n",
              "\n",
              "  <script>\n",
              "    async function quickchart(key) {\n",
              "      const quickchartButtonEl =\n",
              "        document.querySelector('#' + key + ' button');\n",
              "      quickchartButtonEl.disabled = true;  // To prevent multiple clicks.\n",
              "      quickchartButtonEl.classList.add('colab-df-spinner');\n",
              "      try {\n",
              "        const charts = await google.colab.kernel.invokeFunction(\n",
              "            'suggestCharts', [key], {});\n",
              "      } catch (error) {\n",
              "        console.error('Error during call to suggestCharts:', error);\n",
              "      }\n",
              "      quickchartButtonEl.classList.remove('colab-df-spinner');\n",
              "      quickchartButtonEl.classList.add('colab-df-quickchart-complete');\n",
              "    }\n",
              "    (() => {\n",
              "      let quickchartButtonEl =\n",
              "        document.querySelector('#df-a2a32aa0-397e-4f1d-8f29-861a597bcb71 button');\n",
              "      quickchartButtonEl.style.display =\n",
              "        google.colab.kernel.accessAllowed ? 'block' : 'none';\n",
              "    })();\n",
              "  </script>\n",
              "</div>\n",
              "    </div>\n",
              "  </div>\n"
            ]
          },
          "metadata": {},
          "execution_count": 236
        }
      ]
    },
    {
      "cell_type": "code",
      "source": [
        "new_df.to_csv('ML_project_layer_9.csv',index=False)"
      ],
      "metadata": {
        "id": "Cz6bb9XJmDlA"
      },
      "execution_count": 237,
      "outputs": []
    },
    {
      "cell_type": "code",
      "source": [],
      "metadata": {
        "id": "xKZpp5fwms0U"
      },
      "execution_count": null,
      "outputs": []
    }
  ]
}